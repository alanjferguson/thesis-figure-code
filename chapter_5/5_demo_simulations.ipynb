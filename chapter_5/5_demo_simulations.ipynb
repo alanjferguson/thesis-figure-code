{
 "cells": [
  {
   "cell_type": "code",
   "execution_count": 2,
   "id": "603bd5d2-3274-4998-a32d-db2bc3b399fa",
   "metadata": {},
   "outputs": [],
   "source": [
    "import pickle\n",
    "\n",
    "import matplotlib as mpl\n",
    "import matplotlib.pyplot as plt\n",
    "import numpy as np\n",
    "import pandas as pd\n",
    "from bridge_fe_models import *\n",
    "from scipy import signal\n",
    "\n",
    "F_SIM = 1024\n",
    "import ajf_noise_model\n",
    "\n",
    "#ajf_noise_model.initialise(req_Fs=F_SIM)\n",
    "\n",
    "import ajf_plts\n",
    "\n",
    "SEED = ajf_plts.get_seed(\"5_demo_simulations.ipynb\")\n",
    "\n",
    "plt.style.use([\"./ajf_plts/base.mplstyle\", \"./ajf_plts/legend_frame.mplstyle\"])"
   ]
  },
  {
   "cell_type": "markdown",
   "id": "ac7d5551-fca5-4561-b638-674f278ae87f",
   "metadata": {},
   "source": [
    "# Load input vehicle and temperature data"
   ]
  },
  {
   "cell_type": "code",
   "execution_count": 3,
   "id": "8f3c7f6f-b6ae-40ba-a1bc-f03f1075e1d6",
   "metadata": {},
   "outputs": [],
   "source": [
    "in_df = pd.read_parquet(\"./vehicle_loads.parquet\")"
   ]
  },
  {
   "cell_type": "markdown",
   "id": "f0e41877-7d1e-44f4-966e-902acf99985b",
   "metadata": {
    "tags": []
   },
   "source": [
    "# Load FE model"
   ]
  },
  {
   "cell_type": "code",
   "execution_count": 4,
   "id": "5684c457-c88a-443e-8123-868ec73ff8f6",
   "metadata": {},
   "outputs": [],
   "source": [
    "beam = construct_model_LB()"
   ]
  },
  {
   "cell_type": "code",
   "execution_count": 5,
   "id": "5f279016-a7b4-4358-9947-28c00f852b45",
   "metadata": {},
   "outputs": [],
   "source": [
    "row = in_df.loc[1]"
   ]
  },
  {
   "cell_type": "code",
   "execution_count": 7,
   "id": "0aafb160-7a45-4eed-9517-4f88b49e0d79",
   "metadata": {},
   "outputs": [
    {
     "data": {
      "text/plain": [
       "seq_month          0.000000e+00\n",
       "year               0.000000e+00\n",
       "month              0.000000e+00\n",
       "day                1.000000e+00\n",
       "hour               4.000000e+00\n",
       "minute             4.300000e+01\n",
       "dayofweek          6.000000e+00\n",
       "air_temperature    3.555000e+00\n",
       "freq               5.795990e+00\n",
       "E_val              2.892656e+10\n",
       "AxleCount          3.000000e+00\n",
       "W1                 1.186605e+05\n",
       "W2                 1.137571e+05\n",
       "W3                 6.864655e+04\n",
       "W4                 0.000000e+00\n",
       "W5                 0.000000e+00\n",
       "W6                 0.000000e+00\n",
       "S0                 0.000000e+00\n",
       "S1                 4.500000e+00\n",
       "S2                 5.850000e+00\n",
       "S3                          NaN\n",
       "S4                          NaN\n",
       "S5                          NaN\n",
       "speed              2.400000e+01\n",
       "Name: 1, dtype: float64"
      ]
     },
     "execution_count": 7,
     "metadata": {},
     "output_type": "execute_result"
    }
   ],
   "source": [
    "row"
   ]
  },
  {
   "cell_type": "code",
   "execution_count": 6,
   "id": "c5506e84-185f-41ff-934c-7163aaf40c1f",
   "metadata": {},
   "outputs": [
    {
     "ename": "AttributeError",
     "evalue": "'Series' object has no attribute 'ax_weights'",
     "output_type": "error",
     "traceback": [
      "\u001b[0;31m---------------------------------------------------------------------------\u001b[0m",
      "\u001b[0;31mAttributeError\u001b[0m                            Traceback (most recent call last)",
      "Input \u001b[0;32mIn [6]\u001b[0m, in \u001b[0;36m<cell line: 12>\u001b[0;34m()\u001b[0m\n\u001b[1;32m     14\u001b[0m beam\u001b[38;5;241m.\u001b[39madd_crack_damage(x_dam, d)\n\u001b[1;32m     15\u001b[0m beam\u001b[38;5;241m.\u001b[39mupdate_model(w_1\u001b[38;5;241m=\u001b[39m\u001b[38;5;241m2.0\u001b[39m \u001b[38;5;241m*\u001b[39m np\u001b[38;5;241m.\u001b[39mpi \u001b[38;5;241m*\u001b[39m row\u001b[38;5;241m.\u001b[39mfreq)\n\u001b[1;32m     17\u001b[0m _, stat_disp \u001b[38;5;241m=\u001b[39m beam\u001b[38;5;241m.\u001b[39mperform_static_sim(\n\u001b[0;32m---> 18\u001b[0m     \u001b[43mrow\u001b[49m\u001b[38;5;241;43m.\u001b[39;49m\u001b[43max_weights\u001b[49m,\n\u001b[1;32m     19\u001b[0m     row\u001b[38;5;241m.\u001b[39max_spacing,\n\u001b[1;32m     20\u001b[0m     force_step\u001b[38;5;241m=\u001b[39mrow\u001b[38;5;241m.\u001b[39mspeed \u001b[38;5;241m/\u001b[39m F_SIM,\n\u001b[1;32m     21\u001b[0m     pad_steps\u001b[38;5;241m=\u001b[39m\u001b[38;5;241m1\u001b[39m \u001b[38;5;241m*\u001b[39m \u001b[38;5;28mint\u001b[39m(F_SIM),\n\u001b[1;32m     22\u001b[0m )\n\u001b[1;32m     24\u001b[0m time, disp, _, _ \u001b[38;5;241m=\u001b[39m beam\u001b[38;5;241m.\u001b[39mperform_dynamic_sim(\n\u001b[1;32m     25\u001b[0m     row\u001b[38;5;241m.\u001b[39max_weights,\n\u001b[1;32m     26\u001b[0m     row\u001b[38;5;241m.\u001b[39max_spacing,\n\u001b[0;32m   (...)\u001b[0m\n\u001b[1;32m     29\u001b[0m     pad_steps\u001b[38;5;241m=\u001b[39m\u001b[38;5;241m1\u001b[39m \u001b[38;5;241m*\u001b[39m \u001b[38;5;28mint\u001b[39m(F_SIM),\n\u001b[1;32m     30\u001b[0m )\n\u001b[1;32m     31\u001b[0m times\u001b[38;5;241m.\u001b[39mappend(time)\n",
      "File \u001b[0;32m~/ajf_conda_envs/r_python310/lib/python3.10/site-packages/pandas/core/generic.py:5575\u001b[0m, in \u001b[0;36mNDFrame.__getattr__\u001b[0;34m(self, name)\u001b[0m\n\u001b[1;32m   5568\u001b[0m \u001b[38;5;28;01mif\u001b[39;00m (\n\u001b[1;32m   5569\u001b[0m     name \u001b[38;5;129;01mnot\u001b[39;00m \u001b[38;5;129;01min\u001b[39;00m \u001b[38;5;28mself\u001b[39m\u001b[38;5;241m.\u001b[39m_internal_names_set\n\u001b[1;32m   5570\u001b[0m     \u001b[38;5;129;01mand\u001b[39;00m name \u001b[38;5;129;01mnot\u001b[39;00m \u001b[38;5;129;01min\u001b[39;00m \u001b[38;5;28mself\u001b[39m\u001b[38;5;241m.\u001b[39m_metadata\n\u001b[1;32m   5571\u001b[0m     \u001b[38;5;129;01mand\u001b[39;00m name \u001b[38;5;129;01mnot\u001b[39;00m \u001b[38;5;129;01min\u001b[39;00m \u001b[38;5;28mself\u001b[39m\u001b[38;5;241m.\u001b[39m_accessors\n\u001b[1;32m   5572\u001b[0m     \u001b[38;5;129;01mand\u001b[39;00m \u001b[38;5;28mself\u001b[39m\u001b[38;5;241m.\u001b[39m_info_axis\u001b[38;5;241m.\u001b[39m_can_hold_identifiers_and_holds_name(name)\n\u001b[1;32m   5573\u001b[0m ):\n\u001b[1;32m   5574\u001b[0m     \u001b[38;5;28;01mreturn\u001b[39;00m \u001b[38;5;28mself\u001b[39m[name]\n\u001b[0;32m-> 5575\u001b[0m \u001b[38;5;28;01mreturn\u001b[39;00m \u001b[38;5;28;43mobject\u001b[39;49m\u001b[38;5;241;43m.\u001b[39;49m\u001b[38;5;21;43m__getattribute__\u001b[39;49m\u001b[43m(\u001b[49m\u001b[38;5;28;43mself\u001b[39;49m\u001b[43m,\u001b[49m\u001b[43m \u001b[49m\u001b[43mname\u001b[49m\u001b[43m)\u001b[49m\n",
      "\u001b[0;31mAttributeError\u001b[0m: 'Series' object has no attribute 'ax_weights'"
     ]
    }
   ],
   "source": [
    "beam.E = row.E_val\n",
    "beam.update_model(w_1=2.0 * np.pi * row.freq)\n",
    "\n",
    "x_dam = LB_span_length / 3.0\n",
    "deltas = [0.0, 0.2]\n",
    "\n",
    "\n",
    "times = []\n",
    "disps = []\n",
    "stat_disps = []\n",
    "\n",
    "for d in deltas:\n",
    "    beam.reset_crack_damage()\n",
    "    beam.add_crack_damage(x_dam, d)\n",
    "    beam.update_model(w_1=2.0 * np.pi * row.freq)\n",
    "\n",
    "    _, stat_disp = beam.perform_static_sim(\n",
    "        row.ax_weights,\n",
    "        row.ax_spacing,\n",
    "        force_step=row.speed / F_SIM,\n",
    "        pad_steps=1 * int(F_SIM),\n",
    "    )\n",
    "\n",
    "    time, disp, _, _ = beam.perform_dynamic_sim(\n",
    "        row['W1','W2','W3','W4','W5'],\n",
    "        row.ax_spacing,\n",
    "        row.speed,\n",
    "        time_step=1.0 / F_SIM,\n",
    "        pad_steps=1 * int(F_SIM),\n",
    "    )\n",
    "    times.append(time)\n",
    "    disps.append(disp)\n",
    "    stat_disps.append(stat_disp)"
   ]
  },
  {
   "cell_type": "code",
   "execution_count": null,
   "id": "ab68c47f-9876-47c1-b03b-791cc4fbc6c4",
   "metadata": {},
   "outputs": [],
   "source": [
    "%matplotlib widget\n",
    "\n",
    "figsize = (ajf_plts.text_width_inches, 4.5 * ajf_plts.fig_height_inches)\n",
    "fig, axes = plt.subplots(figsize=figsize, nrows=4, ncols=2)\n",
    "\n",
    "axes = axes.ravel()\n",
    "\n",
    "dofs = [beam.x_pos_to_rot_dof(x) for x in [0, LB_span_length]]\n",
    "\n",
    "for i, dof in enumerate(dofs):\n",
    "    for j, d in enumerate(deltas):\n",
    "        rot = disps[j][dof]\n",
    "        # PAD + ADD NOISE\n",
    "        noisy = ajf_noise_model.add_noise(s=rot, use_g=True)\n",
    "\n",
    "        # FILTER\n",
    "        sos = signal.iirfilter(\n",
    "            N=6,\n",
    "            Wn=1.0,  # [0.05, 1.0],\n",
    "            btype=\"lowpass\",\n",
    "            ftype=\"butter\",\n",
    "            analog=False,\n",
    "            fs=F_SIM,\n",
    "            output=\"sos\",\n",
    "        )\n",
    "        filt = signal.sosfiltfilt(sos, noisy)\n",
    "        filt -= np.quantile(filt, 0.99 if i % 2 else 0.05)\n",
    "\n",
    "        axes[i].plot(times[j], 1e6 * rot, label=rf\"$\\delta={d:1.1f}$\")\n",
    "        axes[i + 2].plot(times[j], 1e3 * noisy, label=rf\"$\\delta={d:1.1f}$\")\n",
    "        axes[i + 4].plot(\n",
    "            times[j],\n",
    "            1e6 * filt,\n",
    "            label=rf\"$\\delta={d:1.1f}$\",\n",
    "        )\n",
    "        axes[i + 6].plot(\n",
    "            times[j][:-1], 1e6 * stat_disps[j][dof], label=rf\"$\\delta={d:1.1f}$\"\n",
    "        )\n",
    "\n",
    "for ax, loc in zip(axes, 4 * [\"LHS Abutment\", \"RHS Abutment\"]):\n",
    "    ax.set_xlabel(\"Time / s\")\n",
    "    ax.set_ylabel(r\"Rotation / \\unit{\\micro\\radian}\")\n",
    "    ax.set_title(loc)\n",
    "    ax.legend(handlelength=1.25, handletextpad=0.4, borderpad=0.2)\n",
    "\n",
    "ajf_plts.caption_axes(axes)\n",
    "fig.tight_layout()"
   ]
  },
  {
   "cell_type": "markdown",
   "id": "8e6c7d54-d55e-4038-b274-d81a785185f4",
   "metadata": {},
   "source": [
    "# Gracehill"
   ]
  },
  {
   "cell_type": "code",
   "execution_count": null,
   "id": "dd5b4ff4-0220-4f0d-a75e-26aa08b99c8b",
   "metadata": {},
   "outputs": [],
   "source": [
    "beam = construct_model_GH()"
   ]
  },
  {
   "cell_type": "code",
   "execution_count": null,
   "id": "7af4f05e-61be-41fd-8280-a7f8a3664dd4",
   "metadata": {},
   "outputs": [],
   "source": [
    "beam.E = row.E_val\n",
    "beam.update_model(w_1=2.0 * np.pi * row.freq)\n",
    "\n",
    "x_dam = GH_side_span_length + GH_center_span_length / 3.0\n",
    "deltas = [0.0, 0.2]\n",
    "\n",
    "\n",
    "times = []\n",
    "disps = []\n",
    "stat_disps = []\n",
    "\n",
    "for d in deltas:\n",
    "    beam.reset_crack_damage()\n",
    "    beam.add_crack_damage(x_dam, d)\n",
    "    beam.update_model(w_1=2.0 * np.pi * row.freq)\n",
    "\n",
    "    _, stat_disp = beam.perform_static_sim(\n",
    "        row.ax_weights,\n",
    "        row.ax_spacing,\n",
    "        force_step=row.speed / F_SIM,\n",
    "        pad_steps=1 * int(F_SIM),\n",
    "    )\n",
    "\n",
    "    time, disp, _, _ = beam.perform_dynamic_sim(\n",
    "        row.ax_weights,\n",
    "        row.ax_spacing,\n",
    "        row.speed,\n",
    "        time_step=1.0 / F_SIM,\n",
    "        pad_steps=1 * int(F_SIM),\n",
    "    )\n",
    "    times.append(time)\n",
    "    disps.append(disp)\n",
    "    stat_disps.append(stat_disp)"
   ]
  },
  {
   "cell_type": "code",
   "execution_count": null,
   "id": "2cbf200e-6099-4bfa-9f65-ef071da90423",
   "metadata": {},
   "outputs": [],
   "source": [
    "%matplotlib widget\n",
    "\n",
    "figsize = (ajf_plts.text_width_inches, 4.5 * ajf_plts.fig_height_inches)\n",
    "fig, axes = plt.subplots(figsize=figsize, nrows=4, ncols=2)\n",
    "\n",
    "axes = axes.ravel()\n",
    "\n",
    "dofs = [\n",
    "    beam.x_pos_to_rot_dof(x)\n",
    "    for x in [GH_side_span_length, GH_side_span_length + GH_center_span_length]\n",
    "]\n",
    "\n",
    "for i, dof in enumerate(dofs):\n",
    "    for j, d in enumerate(deltas):\n",
    "        rot = disps[j][dof]\n",
    "        # PAD + ADD NOISE\n",
    "        noisy = ajf_noise_model.add_noise(s=rot, use_g=True)\n",
    "\n",
    "        # FILTER\n",
    "        sos = signal.iirfilter(\n",
    "            N=6,\n",
    "            Wn=1.0,  # [0.05, 1.0],\n",
    "            btype=\"lowpass\",\n",
    "            ftype=\"butter\",\n",
    "            analog=False,\n",
    "            fs=F_SIM,\n",
    "            output=\"sos\",\n",
    "        )\n",
    "        filt = signal.sosfiltfilt(sos, noisy)\n",
    "        filt -= np.quantile(filt, 0.99 if i % 2 else 0.05)\n",
    "\n",
    "        axes[i].plot(times[j], 1e6 * rot, label=rf\"$\\delta={d:1.1f}$\")\n",
    "        axes[i + 2].plot(times[j], 1e3 * noisy, label=rf\"$\\delta={d:1.1f}$\")\n",
    "        axes[i + 4].plot(\n",
    "            times[j],\n",
    "            1e6 * filt,\n",
    "            label=rf\"$\\delta={d:1.1f}$\",\n",
    "        )\n",
    "        axes[i + 6].plot(\n",
    "            times[j][:-1], 1e6 * stat_disps[j][dof], label=rf\"$\\delta={d:1.1f}$\"\n",
    "        )\n",
    "\n",
    "for ax, loc in zip(axes, 4 * [\"L Pier\", \"R Pier\"]):\n",
    "    ax.set_xlabel(\"Time / s\")\n",
    "    ax.set_ylabel(r\"Rotation / \\unit{\\micro\\radian}\")\n",
    "    ax.set_title(loc)\n",
    "    ax.legend(handlelength=1.25, handletextpad=0.4, borderpad=0.2)\n",
    "\n",
    "ajf_plts.caption_axes(axes)\n",
    "fig.tight_layout()"
   ]
  }
 ],
 "metadata": {
  "kernelspec": {
   "display_name": "Python 3 (ipykernel)",
   "language": "python",
   "name": "python3"
  },
  "language_info": {
   "codemirror_mode": {
    "name": "ipython",
    "version": 3
   },
   "file_extension": ".py",
   "mimetype": "text/x-python",
   "name": "python",
   "nbconvert_exporter": "python",
   "pygments_lexer": "ipython3",
   "version": "3.10.8"
  }
 },
 "nbformat": 4,
 "nbformat_minor": 5
}
