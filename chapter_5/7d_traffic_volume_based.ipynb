{
 "cells": [
  {
   "cell_type": "code",
   "execution_count": 1,
   "id": "603bd5d2-3274-4998-a32d-db2bc3b399fa",
   "metadata": {},
   "outputs": [
    {
     "name": "stdout",
     "output_type": "stream",
     "text": [
      "INFO: Pandarallel will run on 8 workers.\n",
      "INFO: Pandarallel will use Memory file system to transfer data between the main process and workers.\n"
     ]
    }
   ],
   "source": [
    "import copy\n",
    "import pickle\n",
    "\n",
    "import ajf_utils\n",
    "import matplotlib as mpl\n",
    "import matplotlib.pyplot as plt\n",
    "import numpy as np\n",
    "import pandas as pd\n",
    "from ajf_bridge_fem import *\n",
    "from pandarallel import pandarallel\n",
    "from scipy import stats\n",
    "\n",
    "import ajf_plts\n",
    "\n",
    "pandarallel.initialize(progress_bar=True)"
   ]
  },
  {
   "cell_type": "markdown",
   "id": "0e58670f-559d-4a7d-9d9c-5005ae45618f",
   "metadata": {},
   "source": [
    "# Load temperature data"
   ]
  },
  {
   "cell_type": "code",
   "execution_count": 2,
   "id": "190cdb04-9d5c-46d1-b6a4-7c1af0a3a687",
   "metadata": {},
   "outputs": [],
   "source": [
    "keep_cols = [\"air_temperature\", \"year\", \"seq_month\", \"day\", \"hour\"]\n",
    "temp_data = pd.read_parquet(\"temp-freq-e_val.parquet\").loc[:, keep_cols]"
   ]
  },
  {
   "cell_type": "code",
   "execution_count": 3,
   "id": "38b7fe22-fa93-42bb-93ae-94618acefa50",
   "metadata": {},
   "outputs": [
    {
     "data": {
      "text/html": [
       "<div>\n",
       "<style scoped>\n",
       "    .dataframe tbody tr th:only-of-type {\n",
       "        vertical-align: middle;\n",
       "    }\n",
       "\n",
       "    .dataframe tbody tr th {\n",
       "        vertical-align: top;\n",
       "    }\n",
       "\n",
       "    .dataframe thead th {\n",
       "        text-align: right;\n",
       "    }\n",
       "</style>\n",
       "<table border=\"1\" class=\"dataframe\">\n",
       "  <thead>\n",
       "    <tr style=\"text-align: right;\">\n",
       "      <th></th>\n",
       "      <th>air_temperature</th>\n",
       "      <th>year</th>\n",
       "      <th>seq_month</th>\n",
       "      <th>day</th>\n",
       "      <th>hour</th>\n",
       "    </tr>\n",
       "  </thead>\n",
       "  <tbody>\n",
       "    <tr>\n",
       "      <th>0</th>\n",
       "      <td>3.9</td>\n",
       "      <td>0</td>\n",
       "      <td>0</td>\n",
       "      <td>1</td>\n",
       "      <td>0</td>\n",
       "    </tr>\n",
       "    <tr>\n",
       "      <th>1</th>\n",
       "      <td>4.7</td>\n",
       "      <td>0</td>\n",
       "      <td>0</td>\n",
       "      <td>1</td>\n",
       "      <td>1</td>\n",
       "    </tr>\n",
       "    <tr>\n",
       "      <th>2</th>\n",
       "      <td>5.0</td>\n",
       "      <td>0</td>\n",
       "      <td>0</td>\n",
       "      <td>1</td>\n",
       "      <td>2</td>\n",
       "    </tr>\n",
       "    <tr>\n",
       "      <th>3</th>\n",
       "      <td>4.8</td>\n",
       "      <td>0</td>\n",
       "      <td>0</td>\n",
       "      <td>1</td>\n",
       "      <td>3</td>\n",
       "    </tr>\n",
       "    <tr>\n",
       "      <th>4</th>\n",
       "      <td>4.2</td>\n",
       "      <td>0</td>\n",
       "      <td>0</td>\n",
       "      <td>1</td>\n",
       "      <td>4</td>\n",
       "    </tr>\n",
       "    <tr>\n",
       "      <th>...</th>\n",
       "      <td>...</td>\n",
       "      <td>...</td>\n",
       "      <td>...</td>\n",
       "      <td>...</td>\n",
       "      <td>...</td>\n",
       "    </tr>\n",
       "    <tr>\n",
       "      <th>534715</th>\n",
       "      <td>12.7</td>\n",
       "      <td>60</td>\n",
       "      <td>731</td>\n",
       "      <td>31</td>\n",
       "      <td>19</td>\n",
       "    </tr>\n",
       "    <tr>\n",
       "      <th>534716</th>\n",
       "      <td>12.9</td>\n",
       "      <td>60</td>\n",
       "      <td>731</td>\n",
       "      <td>31</td>\n",
       "      <td>20</td>\n",
       "    </tr>\n",
       "    <tr>\n",
       "      <th>534717</th>\n",
       "      <td>12.7</td>\n",
       "      <td>60</td>\n",
       "      <td>731</td>\n",
       "      <td>31</td>\n",
       "      <td>21</td>\n",
       "    </tr>\n",
       "    <tr>\n",
       "      <th>534718</th>\n",
       "      <td>12.2</td>\n",
       "      <td>60</td>\n",
       "      <td>731</td>\n",
       "      <td>31</td>\n",
       "      <td>22</td>\n",
       "    </tr>\n",
       "    <tr>\n",
       "      <th>534719</th>\n",
       "      <td>12.2</td>\n",
       "      <td>60</td>\n",
       "      <td>731</td>\n",
       "      <td>31</td>\n",
       "      <td>23</td>\n",
       "    </tr>\n",
       "  </tbody>\n",
       "</table>\n",
       "<p>534720 rows × 5 columns</p>\n",
       "</div>"
      ],
      "text/plain": [
       "        air_temperature  year  seq_month  day  hour\n",
       "0                   3.9     0          0    1     0\n",
       "1                   4.7     0          0    1     1\n",
       "2                   5.0     0          0    1     2\n",
       "3                   4.8     0          0    1     3\n",
       "4                   4.2     0          0    1     4\n",
       "...                 ...   ...        ...  ...   ...\n",
       "534715             12.7    60        731   31    19\n",
       "534716             12.9    60        731   31    20\n",
       "534717             12.7    60        731   31    21\n",
       "534718             12.2    60        731   31    22\n",
       "534719             12.2    60        731   31    23\n",
       "\n",
       "[534720 rows x 5 columns]"
      ]
     },
     "execution_count": 3,
     "metadata": {},
     "output_type": "execute_result"
    }
   ],
   "source": [
    "temp_data"
   ]
  },
  {
   "cell_type": "markdown",
   "id": "ac7d5551-fca5-4561-b638-674f278ae87f",
   "metadata": {},
   "source": [
    "# Load result data "
   ]
  },
  {
   "cell_type": "code",
   "execution_count": 5,
   "id": "4dd4282a-09b1-4c20-a4f8-32f453dcf069",
   "metadata": {},
   "outputs": [
    {
     "data": {
      "text/html": [
       "<div>\n",
       "<style scoped>\n",
       "    .dataframe tbody tr th:only-of-type {\n",
       "        vertical-align: middle;\n",
       "    }\n",
       "\n",
       "    .dataframe tbody tr th {\n",
       "        vertical-align: top;\n",
       "    }\n",
       "\n",
       "    .dataframe thead th {\n",
       "        text-align: right;\n",
       "    }\n",
       "</style>\n",
       "<table border=\"1\" class=\"dataframe\">\n",
       "  <thead>\n",
       "    <tr style=\"text-align: right;\">\n",
       "      <th></th>\n",
       "      <th>seq_month</th>\n",
       "      <th>year</th>\n",
       "      <th>month</th>\n",
       "      <th>day</th>\n",
       "      <th>hour</th>\n",
       "      <th>minute</th>\n",
       "      <th>dayofweek</th>\n",
       "      <th>air_temperature</th>\n",
       "      <th>freq</th>\n",
       "      <th>E_val</th>\n",
       "      <th>...</th>\n",
       "      <th>S3</th>\n",
       "      <th>S4</th>\n",
       "      <th>S5</th>\n",
       "      <th>speed</th>\n",
       "      <th>x_dam</th>\n",
       "      <th>delta</th>\n",
       "      <th>L_abut</th>\n",
       "      <th>L_pier</th>\n",
       "      <th>R_pier</th>\n",
       "      <th>R_abut</th>\n",
       "    </tr>\n",
       "  </thead>\n",
       "  <tbody>\n",
       "    <tr>\n",
       "      <th>0</th>\n",
       "      <td>0</td>\n",
       "      <td>0</td>\n",
       "      <td>0</td>\n",
       "      <td>1</td>\n",
       "      <td>1</td>\n",
       "      <td>36</td>\n",
       "      <td>6</td>\n",
       "      <td>4.880000</td>\n",
       "      <td>5.786878</td>\n",
       "      <td>2.883737e+10</td>\n",
       "      <td>...</td>\n",
       "      <td>10.85</td>\n",
       "      <td>NaN</td>\n",
       "      <td>NaN</td>\n",
       "      <td>23.0</td>\n",
       "      <td>17.733333</td>\n",
       "      <td>0.0</td>\n",
       "      <td>0.000138</td>\n",
       "      <td>0.000066</td>\n",
       "      <td>0.000062</td>\n",
       "      <td>0.000135</td>\n",
       "    </tr>\n",
       "    <tr>\n",
       "      <th>1</th>\n",
       "      <td>0</td>\n",
       "      <td>0</td>\n",
       "      <td>0</td>\n",
       "      <td>1</td>\n",
       "      <td>4</td>\n",
       "      <td>43</td>\n",
       "      <td>6</td>\n",
       "      <td>3.555000</td>\n",
       "      <td>5.795990</td>\n",
       "      <td>2.892656e+10</td>\n",
       "      <td>...</td>\n",
       "      <td>NaN</td>\n",
       "      <td>NaN</td>\n",
       "      <td>NaN</td>\n",
       "      <td>24.0</td>\n",
       "      <td>17.733333</td>\n",
       "      <td>0.0</td>\n",
       "      <td>0.000257</td>\n",
       "      <td>0.000126</td>\n",
       "      <td>0.000117</td>\n",
       "      <td>0.000246</td>\n",
       "    </tr>\n",
       "    <tr>\n",
       "      <th>2</th>\n",
       "      <td>0</td>\n",
       "      <td>0</td>\n",
       "      <td>0</td>\n",
       "      <td>1</td>\n",
       "      <td>5</td>\n",
       "      <td>10</td>\n",
       "      <td>6</td>\n",
       "      <td>3.216667</td>\n",
       "      <td>5.799653</td>\n",
       "      <td>2.896242e+10</td>\n",
       "      <td>...</td>\n",
       "      <td>NaN</td>\n",
       "      <td>NaN</td>\n",
       "      <td>NaN</td>\n",
       "      <td>28.0</td>\n",
       "      <td>17.733333</td>\n",
       "      <td>0.0</td>\n",
       "      <td>0.000117</td>\n",
       "      <td>0.000057</td>\n",
       "      <td>0.000055</td>\n",
       "      <td>0.000113</td>\n",
       "    </tr>\n",
       "    <tr>\n",
       "      <th>3</th>\n",
       "      <td>0</td>\n",
       "      <td>0</td>\n",
       "      <td>0</td>\n",
       "      <td>1</td>\n",
       "      <td>5</td>\n",
       "      <td>12</td>\n",
       "      <td>6</td>\n",
       "      <td>3.200000</td>\n",
       "      <td>5.799898</td>\n",
       "      <td>2.896483e+10</td>\n",
       "      <td>...</td>\n",
       "      <td>NaN</td>\n",
       "      <td>NaN</td>\n",
       "      <td>NaN</td>\n",
       "      <td>27.5</td>\n",
       "      <td>17.733333</td>\n",
       "      <td>0.0</td>\n",
       "      <td>0.000230</td>\n",
       "      <td>0.000096</td>\n",
       "      <td>0.000097</td>\n",
       "      <td>0.000221</td>\n",
       "    </tr>\n",
       "    <tr>\n",
       "      <th>4</th>\n",
       "      <td>0</td>\n",
       "      <td>0</td>\n",
       "      <td>0</td>\n",
       "      <td>1</td>\n",
       "      <td>6</td>\n",
       "      <td>57</td>\n",
       "      <td>6</td>\n",
       "      <td>3.655000</td>\n",
       "      <td>5.801216</td>\n",
       "      <td>2.897772e+10</td>\n",
       "      <td>...</td>\n",
       "      <td>NaN</td>\n",
       "      <td>NaN</td>\n",
       "      <td>NaN</td>\n",
       "      <td>25.5</td>\n",
       "      <td>17.733333</td>\n",
       "      <td>0.0</td>\n",
       "      <td>0.000120</td>\n",
       "      <td>0.000054</td>\n",
       "      <td>0.000053</td>\n",
       "      <td>0.000108</td>\n",
       "    </tr>\n",
       "  </tbody>\n",
       "</table>\n",
       "<p>5 rows × 30 columns</p>\n",
       "</div>"
      ],
      "text/plain": [
       "   seq_month  year  month  day  hour  minute  dayofweek  air_temperature  \\\n",
       "0          0     0      0    1     1      36          6         4.880000   \n",
       "1          0     0      0    1     4      43          6         3.555000   \n",
       "2          0     0      0    1     5      10          6         3.216667   \n",
       "3          0     0      0    1     5      12          6         3.200000   \n",
       "4          0     0      0    1     6      57          6         3.655000   \n",
       "\n",
       "       freq         E_val  ...     S3  S4  S5  speed      x_dam  delta  \\\n",
       "0  5.786878  2.883737e+10  ...  10.85 NaN NaN   23.0  17.733333    0.0   \n",
       "1  5.795990  2.892656e+10  ...    NaN NaN NaN   24.0  17.733333    0.0   \n",
       "2  5.799653  2.896242e+10  ...    NaN NaN NaN   28.0  17.733333    0.0   \n",
       "3  5.799898  2.896483e+10  ...    NaN NaN NaN   27.5  17.733333    0.0   \n",
       "4  5.801216  2.897772e+10  ...    NaN NaN NaN   25.5  17.733333    0.0   \n",
       "\n",
       "     L_abut    L_pier    R_pier    R_abut  \n",
       "0  0.000138  0.000066  0.000062  0.000135  \n",
       "1  0.000257  0.000126  0.000117  0.000246  \n",
       "2  0.000117  0.000057  0.000055  0.000113  \n",
       "3  0.000230  0.000096  0.000097  0.000221  \n",
       "4  0.000120  0.000054  0.000053  0.000108  \n",
       "\n",
       "[5 rows x 30 columns]"
      ]
     },
     "execution_count": 5,
     "metadata": {},
     "output_type": "execute_result"
    }
   ],
   "source": [
    "DAM_LOCS = [\"L\", \"R\"]\n",
    "RUN_ID = \"2023-01-29T12:51:27.214729_LB_0.02-step-delta\"\n",
    "\n",
    "MODEL = \"GH\"\n",
    "RUN_ID = \"2023-02-05T19:45:04.032244_GH_0.05-step-delta\"\n",
    "DAM_LOCS = [\"L_pier\", \"R_pier\"]\n",
    "\n",
    "all_data = (\n",
    "    pd.read_parquet(f\"./{RUN_ID}_w_error\")\n",
    "    .sort_values([\"year\", \"delta\"])\n",
    "    .reset_index(drop=True)\n",
    ")\n",
    "\n",
    "all_data.head()"
   ]
  },
  {
   "cell_type": "markdown",
   "id": "0b45fe89-af2f-4925-8aa5-b5c7b98b4c96",
   "metadata": {},
   "source": [
    "# Only keep columns we need to speed up computation"
   ]
  },
  {
   "cell_type": "code",
   "execution_count": 6,
   "id": "3d2f0781-1c7d-4489-ae0b-a1afa7a0bb3a",
   "metadata": {},
   "outputs": [
    {
     "data": {
      "text/html": [
       "<div>\n",
       "<style scoped>\n",
       "    .dataframe tbody tr th:only-of-type {\n",
       "        vertical-align: middle;\n",
       "    }\n",
       "\n",
       "    .dataframe tbody tr th {\n",
       "        vertical-align: top;\n",
       "    }\n",
       "\n",
       "    .dataframe thead th {\n",
       "        text-align: right;\n",
       "    }\n",
       "</style>\n",
       "<table border=\"1\" class=\"dataframe\">\n",
       "  <thead>\n",
       "    <tr style=\"text-align: right;\">\n",
       "      <th></th>\n",
       "      <th>delta</th>\n",
       "      <th>seq_month</th>\n",
       "      <th>year</th>\n",
       "      <th>month</th>\n",
       "      <th>day</th>\n",
       "      <th>hour</th>\n",
       "      <th>AxleCount</th>\n",
       "      <th>L_pier</th>\n",
       "      <th>R_pier</th>\n",
       "    </tr>\n",
       "  </thead>\n",
       "  <tbody>\n",
       "    <tr>\n",
       "      <th>0</th>\n",
       "      <td>0.00</td>\n",
       "      <td>0</td>\n",
       "      <td>0</td>\n",
       "      <td>0</td>\n",
       "      <td>1</td>\n",
       "      <td>1</td>\n",
       "      <td>4</td>\n",
       "      <td>0.000066</td>\n",
       "      <td>0.000062</td>\n",
       "    </tr>\n",
       "    <tr>\n",
       "      <th>1</th>\n",
       "      <td>0.00</td>\n",
       "      <td>0</td>\n",
       "      <td>0</td>\n",
       "      <td>0</td>\n",
       "      <td>1</td>\n",
       "      <td>4</td>\n",
       "      <td>3</td>\n",
       "      <td>0.000126</td>\n",
       "      <td>0.000117</td>\n",
       "    </tr>\n",
       "    <tr>\n",
       "      <th>2</th>\n",
       "      <td>0.00</td>\n",
       "      <td>0</td>\n",
       "      <td>0</td>\n",
       "      <td>0</td>\n",
       "      <td>1</td>\n",
       "      <td>5</td>\n",
       "      <td>3</td>\n",
       "      <td>0.000057</td>\n",
       "      <td>0.000055</td>\n",
       "    </tr>\n",
       "    <tr>\n",
       "      <th>3</th>\n",
       "      <td>0.00</td>\n",
       "      <td>0</td>\n",
       "      <td>0</td>\n",
       "      <td>0</td>\n",
       "      <td>1</td>\n",
       "      <td>5</td>\n",
       "      <td>3</td>\n",
       "      <td>0.000096</td>\n",
       "      <td>0.000097</td>\n",
       "    </tr>\n",
       "    <tr>\n",
       "      <th>4</th>\n",
       "      <td>0.00</td>\n",
       "      <td>0</td>\n",
       "      <td>0</td>\n",
       "      <td>0</td>\n",
       "      <td>1</td>\n",
       "      <td>6</td>\n",
       "      <td>2</td>\n",
       "      <td>0.000054</td>\n",
       "      <td>0.000053</td>\n",
       "    </tr>\n",
       "    <tr>\n",
       "      <th>...</th>\n",
       "      <td>...</td>\n",
       "      <td>...</td>\n",
       "      <td>...</td>\n",
       "      <td>...</td>\n",
       "      <td>...</td>\n",
       "      <td>...</td>\n",
       "      <td>...</td>\n",
       "      <td>...</td>\n",
       "      <td>...</td>\n",
       "    </tr>\n",
       "    <tr>\n",
       "      <th>36701743</th>\n",
       "      <td>0.25</td>\n",
       "      <td>731</td>\n",
       "      <td>60</td>\n",
       "      <td>11</td>\n",
       "      <td>31</td>\n",
       "      <td>22</td>\n",
       "      <td>5</td>\n",
       "      <td>0.000057</td>\n",
       "      <td>0.000054</td>\n",
       "    </tr>\n",
       "    <tr>\n",
       "      <th>36701744</th>\n",
       "      <td>0.25</td>\n",
       "      <td>731</td>\n",
       "      <td>60</td>\n",
       "      <td>11</td>\n",
       "      <td>31</td>\n",
       "      <td>22</td>\n",
       "      <td>4</td>\n",
       "      <td>0.000085</td>\n",
       "      <td>0.000081</td>\n",
       "    </tr>\n",
       "    <tr>\n",
       "      <th>36701745</th>\n",
       "      <td>0.25</td>\n",
       "      <td>731</td>\n",
       "      <td>60</td>\n",
       "      <td>11</td>\n",
       "      <td>31</td>\n",
       "      <td>22</td>\n",
       "      <td>2</td>\n",
       "      <td>0.000036</td>\n",
       "      <td>0.000034</td>\n",
       "    </tr>\n",
       "    <tr>\n",
       "      <th>36701746</th>\n",
       "      <td>0.25</td>\n",
       "      <td>731</td>\n",
       "      <td>60</td>\n",
       "      <td>11</td>\n",
       "      <td>31</td>\n",
       "      <td>23</td>\n",
       "      <td>6</td>\n",
       "      <td>0.000094</td>\n",
       "      <td>0.000089</td>\n",
       "    </tr>\n",
       "    <tr>\n",
       "      <th>36701747</th>\n",
       "      <td>0.25</td>\n",
       "      <td>731</td>\n",
       "      <td>60</td>\n",
       "      <td>11</td>\n",
       "      <td>31</td>\n",
       "      <td>23</td>\n",
       "      <td>5</td>\n",
       "      <td>0.000093</td>\n",
       "      <td>0.000096</td>\n",
       "    </tr>\n",
       "  </tbody>\n",
       "</table>\n",
       "<p>36701748 rows × 9 columns</p>\n",
       "</div>"
      ],
      "text/plain": [
       "          delta  seq_month  year  month  day  hour  AxleCount    L_pier  \\\n",
       "0          0.00          0     0      0    1     1          4  0.000066   \n",
       "1          0.00          0     0      0    1     4          3  0.000126   \n",
       "2          0.00          0     0      0    1     5          3  0.000057   \n",
       "3          0.00          0     0      0    1     5          3  0.000096   \n",
       "4          0.00          0     0      0    1     6          2  0.000054   \n",
       "...         ...        ...   ...    ...  ...   ...        ...       ...   \n",
       "36701743   0.25        731    60     11   31    22          5  0.000057   \n",
       "36701744   0.25        731    60     11   31    22          4  0.000085   \n",
       "36701745   0.25        731    60     11   31    22          2  0.000036   \n",
       "36701746   0.25        731    60     11   31    23          6  0.000094   \n",
       "36701747   0.25        731    60     11   31    23          5  0.000093   \n",
       "\n",
       "            R_pier  \n",
       "0         0.000062  \n",
       "1         0.000117  \n",
       "2         0.000055  \n",
       "3         0.000097  \n",
       "4         0.000053  \n",
       "...            ...  \n",
       "36701743  0.000054  \n",
       "36701744  0.000081  \n",
       "36701745  0.000034  \n",
       "36701746  0.000089  \n",
       "36701747  0.000096  \n",
       "\n",
       "[36701748 rows x 9 columns]"
      ]
     },
     "execution_count": 6,
     "metadata": {},
     "output_type": "execute_result"
    }
   ],
   "source": [
    "keep_cols = [\n",
    "    \"delta\",\n",
    "    \"seq_month\",\n",
    "    \"year\",\n",
    "    \"month\",\n",
    "    \"day\",\n",
    "    \"hour\",\n",
    "    \"AxleCount\",\n",
    "] + DAM_LOCS\n",
    "res_data = all_data.loc[:, keep_cols]\n",
    "\n",
    "res_data"
   ]
  },
  {
   "cell_type": "markdown",
   "id": "745f2210-2ff7-415c-9905-e4efad59f4ce",
   "metadata": {},
   "source": [
    "# Apply high traffic hour sampling"
   ]
  },
  {
   "cell_type": "code",
   "execution_count": 7,
   "id": "9b3f8f01-26a5-4240-a573-aac2fb5d5642",
   "metadata": {},
   "outputs": [],
   "source": [
    "AXLE_DICT = {\"All\": np.arange(2, 7), \"5ax\": np.arange(5, 6), \"6ax\": np.arange(6, 7)}\n",
    "PROPORTION = 0.125"
   ]
  },
  {
   "cell_type": "code",
   "execution_count": 8,
   "id": "1d4a388a-6d3c-4436-ac83-78265fbb2011",
   "metadata": {},
   "outputs": [
    {
     "data": {
      "image/png": "[encoded data removed]",
      "text/plain": [
       "<Figure size 418.25x501.9 with 6 Axes>"
      ]
     },
     "metadata": {
      "needs_background": "light"
     },
     "output_type": "display_data"
    }
   ],
   "source": [
    "N_reps = 400\n",
    "\n",
    "# full year baseline\n",
    "baseline_full = res_data.loc[(res_data.year == 0) & (res_data.delta == 0.0)]\n",
    "\n",
    "# find value of k month by month\n",
    "month_df = baseline_full.loc[baseline_full.month == 0]\n",
    "\n",
    "plt.style.use(\n",
    "    [\n",
    "        \"./ajf_plts/base.mplstyle\",\n",
    "        \"./ajf_plts/legend_frame.mplstyle\",\n",
    "        \"./ajf_plts/lines_markers.mplstyle\",\n",
    "    ]\n",
    ")\n",
    "\n",
    "figsize = (ajf_plts.text_width_inches, 3.0 * ajf_plts.fig_height_inches)\n",
    "fig, axes = plt.subplots(figsize=figsize, nrows=3, ncols=2)\n",
    "\n",
    "traffic_pmf = {}\n",
    "opt_kv = {}\n",
    "for i, (k, v) in enumerate(AXLE_DICT.items()):\n",
    "    # extract traffic profile from baseline full year\n",
    "    traffic_pmf[k] = (\n",
    "        baseline_full.loc[baseline_full.AxleCount.isin(v)]\n",
    "        .groupby(\"hour\")\n",
    "        .agg(\"count\")\n",
    "        .iloc[:, 0]\n",
    "    )\n",
    "    traffic_pmf[k] /= traffic_pmf[k].sum()\n",
    "\n",
    "    kvs = np.arange(1.5, 3.6, 0.2)\n",
    "    on_props = []\n",
    "    for kv in kvs:\n",
    "        on_props.append(\n",
    "            [\n",
    "                (\n",
    "                    np.random.uniform(size=len(month_df.hour))\n",
    "                    < (kv * traffic_pmf[k].loc[month_df.hour])\n",
    "                ).sum()\n",
    "                / len(month_df.hour)\n",
    "                for _ in range(N_reps)\n",
    "            ]\n",
    "        )\n",
    "\n",
    "    means = np.mean(on_props, axis=1)\n",
    "    stds = np.std(on_props, axis=1)\n",
    "\n",
    "    kv_int = np.arange(1.75, 2.75, 0.01)\n",
    "    int_means = np.interp(kv_int, kvs, means)\n",
    "    int_stds = np.interp(kv_int, kvs, stds)\n",
    "\n",
    "    axes[i, 0].plot(kv_int, int_means, marker=\"\")\n",
    "    axes[i, 0].fill_between(\n",
    "        kv_int,\n",
    "        int_means - 3.0 * int_stds,\n",
    "        int_means + 3.0 * int_stds,\n",
    "        fc=\"lightgrey\",\n",
    "        zorder=-100,\n",
    "    )\n",
    "\n",
    "    opt_ind = np.abs(int_means + 3.0 * int_stds - PROPORTION).argmin()\n",
    "    opt_kv[k] = kv_int[opt_ind]\n",
    "    opt_mean = int_means[opt_ind] + 3.0 * int_stds[opt_ind]\n",
    "\n",
    "    xlims = axes[i, 0].get_xlim()\n",
    "    xlim_range = xlims[1] - xlims[0]\n",
    "\n",
    "    ylims = axes[i, 0].get_ylim()\n",
    "    ylim_range = ylims[1] - ylims[0]\n",
    "\n",
    "    axes[i, 0].set_xticks(list(axes[i, 0].get_xticks()) + [opt_kv[k]])\n",
    "    axes[i, 0].set_yticks(list(axes[i, 0].get_yticks()) + [PROPORTION])\n",
    "\n",
    "    axes[i, 0].axhline(\n",
    "        y=opt_mean,\n",
    "        xmin=0,\n",
    "        xmax=(opt_kv[k] - xlims[0]) / xlim_range,\n",
    "        ls=\"--\",\n",
    "        color=\"k\",\n",
    "    )\n",
    "    axes[i, 0].axvline(\n",
    "        x=opt_kv[k],\n",
    "        ymin=0,\n",
    "        ymax=(opt_mean - ylims[0]) / ylim_range,\n",
    "        ls=\"--\",\n",
    "        color=\"k\",\n",
    "    )\n",
    "    axes[i, 0].set_xlim(xlims)\n",
    "    axes[i, 0].set_ylim(ylims)\n",
    "\n",
    "    axes[i, 0].set_xlabel(\"$k_v$\")\n",
    "    axes[i, 0].set_ylabel(\"`On' Time Proportion\")\n",
    "\n",
    "    opt_props = [\n",
    "        (\n",
    "            np.random.uniform(size=len(month_df.hour))\n",
    "            < (opt_kv[k] * traffic_pmf[k].loc[month_df.hour])\n",
    "        ).sum()\n",
    "        / len(month_df.hour)\n",
    "        for _ in range(N_reps)\n",
    "    ]\n",
    "    axes[i, 1].hist(opt_props, bins=ajf_utils.get_FD_n_bins(opt_props), density=True)\n",
    "\n",
    "    axes[i, 1].set_xlabel(\"`On' Time Proportion\")\n",
    "    axes[i, 1].set_ylabel(\"Probability Density\")\n",
    "\n",
    "ajf_plts.caption_axes(axes.ravel())\n",
    "fig.tight_layout()"
   ]
  },
  {
   "cell_type": "code",
   "execution_count": 9,
   "id": "26387ea2-b8b0-4355-a1ff-94161d57a417",
   "metadata": {},
   "outputs": [
    {
     "data": {
      "image/png": "[encoded data removed]",
      "text/plain": [
       "<Figure size 432x288 with 1 Axes>"
      ]
     },
     "metadata": {
      "needs_background": "light"
     },
     "output_type": "display_data"
    }
   ],
   "source": [
    "fig, ax = plt.subplots()\n",
    "\n",
    "for k, v in AXLE_DICT.items():\n",
    "    ax.plot(traffic_pmf[k], label=k)\n",
    "ax.legend()\n",
    "fig.tight_layout()"
   ]
  },
  {
   "cell_type": "code",
   "execution_count": 10,
   "id": "d0fc5630-3f2a-40ee-a0b7-930a663eaca6",
   "metadata": {},
   "outputs": [
    {
     "data": {
      "application/vnd.jupyter.widget-view+json": {
       "model_id": "f873d0f8363c45cea3416645afbc2ede",
       "version_major": 2,
       "version_minor": 0
      },
      "text/plain": [
       "VBox(children=(HBox(children=(IntProgress(value=0, description='0.00%', max=92), Label(value='0 / 92'))), HBox…"
      ]
     },
     "metadata": {},
     "output_type": "display_data"
    },
    {
     "data": {
      "application/vnd.jupyter.widget-view+json": {
       "model_id": "ce71c16e60e542c688dcb87eca6f6a2a",
       "version_major": 2,
       "version_minor": 0
      },
      "text/plain": [
       "VBox(children=(HBox(children=(IntProgress(value=0, description='0.00%', max=92), Label(value='0 / 92'))), HBox…"
      ]
     },
     "metadata": {},
     "output_type": "display_data"
    },
    {
     "data": {
      "application/vnd.jupyter.widget-view+json": {
       "model_id": "3834f778dd6245e0aeade713f185c3ad",
       "version_major": 2,
       "version_minor": 0
      },
      "text/plain": [
       "VBox(children=(HBox(children=(IntProgress(value=0, description='0.00%', max=92), Label(value='0 / 92'))), HBox…"
      ]
     },
     "metadata": {},
     "output_type": "display_data"
    }
   ],
   "source": [
    "def calc_on_prop(k, data):\n",
    "    on_props = np.array(\n",
    "        [\n",
    "            np.random.uniform(size=len(data)) < k * temp_dist.pdf(data)\n",
    "            for _ in range(2000)\n",
    "        ]\n",
    "    )\n",
    "    return np.median(on_props.sum(axis=1) / len(data))\n",
    "\n",
    "\n",
    "def loss(k, data):\n",
    "    return np.abs(calc_on_prop(k, data) - PROPORTION)\n",
    "\n",
    "\n",
    "def get_samp_tups(df):\n",
    "    desired_N = int(PROPORTION * len(df))\n",
    "    k_probs = opt_kv[k] * traffic_pmf[k].loc[df.hour]\n",
    "    mask = np.array(len(df) * [False])\n",
    "    while mask.sum() < desired_N:\n",
    "        mask += np.random.uniform(size=len(df)) < k_probs\n",
    "    samp_times = df[mask.values].loc[:, [\"seq_month\", \"day\", \"hour\"]]\n",
    "    return samp_times.apply(tuple, axis=1).sample(n=desired_N)\n",
    "\n",
    "\n",
    "samp_tups = {}\n",
    "samp_data = {}\n",
    "for k, v in AXLE_DICT.items():\n",
    "    df = res_data.loc[res_data.AxleCount.isin(v)].set_index(\n",
    "        [\"seq_month\", \"day\", \"hour\"]\n",
    "    )\n",
    "    samp_tups[k] = temp_data.groupby([\"seq_month\"]).parallel_apply(get_samp_tups)\n",
    "    samp_data[k] = df.loc[df.index.isin(samp_tups[k])]"
   ]
  },
  {
   "cell_type": "code",
   "execution_count": 11,
   "id": "6073e545-c5d5-4c3c-8cc3-3f59941ebc67",
   "metadata": {},
   "outputs": [],
   "source": [
    "# samp_data = {}\n",
    "# for k, v in AXLE_DICT.items():\n",
    "#     df = res_data.loc[res_data.AxleCount.isin(v)].set_index(\n",
    "#         [\"seq_month\", \"day\", \"hour\"]\n",
    "#     )\n",
    "#     monthly_hours = pd.MultiIndex.from_product(df.index.levels[1:])\n",
    "#\n",
    "#     months = df.index.levels[0]\n",
    "#     vals = []\n",
    "#     for m in months:\n",
    "#         mask = np.random.uniform(size=len(monthly_hours)) < (\n",
    "#             opt_kv[k] * traffic_pmf[k].loc[monthly_hours.get_level_values(-1)]\n",
    "#         )\n",
    "#         sample_hours = monthly_hours.to_frame()[mask.values]\n",
    "#         sample_hours[\"seq_month\"] = m\n",
    "#         vals.append(sample_hours)\n",
    "#\n",
    "#     sample_hours = (\n",
    "#         pd.concat(vals).reset_index(drop=True).sort_values([\"seq_month\", \"day\", \"hour\"])\n",
    "#     )\n",
    "#\n",
    "#     sample_idx = pd.MultiIndex.from_frame(sample_hours).reorder_levels([2, 0, 1])\n",
    "#\n",
    "#     mask = df.index.isin(sample_idx)\n",
    "#\n",
    "#     samp_data[k] = df.loc[mask]"
   ]
  },
  {
   "cell_type": "code",
   "execution_count": 12,
   "id": "56af1224-8cd7-48ff-8c4b-3d5bbf776b61",
   "metadata": {
    "tags": []
   },
   "outputs": [
    {
     "data": {
      "application/vnd.jupyter.widget-view+json": {
       "model_id": "e95d9d60f07b4d1bac105ff081c052ca",
       "version_major": 2,
       "version_minor": 0
      },
      "text/plain": [
       "VBox(children=(HBox(children=(IntProgress(value=0, description='0.00%', max=46), Label(value='0 / 46'))), HBox…"
      ]
     },
     "metadata": {},
     "output_type": "display_data"
    },
    {
     "data": {
      "application/vnd.jupyter.widget-view+json": {
       "model_id": "749e71d28cd5409d9d3d7552f0e1a112",
       "version_major": 2,
       "version_minor": 0
      },
      "text/plain": [
       "VBox(children=(HBox(children=(IntProgress(value=0, description='0.00%', max=46), Label(value='0 / 46'))), HBox…"
      ]
     },
     "metadata": {},
     "output_type": "display_data"
    },
    {
     "data": {
      "application/vnd.jupyter.widget-view+json": {
       "model_id": "e1a8bee0b40d4ceba4c49de2a6a88a86",
       "version_major": 2,
       "version_minor": 0
      },
      "text/plain": [
       "VBox(children=(HBox(children=(IntProgress(value=0, description='0.00%', max=46), Label(value='0 / 46'))), HBox…"
      ]
     },
     "metadata": {},
     "output_type": "display_data"
    }
   ],
   "source": [
    "def calc_emd(df):\n",
    "    return dict(\n",
    "        zip(\n",
    "            [l + \"_\" + k for l in DAM_LOCS],\n",
    "            [\n",
    "                stats.wasserstein_distance(\n",
    "                    baselines[k].loc[:, l].values,\n",
    "                    df.loc[:, l].values,\n",
    "                )\n",
    "                for l in DAM_LOCS\n",
    "            ],\n",
    "        )\n",
    "    )\n",
    "\n",
    "\n",
    "baselines = {}\n",
    "emd_vals = []\n",
    "for k, v in AXLE_DICT.items():\n",
    "    baselines[k] = samp_data[k].loc[\n",
    "        (samp_data[k].delta == 0.0) & samp_data[k].AxleCount.isin(v)\n",
    "    ]\n",
    "    emd_vals.append(samp_data[k].groupby([\"delta\", \"year\"]).parallel_apply(calc_emd))"
   ]
  },
  {
   "cell_type": "code",
   "execution_count": 13,
   "id": "72eead28-7b6f-4837-aea9-5a7fdadc7919",
   "metadata": {
    "tags": []
   },
   "outputs": [],
   "source": [
    "emd_samp_df = pd.concat([pd.json_normalize(e) for e in emd_vals], axis=1)\n",
    "emd_samp_df.index = emd_vals[0].index\n",
    "emd_samp_df *= 1e6"
   ]
  },
  {
   "cell_type": "code",
   "execution_count": 14,
   "id": "4eb6852a-ab8d-479c-8b1d-f80499c1681d",
   "metadata": {},
   "outputs": [],
   "source": [
    "# sample sizes"
   ]
  },
  {
   "cell_type": "code",
   "execution_count": 15,
   "id": "8812c1b6-7d03-43e2-bd42-e5cf0363afc2",
   "metadata": {},
   "outputs": [
    {
     "name": "stdout",
     "output_type": "stream",
     "text": [
      "All \\num{15370}\\,(\\num{272.1})\n",
      "5ax \\num{4797}\\,(\\num{129.4})\n",
      "6ax \\num{1927}\\,(\\num{60.7})\n"
     ]
    }
   ],
   "source": [
    "for k, v in AXLE_DICT.items():\n",
    "    count_stats = (\n",
    "        samp_data[k]\n",
    "        .groupby([\"delta\", \"year\"])\n",
    "        .agg(\"count\")\n",
    "        .agg([\"mean\", \"median\", \"std\"])\n",
    "        .iloc[:, 0]\n",
    "    )\n",
    "    print(\n",
    "        k,\n",
    "        f\"\\\\num{{{count_stats.loc['mean']:.0f}}}\\,(\\\\num{{{count_stats.loc['std']:.1f}}})\",\n",
    "    )"
   ]
  },
  {
   "cell_type": "markdown",
   "id": "edf88e1a-a242-4861-8af1-baca5cbd7605",
   "metadata": {},
   "source": [
    "# On Time"
   ]
  },
  {
   "cell_type": "code",
   "execution_count": 16,
   "id": "c3e08929-1ab5-4f95-b223-7ea343115262",
   "metadata": {},
   "outputs": [
    {
     "name": "stdout",
     "output_type": "stream",
     "text": [
      "All 0.125 0.0\n",
      "5ax 0.125 0.0\n",
      "6ax 0.125 0.0\n"
     ]
    }
   ],
   "source": [
    "prop_on = {}\n",
    "for k, v in AXLE_DICT.items():\n",
    "    N_on = samp_tups[k].groupby(\"seq_month\").apply(lambda g: len(g.index.unique()))\n",
    "    N_all = temp_data.groupby(\"seq_month\").apply(lambda g: len(g.index.unique()))\n",
    "    prop_on[k] = N_on / N_all\n",
    "    print(k, np.mean(prop_on[k]), np.std(prop_on[k]))"
   ]
  },
  {
   "cell_type": "code",
   "execution_count": 17,
   "id": "da2cdc3f-89f4-4001-a5b1-38c77031cd2e",
   "metadata": {},
   "outputs": [],
   "source": [
    "# Needed for stuff later on"
   ]
  },
  {
   "cell_type": "markdown",
   "id": "12aa934e-b061-4f89-a9ab-793797f6f684",
   "metadata": {
    "tags": []
   },
   "source": [
    "# Plot Graphs"
   ]
  },
  {
   "cell_type": "markdown",
   "id": "6fbbecf1-a8a4-4264-9861-adb1c7fbfc22",
   "metadata": {},
   "source": [
    "## Prediction interval plots"
   ]
  },
  {
   "cell_type": "code",
   "execution_count": 18,
   "id": "1e2ab631-8be5-4b1c-9ec5-c66f21a937f6",
   "metadata": {},
   "outputs": [],
   "source": [
    "from importlib import reload\n",
    "\n",
    "ajf_utils = reload(ajf_utils)"
   ]
  },
  {
   "cell_type": "code",
   "execution_count": null,
   "id": "a3381cdb-fc96-43c0-a13c-72fa23e60181",
   "metadata": {},
   "outputs": [],
   "source": []
  },
  {
   "cell_type": "markdown",
   "id": "1eae3ad3-b0a6-4f00-9998-45a11eee1704",
   "metadata": {},
   "source": [
    "### Sampled baseline"
   ]
  },
  {
   "cell_type": "code",
   "execution_count": 19,
   "id": "28d8caed-c530-403c-9a73-02a3b3fa61a6",
   "metadata": {
    "tags": []
   },
   "outputs": [
    {
     "data": {
      "image/png": "[encoded data removed]",
      "text/plain": [
       "<Figure size 418.25x501.9 with 6 Axes>"
      ]
     },
     "metadata": {
      "needs_background": "light"
     },
     "output_type": "display_data"
    }
   ],
   "source": [
    "fig = ajf_utils.plot_pi(emd_samp_df.reset_index(), DAM_LOCS)\n",
    "ajf_plts.save_fig(fig, \"figTrafficVolumePIPlotsSamp.pdf\")"
   ]
  },
  {
   "cell_type": "markdown",
   "id": "1fcbd40f-0af2-41dd-9a87-fdd1e703f20a",
   "metadata": {
    "tags": []
   },
   "source": [
    "# Table of stats tests"
   ]
  },
  {
   "cell_type": "markdown",
   "id": "58ce78e7-8603-46f4-8618-48f8a155acc2",
   "metadata": {},
   "source": [
    "### Sampled baseline"
   ]
  },
  {
   "cell_type": "code",
   "execution_count": 22,
   "id": "beace4e1-a8bc-4453-92d6-303ee67d7ccf",
   "metadata": {},
   "outputs": [
    {
     "name": "stdout",
     "output_type": "stream",
     "text": [
      "\\begin{tabular}{lcccccc}\n",
      "\n",
      "    \\toprule\n",
      "    {    } & \\multicolumn{3}{c}{$\\DI{LL}$ (\\unit{\\micro\\radian})} & \\multicolumn{3}{c}{$\\DI{RR}$ (\\unit{\\micro\\radian})}\\\\\n",
      "    \\cmidrule(lr){2-4} \\cmidrule(lr){5-7}\n",
      "    $\\delta$ & All &  5-axle & 6-axle &  All & 5-axle &  6-axle\\\\\n",
      "    \\midrule\n",
      "    0.00 & (0.32, 1.53) & (0.423, 1.99) & (0.631, 2.69) & (0.309, 1.53) & (0.409, 2.09) & (0.775, 2.53)\\\\\n",
      "0.02 & (0.281, 1.97) & (0.517, 2.71) & (0.757, 3.61) & (0.288, 1.47) & (0.416, 2.02) & (0.807, 2.88)\\\\\n",
      "0.04 & (0.665, 3.02) & (0.831, 3.79) & (1.83, 5.72) & (0.28, 1.87) & (0.515, 2.65) & (0.751, 3.49)\\\\\n",
      "0.06 & (1.42, 4.06) & (1.81, 5.05) & \\bfseries(3.74, 7.7) & (0.435, 2.32) & (0.615, 3.1) & (1.08, 4.57)\\\\\n",
      "0.08 & \\bfseries(2.44, 5.12) & \\bfseries(3.02, 6.48) & \\bfseries(5.64, 9.69) & (0.572, 2.8) & (0.813, 3.65) & (1.57, 5.5)\\\\\n",
      "0.10 & \\bfseries(3.58, 6.27) & \\bfseries(4.43, 7.78) & \\bfseries(7.72, 11.9) & (0.777, 3.27) & (1.08, 4.28) & (2.28, 6.49)\\\\\n",
      "0.12 & \\bfseries(4.73, 7.46) & \\bfseries(5.73, 9.24) & \\bfseries(10.1, 14.2) & (1.16, 3.74) & (1.7, 5.03) & \\bfseries(3.23, 7.33)\\\\\n",
      "0.14 & \\bfseries(5.92, 8.7) & \\bfseries(7.25, 10.8) & \\bfseries(12.3, 16.5) & \\bfseries(1.67, 4.34) & \\bfseries(2.23, 5.66) & \\bfseries(4.18, 8.14)\\\\\n",
      "0.16 & \\bfseries(7.19, 10.1) & \\bfseries(8.78, 12.4) & \\bfseries(14.7, 19.0) & \\bfseries(2.19, 4.84) & \\bfseries(3.13, 6.37) & \\bfseries(5.21, 9.39)\\\\\n",
      "0.18 & \\bfseries(8.52, 11.4) & \\bfseries(10.4, 14.0) & \\bfseries(17.4, 21.7) & \\bfseries(2.74, 5.43) & \\bfseries(3.65, 6.98) & \\bfseries(6.44, 10.3)\\\\\n",
      "0.20 & \\bfseries(9.86, 12.8) & \\bfseries(12.0, 15.7) & \\bfseries(20.1, 24.3) & \\bfseries(3.36, 6.08) & \\bfseries(4.34, 7.85) & \\bfseries(7.47, 11.6)\\\\\n",
      "\\bottomrule\\end{tabular}\n"
     ]
    }
   ],
   "source": [
    "tab = ajf_utils.format_pred_int_table(emd_samp_df, DAM_LOCS)\n",
    "with open(\"./output/tabTrafficVolumePIsSamp.tex\", \"w\") as f:\n",
    "    f.write(tab)\n",
    "print(tab)"
   ]
  },
  {
   "cell_type": "code",
   "execution_count": null,
   "id": "4d93b144-c7a4-49c8-b9ed-574169a163b8",
   "metadata": {},
   "outputs": [],
   "source": []
  },
  {
   "cell_type": "code",
   "execution_count": null,
   "id": "91fbd5ee-6690-4563-b5f7-feb0a3a9ca48",
   "metadata": {},
   "outputs": [],
   "source": []
  },
  {
   "cell_type": "code",
   "execution_count": null,
   "id": "a7962f23-9d82-4dbd-8083-6712392c9863",
   "metadata": {},
   "outputs": [],
   "source": []
  },
  {
   "cell_type": "code",
   "execution_count": null,
   "id": "0aa0434f-5aed-40f5-8fff-6dee9d37b03c",
   "metadata": {},
   "outputs": [],
   "source": []
  },
  {
   "cell_type": "code",
   "execution_count": null,
   "id": "9648f397-72e7-4093-8686-7f90e490c469",
   "metadata": {},
   "outputs": [],
   "source": []
  },
  {
   "cell_type": "code",
   "execution_count": null,
   "id": "42f7cc8f-36da-4e6f-a935-4c17800d8f4a",
   "metadata": {},
   "outputs": [],
   "source": []
  },
  {
   "cell_type": "code",
   "execution_count": null,
   "id": "756632f1-77fc-4cbb-89f5-8cba6f138716",
   "metadata": {},
   "outputs": [],
   "source": []
  },
  {
   "cell_type": "code",
   "execution_count": null,
   "id": "eca9c78c-622f-4a90-a422-5f57e7c6b29c",
   "metadata": {},
   "outputs": [],
   "source": []
  },
  {
   "cell_type": "code",
   "execution_count": null,
   "id": "f9ad9e2e-4e5d-4c3f-8f1f-7f932f82a215",
   "metadata": {},
   "outputs": [],
   "source": []
  },
  {
   "cell_type": "code",
   "execution_count": null,
   "id": "d8904869-8750-475a-b510-3192ac12e820",
   "metadata": {},
   "outputs": [],
   "source": []
  },
  {
   "cell_type": "code",
   "execution_count": null,
   "id": "c00eb539-4901-4ded-a2ff-cc93333afd16",
   "metadata": {},
   "outputs": [],
   "source": []
  },
  {
   "cell_type": "code",
   "execution_count": null,
   "id": "220076e7-03e9-4864-8510-d395d80198b8",
   "metadata": {},
   "outputs": [],
   "source": []
  },
  {
   "cell_type": "code",
   "execution_count": null,
   "id": "a5e28259-10fe-4d74-9970-d159f9e70a2e",
   "metadata": {},
   "outputs": [],
   "source": []
  },
  {
   "cell_type": "code",
   "execution_count": null,
   "id": "4e24396e-9781-4440-8903-ebdfdc29918b",
   "metadata": {},
   "outputs": [],
   "source": []
  },
  {
   "cell_type": "code",
   "execution_count": null,
   "id": "33643cf6-c9a4-4a8d-9f3b-c1d2164fdde2",
   "metadata": {},
   "outputs": [],
   "source": []
  },
  {
   "cell_type": "code",
   "execution_count": null,
   "id": "8f3cf781-1bf5-486f-bc47-6636130a6a01",
   "metadata": {},
   "outputs": [],
   "source": []
  },
  {
   "cell_type": "code",
   "execution_count": null,
   "id": "0b0d6011-829f-49f7-966a-fe52a90f8334",
   "metadata": {},
   "outputs": [],
   "source": []
  },
  {
   "cell_type": "code",
   "execution_count": null,
   "id": "b0f2e16a-460f-4af4-b9e0-93b3d71c5c46",
   "metadata": {},
   "outputs": [],
   "source": []
  },
  {
   "cell_type": "code",
   "execution_count": null,
   "id": "6869c80f-9a5d-4140-891b-f1de0c0889a3",
   "metadata": {},
   "outputs": [],
   "source": []
  },
  {
   "cell_type": "code",
   "execution_count": null,
   "id": "def43f7d-dce8-49dc-9c79-4268664ae9ff",
   "metadata": {},
   "outputs": [],
   "source": []
  },
  {
   "cell_type": "code",
   "execution_count": null,
   "id": "4c156dbe-1826-43ac-a730-206317ab4985",
   "metadata": {},
   "outputs": [],
   "source": []
  },
  {
   "cell_type": "code",
   "execution_count": null,
   "id": "059a25eb-5aeb-436d-9767-3ef7817173fa",
   "metadata": {},
   "outputs": [],
   "source": []
  },
  {
   "cell_type": "code",
   "execution_count": null,
   "id": "32951504-4a7e-42cc-a638-7ed7506140ad",
   "metadata": {},
   "outputs": [],
   "source": []
  },
  {
   "cell_type": "code",
   "execution_count": null,
   "id": "290ed925-625c-483a-b354-d9f4d24e4751",
   "metadata": {},
   "outputs": [],
   "source": []
  },
  {
   "cell_type": "code",
   "execution_count": null,
   "id": "b6991045-a6b0-4a60-8722-b1916a355ac3",
   "metadata": {},
   "outputs": [],
   "source": []
  },
  {
   "cell_type": "code",
   "execution_count": null,
   "id": "f94323db-c62f-4c0e-bbf8-2bb307c800e7",
   "metadata": {},
   "outputs": [],
   "source": []
  },
  {
   "cell_type": "code",
   "execution_count": null,
   "id": "da0aa3bf-42d9-402a-a07f-889f515cf950",
   "metadata": {},
   "outputs": [],
   "source": []
  },
  {
   "cell_type": "code",
   "execution_count": null,
   "id": "21619ec2-91b8-4510-b759-48d618a7ffd2",
   "metadata": {},
   "outputs": [],
   "source": []
  },
  {
   "cell_type": "code",
   "execution_count": null,
   "id": "2076f443-0441-4f6d-ada3-8a1e84d6f843",
   "metadata": {},
   "outputs": [],
   "source": []
  },
  {
   "cell_type": "code",
   "execution_count": null,
   "id": "62848ce9-f8f6-4f5c-bb5f-b93ca833dd0a",
   "metadata": {},
   "outputs": [],
   "source": []
  },
  {
   "cell_type": "code",
   "execution_count": null,
   "id": "4974f750-ca08-4722-94f8-a80a9355bd37",
   "metadata": {},
   "outputs": [],
   "source": []
  },
  {
   "cell_type": "code",
   "execution_count": null,
   "id": "9ac420e9-b853-4702-9819-7efff1de8141",
   "metadata": {},
   "outputs": [],
   "source": []
  }
 ],
 "metadata": {
  "kernelspec": {
   "display_name": "Python 3 (ipykernel)",
   "language": "python",
   "name": "python3"
  },
  "language_info": {
   "codemirror_mode": {
    "name": "ipython",
    "version": 3
   },
   "file_extension": ".py",
   "mimetype": "text/x-python",
   "name": "python",
   "nbconvert_exporter": "python",
   "pygments_lexer": "ipython3",
   "version": "3.10.8"
  }
 },
 "nbformat": 4,
 "nbformat_minor": 5
}
