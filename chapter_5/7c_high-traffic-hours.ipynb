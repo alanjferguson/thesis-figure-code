{
 "cells": [
  {
   "cell_type": "code",
   "execution_count": 1,
   "id": "603bd5d2-3274-4998-a32d-db2bc3b399fa",
   "metadata": {},
   "outputs": [
    {
     "name": "stdout",
     "output_type": "stream",
     "text": [
      "INFO: Pandarallel will run on 8 workers.\n",
      "INFO: Pandarallel will use Memory file system to transfer data between the main process and workers.\n"
     ]
    }
   ],
   "source": [
    "import copy\n",
    "import pickle\n",
    "\n",
    "import ajf_utils\n",
    "import matplotlib as mpl\n",
    "import matplotlib.pyplot as plt\n",
    "import numpy as np\n",
    "import pandas as pd\n",
    "from ajf_bridge_fem import *\n",
    "from pandarallel import pandarallel\n",
    "from scipy import stats\n",
    "\n",
    "import ajf_plts\n",
    "\n",
    "pandarallel.initialize(progress_bar=True)"
   ]
  },
  {
   "cell_type": "markdown",
   "id": "a5a40fb3-28de-4e24-b795-1be8fd60c9d6",
   "metadata": {},
   "source": [
    "# Load temperature data"
   ]
  },
  {
   "cell_type": "code",
   "execution_count": 2,
   "id": "0ce0c2f0-ec47-4759-be22-146612a73918",
   "metadata": {},
   "outputs": [],
   "source": [
    "keep_cols = [\"air_temperature\", \"year\", \"seq_month\", \"day\", \"hour\"]\n",
    "temp_data = pd.read_parquet(\"temp-freq-e_val.parquet\").loc[:, keep_cols]"
   ]
  },
  {
   "cell_type": "markdown",
   "id": "ac7d5551-fca5-4561-b638-674f278ae87f",
   "metadata": {},
   "source": [
    "# Load result data "
   ]
  },
  {
   "cell_type": "code",
   "execution_count": 3,
   "id": "4dd4282a-09b1-4c20-a4f8-32f453dcf069",
   "metadata": {},
   "outputs": [
    {
     "data": {
      "text/html": [
       "<div>\n",
       "<style scoped>\n",
       "    .dataframe tbody tr th:only-of-type {\n",
       "        vertical-align: middle;\n",
       "    }\n",
       "\n",
       "    .dataframe tbody tr th {\n",
       "        vertical-align: top;\n",
       "    }\n",
       "\n",
       "    .dataframe thead th {\n",
       "        text-align: right;\n",
       "    }\n",
       "</style>\n",
       "<table border=\"1\" class=\"dataframe\">\n",
       "  <thead>\n",
       "    <tr style=\"text-align: right;\">\n",
       "      <th></th>\n",
       "      <th>seq_month</th>\n",
       "      <th>year</th>\n",
       "      <th>month</th>\n",
       "      <th>day</th>\n",
       "      <th>hour</th>\n",
       "      <th>minute</th>\n",
       "      <th>dayofweek</th>\n",
       "      <th>air_temperature</th>\n",
       "      <th>freq</th>\n",
       "      <th>E_val</th>\n",
       "      <th>...</th>\n",
       "      <th>S3</th>\n",
       "      <th>S4</th>\n",
       "      <th>S5</th>\n",
       "      <th>speed</th>\n",
       "      <th>x_dam</th>\n",
       "      <th>delta</th>\n",
       "      <th>L_abut</th>\n",
       "      <th>L_pier</th>\n",
       "      <th>R_pier</th>\n",
       "      <th>R_abut</th>\n",
       "    </tr>\n",
       "  </thead>\n",
       "  <tbody>\n",
       "    <tr>\n",
       "      <th>0</th>\n",
       "      <td>0</td>\n",
       "      <td>0</td>\n",
       "      <td>0</td>\n",
       "      <td>1</td>\n",
       "      <td>1</td>\n",
       "      <td>36</td>\n",
       "      <td>6</td>\n",
       "      <td>4.880000</td>\n",
       "      <td>5.786878</td>\n",
       "      <td>2.883737e+10</td>\n",
       "      <td>...</td>\n",
       "      <td>10.85</td>\n",
       "      <td>NaN</td>\n",
       "      <td>NaN</td>\n",
       "      <td>23.0</td>\n",
       "      <td>17.733333</td>\n",
       "      <td>0.0</td>\n",
       "      <td>0.000138</td>\n",
       "      <td>0.000066</td>\n",
       "      <td>0.000062</td>\n",
       "      <td>0.000135</td>\n",
       "    </tr>\n",
       "    <tr>\n",
       "      <th>1</th>\n",
       "      <td>0</td>\n",
       "      <td>0</td>\n",
       "      <td>0</td>\n",
       "      <td>1</td>\n",
       "      <td>4</td>\n",
       "      <td>43</td>\n",
       "      <td>6</td>\n",
       "      <td>3.555000</td>\n",
       "      <td>5.795990</td>\n",
       "      <td>2.892656e+10</td>\n",
       "      <td>...</td>\n",
       "      <td>NaN</td>\n",
       "      <td>NaN</td>\n",
       "      <td>NaN</td>\n",
       "      <td>24.0</td>\n",
       "      <td>17.733333</td>\n",
       "      <td>0.0</td>\n",
       "      <td>0.000257</td>\n",
       "      <td>0.000126</td>\n",
       "      <td>0.000117</td>\n",
       "      <td>0.000246</td>\n",
       "    </tr>\n",
       "    <tr>\n",
       "      <th>2</th>\n",
       "      <td>0</td>\n",
       "      <td>0</td>\n",
       "      <td>0</td>\n",
       "      <td>1</td>\n",
       "      <td>5</td>\n",
       "      <td>10</td>\n",
       "      <td>6</td>\n",
       "      <td>3.216667</td>\n",
       "      <td>5.799653</td>\n",
       "      <td>2.896242e+10</td>\n",
       "      <td>...</td>\n",
       "      <td>NaN</td>\n",
       "      <td>NaN</td>\n",
       "      <td>NaN</td>\n",
       "      <td>28.0</td>\n",
       "      <td>17.733333</td>\n",
       "      <td>0.0</td>\n",
       "      <td>0.000117</td>\n",
       "      <td>0.000057</td>\n",
       "      <td>0.000055</td>\n",
       "      <td>0.000113</td>\n",
       "    </tr>\n",
       "    <tr>\n",
       "      <th>3</th>\n",
       "      <td>0</td>\n",
       "      <td>0</td>\n",
       "      <td>0</td>\n",
       "      <td>1</td>\n",
       "      <td>5</td>\n",
       "      <td>12</td>\n",
       "      <td>6</td>\n",
       "      <td>3.200000</td>\n",
       "      <td>5.799898</td>\n",
       "      <td>2.896483e+10</td>\n",
       "      <td>...</td>\n",
       "      <td>NaN</td>\n",
       "      <td>NaN</td>\n",
       "      <td>NaN</td>\n",
       "      <td>27.5</td>\n",
       "      <td>17.733333</td>\n",
       "      <td>0.0</td>\n",
       "      <td>0.000230</td>\n",
       "      <td>0.000096</td>\n",
       "      <td>0.000097</td>\n",
       "      <td>0.000221</td>\n",
       "    </tr>\n",
       "    <tr>\n",
       "      <th>4</th>\n",
       "      <td>0</td>\n",
       "      <td>0</td>\n",
       "      <td>0</td>\n",
       "      <td>1</td>\n",
       "      <td>6</td>\n",
       "      <td>57</td>\n",
       "      <td>6</td>\n",
       "      <td>3.655000</td>\n",
       "      <td>5.801216</td>\n",
       "      <td>2.897772e+10</td>\n",
       "      <td>...</td>\n",
       "      <td>NaN</td>\n",
       "      <td>NaN</td>\n",
       "      <td>NaN</td>\n",
       "      <td>25.5</td>\n",
       "      <td>17.733333</td>\n",
       "      <td>0.0</td>\n",
       "      <td>0.000120</td>\n",
       "      <td>0.000054</td>\n",
       "      <td>0.000053</td>\n",
       "      <td>0.000108</td>\n",
       "    </tr>\n",
       "  </tbody>\n",
       "</table>\n",
       "<p>5 rows × 30 columns</p>\n",
       "</div>"
      ],
      "text/plain": [
       "   seq_month  year  month  day  hour  minute  dayofweek  air_temperature  \\\n",
       "0          0     0      0    1     1      36          6         4.880000   \n",
       "1          0     0      0    1     4      43          6         3.555000   \n",
       "2          0     0      0    1     5      10          6         3.216667   \n",
       "3          0     0      0    1     5      12          6         3.200000   \n",
       "4          0     0      0    1     6      57          6         3.655000   \n",
       "\n",
       "       freq         E_val  ...     S3  S4  S5  speed      x_dam  delta  \\\n",
       "0  5.786878  2.883737e+10  ...  10.85 NaN NaN   23.0  17.733333    0.0   \n",
       "1  5.795990  2.892656e+10  ...    NaN NaN NaN   24.0  17.733333    0.0   \n",
       "2  5.799653  2.896242e+10  ...    NaN NaN NaN   28.0  17.733333    0.0   \n",
       "3  5.799898  2.896483e+10  ...    NaN NaN NaN   27.5  17.733333    0.0   \n",
       "4  5.801216  2.897772e+10  ...    NaN NaN NaN   25.5  17.733333    0.0   \n",
       "\n",
       "     L_abut    L_pier    R_pier    R_abut  \n",
       "0  0.000138  0.000066  0.000062  0.000135  \n",
       "1  0.000257  0.000126  0.000117  0.000246  \n",
       "2  0.000117  0.000057  0.000055  0.000113  \n",
       "3  0.000230  0.000096  0.000097  0.000221  \n",
       "4  0.000120  0.000054  0.000053  0.000108  \n",
       "\n",
       "[5 rows x 30 columns]"
      ]
     },
     "execution_count": 3,
     "metadata": {},
     "output_type": "execute_result"
    }
   ],
   "source": [
    "DAM_LOCS = [\"L\", \"R\"]\n",
    "RUN_ID = \"2023-01-29T12:51:27.214729_LB_0.02-step-delta\"\n",
    "\n",
    "MODEL = \"GH\"\n",
    "RUN_ID = \"2023-02-05T19:45:04.032244_GH_0.05-step-delta\"\n",
    "DAM_LOCS = [\"L_pier\", \"R_pier\"]\n",
    "\n",
    "all_data = (\n",
    "    pd.read_parquet(f\"./{RUN_ID}_w_error\")\n",
    "    .sort_values([\"year\", \"delta\"])\n",
    "    .reset_index(drop=True)\n",
    ")\n",
    "\n",
    "all_data.head()"
   ]
  },
  {
   "cell_type": "markdown",
   "id": "0b45fe89-af2f-4925-8aa5-b5c7b98b4c96",
   "metadata": {},
   "source": [
    "# Only keep columns we need to speed up computation"
   ]
  },
  {
   "cell_type": "code",
   "execution_count": 4,
   "id": "3d2f0781-1c7d-4489-ae0b-a1afa7a0bb3a",
   "metadata": {},
   "outputs": [
    {
     "data": {
      "text/html": [
       "<div>\n",
       "<style scoped>\n",
       "    .dataframe tbody tr th:only-of-type {\n",
       "        vertical-align: middle;\n",
       "    }\n",
       "\n",
       "    .dataframe tbody tr th {\n",
       "        vertical-align: top;\n",
       "    }\n",
       "\n",
       "    .dataframe thead th {\n",
       "        text-align: right;\n",
       "    }\n",
       "</style>\n",
       "<table border=\"1\" class=\"dataframe\">\n",
       "  <thead>\n",
       "    <tr style=\"text-align: right;\">\n",
       "      <th></th>\n",
       "      <th>delta</th>\n",
       "      <th>seq_month</th>\n",
       "      <th>year</th>\n",
       "      <th>month</th>\n",
       "      <th>day</th>\n",
       "      <th>hour</th>\n",
       "      <th>AxleCount</th>\n",
       "      <th>L_pier</th>\n",
       "      <th>R_pier</th>\n",
       "    </tr>\n",
       "  </thead>\n",
       "  <tbody>\n",
       "    <tr>\n",
       "      <th>0</th>\n",
       "      <td>0.00</td>\n",
       "      <td>0</td>\n",
       "      <td>0</td>\n",
       "      <td>0</td>\n",
       "      <td>1</td>\n",
       "      <td>1</td>\n",
       "      <td>4</td>\n",
       "      <td>0.000066</td>\n",
       "      <td>0.000062</td>\n",
       "    </tr>\n",
       "    <tr>\n",
       "      <th>1</th>\n",
       "      <td>0.00</td>\n",
       "      <td>0</td>\n",
       "      <td>0</td>\n",
       "      <td>0</td>\n",
       "      <td>1</td>\n",
       "      <td>4</td>\n",
       "      <td>3</td>\n",
       "      <td>0.000126</td>\n",
       "      <td>0.000117</td>\n",
       "    </tr>\n",
       "    <tr>\n",
       "      <th>2</th>\n",
       "      <td>0.00</td>\n",
       "      <td>0</td>\n",
       "      <td>0</td>\n",
       "      <td>0</td>\n",
       "      <td>1</td>\n",
       "      <td>5</td>\n",
       "      <td>3</td>\n",
       "      <td>0.000057</td>\n",
       "      <td>0.000055</td>\n",
       "    </tr>\n",
       "    <tr>\n",
       "      <th>3</th>\n",
       "      <td>0.00</td>\n",
       "      <td>0</td>\n",
       "      <td>0</td>\n",
       "      <td>0</td>\n",
       "      <td>1</td>\n",
       "      <td>5</td>\n",
       "      <td>3</td>\n",
       "      <td>0.000096</td>\n",
       "      <td>0.000097</td>\n",
       "    </tr>\n",
       "    <tr>\n",
       "      <th>4</th>\n",
       "      <td>0.00</td>\n",
       "      <td>0</td>\n",
       "      <td>0</td>\n",
       "      <td>0</td>\n",
       "      <td>1</td>\n",
       "      <td>6</td>\n",
       "      <td>2</td>\n",
       "      <td>0.000054</td>\n",
       "      <td>0.000053</td>\n",
       "    </tr>\n",
       "    <tr>\n",
       "      <th>...</th>\n",
       "      <td>...</td>\n",
       "      <td>...</td>\n",
       "      <td>...</td>\n",
       "      <td>...</td>\n",
       "      <td>...</td>\n",
       "      <td>...</td>\n",
       "      <td>...</td>\n",
       "      <td>...</td>\n",
       "      <td>...</td>\n",
       "    </tr>\n",
       "    <tr>\n",
       "      <th>36701743</th>\n",
       "      <td>0.25</td>\n",
       "      <td>731</td>\n",
       "      <td>60</td>\n",
       "      <td>11</td>\n",
       "      <td>31</td>\n",
       "      <td>22</td>\n",
       "      <td>5</td>\n",
       "      <td>0.000057</td>\n",
       "      <td>0.000054</td>\n",
       "    </tr>\n",
       "    <tr>\n",
       "      <th>36701744</th>\n",
       "      <td>0.25</td>\n",
       "      <td>731</td>\n",
       "      <td>60</td>\n",
       "      <td>11</td>\n",
       "      <td>31</td>\n",
       "      <td>22</td>\n",
       "      <td>4</td>\n",
       "      <td>0.000085</td>\n",
       "      <td>0.000081</td>\n",
       "    </tr>\n",
       "    <tr>\n",
       "      <th>36701745</th>\n",
       "      <td>0.25</td>\n",
       "      <td>731</td>\n",
       "      <td>60</td>\n",
       "      <td>11</td>\n",
       "      <td>31</td>\n",
       "      <td>22</td>\n",
       "      <td>2</td>\n",
       "      <td>0.000036</td>\n",
       "      <td>0.000034</td>\n",
       "    </tr>\n",
       "    <tr>\n",
       "      <th>36701746</th>\n",
       "      <td>0.25</td>\n",
       "      <td>731</td>\n",
       "      <td>60</td>\n",
       "      <td>11</td>\n",
       "      <td>31</td>\n",
       "      <td>23</td>\n",
       "      <td>6</td>\n",
       "      <td>0.000094</td>\n",
       "      <td>0.000089</td>\n",
       "    </tr>\n",
       "    <tr>\n",
       "      <th>36701747</th>\n",
       "      <td>0.25</td>\n",
       "      <td>731</td>\n",
       "      <td>60</td>\n",
       "      <td>11</td>\n",
       "      <td>31</td>\n",
       "      <td>23</td>\n",
       "      <td>5</td>\n",
       "      <td>0.000093</td>\n",
       "      <td>0.000096</td>\n",
       "    </tr>\n",
       "  </tbody>\n",
       "</table>\n",
       "<p>36701748 rows × 9 columns</p>\n",
       "</div>"
      ],
      "text/plain": [
       "          delta  seq_month  year  month  day  hour  AxleCount    L_pier  \\\n",
       "0          0.00          0     0      0    1     1          4  0.000066   \n",
       "1          0.00          0     0      0    1     4          3  0.000126   \n",
       "2          0.00          0     0      0    1     5          3  0.000057   \n",
       "3          0.00          0     0      0    1     5          3  0.000096   \n",
       "4          0.00          0     0      0    1     6          2  0.000054   \n",
       "...         ...        ...   ...    ...  ...   ...        ...       ...   \n",
       "36701743   0.25        731    60     11   31    22          5  0.000057   \n",
       "36701744   0.25        731    60     11   31    22          4  0.000085   \n",
       "36701745   0.25        731    60     11   31    22          2  0.000036   \n",
       "36701746   0.25        731    60     11   31    23          6  0.000094   \n",
       "36701747   0.25        731    60     11   31    23          5  0.000093   \n",
       "\n",
       "            R_pier  \n",
       "0         0.000062  \n",
       "1         0.000117  \n",
       "2         0.000055  \n",
       "3         0.000097  \n",
       "4         0.000053  \n",
       "...            ...  \n",
       "36701743  0.000054  \n",
       "36701744  0.000081  \n",
       "36701745  0.000034  \n",
       "36701746  0.000089  \n",
       "36701747  0.000096  \n",
       "\n",
       "[36701748 rows x 9 columns]"
      ]
     },
     "execution_count": 4,
     "metadata": {},
     "output_type": "execute_result"
    }
   ],
   "source": [
    "keep_cols = [\n",
    "    \"delta\",\n",
    "    \"seq_month\",\n",
    "    \"year\",\n",
    "    \"month\",\n",
    "    \"day\",\n",
    "    \"hour\",\n",
    "    \"AxleCount\",\n",
    "] + DAM_LOCS\n",
    "res_data = all_data.loc[:, keep_cols]\n",
    "\n",
    "res_data"
   ]
  },
  {
   "cell_type": "markdown",
   "id": "745f2210-2ff7-415c-9905-e4efad59f4ce",
   "metadata": {},
   "source": [
    "# Apply high traffic hour sampling"
   ]
  },
  {
   "cell_type": "code",
   "execution_count": 5,
   "id": "9b3f8f01-26a5-4240-a573-aac2fb5d5642",
   "metadata": {},
   "outputs": [],
   "source": [
    "AXLE_DICT = {\"All\": np.arange(2, 7), \"5ax\": np.arange(5, 6), \"6ax\": np.arange(6, 7)}\n",
    "PROPORTION = 0.125\n",
    "\n",
    "n_hours = np.floor(24 * PROPORTION).astype(int)"
   ]
  },
  {
   "cell_type": "code",
   "execution_count": 6,
   "id": "af841e2e-1173-410a-aa2d-c209a7586886",
   "metadata": {},
   "outputs": [
    {
     "data": {
      "application/vnd.jupyter.widget-view+json": {
       "model_id": "714e106b4c6940fda3fb2fc8ba06305a",
       "version_major": 2,
       "version_minor": 0
      },
      "text/plain": [
       "VBox(children=(HBox(children=(IntProgress(value=0, description='0.00%', max=46), Label(value='0 / 46'))), HBox…"
      ]
     },
     "metadata": {},
     "output_type": "display_data"
    }
   ],
   "source": [
    "def calc_emd(df):\n",
    "    return dict(\n",
    "        zip(\n",
    "            [l + \"_\" + k for k in AXLE_DICT for l in DAM_LOCS],\n",
    "            [\n",
    "                stats.wasserstein_distance(\n",
    "                    baselines[k].loc[:, l].values,\n",
    "                    df.loc[\n",
    "                        df.hour.isin(samp_hours[k]) & df.AxleCount.isin(v), l\n",
    "                    ].values,\n",
    "                )\n",
    "                for k, v in AXLE_DICT.items()\n",
    "                for l in DAM_LOCS\n",
    "            ],\n",
    "        )\n",
    "    )\n",
    "\n",
    "\n",
    "# full year baseline\n",
    "baseline_full = res_data.loc[(res_data.year == 0) & (res_data.delta == 0.0)]\n",
    "\n",
    "samp_hours = {}\n",
    "baselines = {}\n",
    "for k, v in AXLE_DICT.items():\n",
    "    samp_hours[k] = (\n",
    "        baseline_full.loc[(baseline_full.AxleCount.isin(v))]\n",
    "        .groupby(\"hour\")\n",
    "        .agg(\"count\")\n",
    "        .delta.sort_values(ascending=False)\n",
    "        .index.values[:n_hours]\n",
    "    )\n",
    "    baselines[k] = baseline_full.loc[\n",
    "        baseline_full.AxleCount.isin(v) & baseline_full.hour.isin(samp_hours[k])\n",
    "    ]\n",
    "\n",
    "# emd_vals = res_data.groupby([\"delta\", \"year\"]).apply(calc_emd)\n",
    "emd_vals = res_data.groupby([\"delta\", \"year\"]).parallel_apply(calc_emd)\n",
    "emd_df = pd.DataFrame(\n",
    "    emd_vals.to_list(),\n",
    "    index=emd_vals.index,\n",
    ")\n",
    "emd_samp_df = emd_df.dropna()\n",
    "\n",
    "emd_samp_df *= 1e6  # convert to urad"
   ]
  },
  {
   "cell_type": "code",
   "execution_count": 7,
   "id": "4eb6852a-ab8d-479c-8b1d-f80499c1681d",
   "metadata": {},
   "outputs": [],
   "source": [
    "# sample sizes"
   ]
  },
  {
   "cell_type": "code",
   "execution_count": 8,
   "id": "8812c1b6-7d03-43e2-bd42-e5cf0363afc2",
   "metadata": {},
   "outputs": [
    {
     "name": "stdout",
     "output_type": "stream",
     "text": [
      "All \\num{19341}\\,(\\num{155.3})\n",
      "5ax \\num{6356}\\,(\\num{85.8})\n",
      "6ax \\num{2593}\\,(\\num{64.3})\n"
     ]
    }
   ],
   "source": [
    "for k, v in AXLE_DICT.items():\n",
    "    count_stats = (\n",
    "        res_data.loc[\n",
    "            res_data.hour.isin(samp_hours[k])\n",
    "            & (res_data.delta == 0)\n",
    "            & res_data.AxleCount.isin(v)\n",
    "        ]\n",
    "        .groupby(\"year\")\n",
    "        .agg(\"count\")\n",
    "        .agg([\"mean\", \"median\", \"std\"])\n",
    "        .iloc[:, 0]\n",
    "    )\n",
    "    print(\n",
    "        k,\n",
    "        f\"\\\\num{{{count_stats.loc['mean']:.0f}}}\\,(\\\\num{{{count_stats.loc['std']:.1f}}})\",\n",
    "    )"
   ]
  },
  {
   "cell_type": "code",
   "execution_count": null,
   "id": "76cdc4b2-394d-4c05-8716-4fd33f79113d",
   "metadata": {},
   "outputs": [],
   "source": []
  },
  {
   "cell_type": "markdown",
   "id": "12aa934e-b061-4f89-a9ab-793797f6f684",
   "metadata": {
    "tags": []
   },
   "source": [
    "# Plot Graphs"
   ]
  },
  {
   "cell_type": "markdown",
   "id": "6fbbecf1-a8a4-4264-9861-adb1c7fbfc22",
   "metadata": {},
   "source": [
    "## Prediction interval plots"
   ]
  },
  {
   "cell_type": "code",
   "execution_count": 9,
   "id": "1e2ab631-8be5-4b1c-9ec5-c66f21a937f6",
   "metadata": {},
   "outputs": [],
   "source": [
    "from importlib import reload\n",
    "\n",
    "ajf_utils = reload(ajf_utils)"
   ]
  },
  {
   "cell_type": "markdown",
   "id": "1eae3ad3-b0a6-4f00-9998-45a11eee1704",
   "metadata": {},
   "source": [
    "### Sampled baseline"
   ]
  },
  {
   "cell_type": "code",
   "execution_count": 12,
   "id": "28d8caed-c530-403c-9a73-02a3b3fa61a6",
   "metadata": {
    "tags": []
   },
   "outputs": [
    {
     "data": {
      "image/png": "[encoded data removed]",
      "text/plain": [
       "<Figure size 418.25x501.9 with 6 Axes>"
      ]
     },
     "metadata": {
      "needs_background": "light"
     },
     "output_type": "display_data"
    }
   ],
   "source": [
    "if MODEL == \"LB\":\n",
    "    fig = ajf_utils.plot_pi(emd_samp_df.reset_index(), DAM_LOCS)\n",
    "    ajf_plts.save_fig(fig, \"figHighTrafficPIPlotsSamp.pdf\")\n",
    "elif MODEL == \"GH\":\n",
    "    fig = ajf_utils.plot_pi(emd_samp_df.reset_index(), DAM_LOCS)\n",
    "    ajf_plts.save_fig(fig, \"fig-GH-HighTrafficPIPlotsSamp.pdf\")"
   ]
  },
  {
   "cell_type": "markdown",
   "id": "1fcbd40f-0af2-41dd-9a87-fdd1e703f20a",
   "metadata": {
    "tags": []
   },
   "source": [
    "# Table of stats tests"
   ]
  },
  {
   "cell_type": "markdown",
   "id": "58ce78e7-8603-46f4-8618-48f8a155acc2",
   "metadata": {},
   "source": [
    "### Sampled baseline"
   ]
  },
  {
   "cell_type": "code",
   "execution_count": 35,
   "id": "beace4e1-a8bc-4453-92d6-303ee67d7ccf",
   "metadata": {},
   "outputs": [
    {
     "name": "stdout",
     "output_type": "stream",
     "text": [
      "\\begin{tabular}{lcccccc}\n",
      "\n",
      "    \\toprule\n",
      "    {    } & \\multicolumn{3}{c}{$\\DI{LL}$ (\\unit{\\micro\\radian})} & \\multicolumn{3}{c}{$\\DI{RR}$ (\\unit{\\micro\\radian})}\\\\\n",
      "    \\cmidrule(lr){2-4} \\cmidrule(lr){5-7}\n",
      "    $\\delta$ & All &  5-axle & 6-axle &  All & 5-axle &  6-axle\\\\\n",
      "    \\midrule\n",
      "    0.00 & (0.297, 1.48) & (0.475, 1.83) & (0.761, 2.94) & (0.31, 1.52) & (0.483, 1.81) & (0.667, 3.41)\\\\\n",
      "0.02 & (0.497, 2.43) & (0.712, 2.93) & (0.98, 4.92) & (0.301, 1.9) & (0.587, 2.29) & (0.711, 4.0)\\\\\n",
      "0.04 & (1.35, 3.43) & (1.65, 4.16) & (2.75, 6.62) & (0.437, 2.33) & (0.717, 2.96) & (1.09, 4.71)\\\\\n",
      "0.06 & \\bfseries(2.36, 4.44) & \\bfseries(2.89, 5.44) & \\bfseries(4.76, 8.68) & (0.76, 2.77) & (1.07, 3.44) & (1.93, 5.57)\\\\\n",
      "0.08 & \\bfseries(3.41, 5.52) & \\bfseries(4.14, 6.81) & \\bfseries(6.71, 10.8) & (1.17, 3.23) & (1.57, 4.0) & (2.69, 6.58)\\\\\n",
      "0.10 & \\bfseries(4.53, 6.67) & \\bfseries(5.45, 8.11) & \\bfseries(8.84, 12.9) & \\bfseries(1.64, 3.68) & \\bfseries(2.14, 4.65) & \\bfseries(3.62, 7.62)\\\\\n",
      "0.12 & \\bfseries(5.66, 7.85) & \\bfseries(6.87, 9.63) & \\bfseries(11.1, 15.3) & \\bfseries(2.11, 4.17) & \\bfseries(2.75, 5.24) & \\bfseries(4.53, 8.49)\\\\\n",
      "0.14 & \\bfseries(6.87, 9.08) & \\bfseries(8.41, 11.1) & \\bfseries(13.4, 17.7) & \\bfseries(2.63, 4.73) & \\bfseries(3.49, 5.95) & \\bfseries(5.41, 9.37)\\\\\n",
      "0.16 & \\bfseries(8.15, 10.4) & \\bfseries(9.89, 12.7) & \\bfseries(15.9, 20.2) & \\bfseries(3.16, 5.23) & \\bfseries(4.13, 6.63) & \\bfseries(6.64, 10.6)\\\\\n",
      "0.18 & \\bfseries(9.43, 11.7) & \\bfseries(11.5, 14.3) & \\bfseries(18.4, 22.7) & \\bfseries(3.73, 5.85) & \\bfseries(4.82, 7.44) & \\bfseries(7.66, 11.7)\\\\\n",
      "0.20 & \\bfseries(10.8, 13.1) & \\bfseries(13.3, 16.1) & \\bfseries(21.1, 25.4) & \\bfseries(4.34, 6.47) & \\bfseries(5.52, 8.04) & \\bfseries(8.87, 12.9)\\\\\n",
      "\\bottomrule\\end{tabular}\n"
     ]
    }
   ],
   "source": [
    "tab = ajf_utils.format_pred_int_table(emd_samp_df, DAM_LOCS)\n",
    "with open(\"./output/tabHighTrafficPIsSamp.tex\", \"w\") as f:\n",
    "    f.write(tab)\n",
    "print(tab)"
   ]
  },
  {
   "cell_type": "code",
   "execution_count": null,
   "id": "4d93b144-c7a4-49c8-b9ed-574169a163b8",
   "metadata": {},
   "outputs": [],
   "source": []
  },
  {
   "cell_type": "code",
   "execution_count": null,
   "id": "91fbd5ee-6690-4563-b5f7-feb0a3a9ca48",
   "metadata": {},
   "outputs": [],
   "source": []
  },
  {
   "cell_type": "code",
   "execution_count": null,
   "id": "a7962f23-9d82-4dbd-8083-6712392c9863",
   "metadata": {},
   "outputs": [],
   "source": []
  },
  {
   "cell_type": "code",
   "execution_count": null,
   "id": "0aa0434f-5aed-40f5-8fff-6dee9d37b03c",
   "metadata": {},
   "outputs": [],
   "source": []
  },
  {
   "cell_type": "code",
   "execution_count": null,
   "id": "9648f397-72e7-4093-8686-7f90e490c469",
   "metadata": {},
   "outputs": [],
   "source": []
  },
  {
   "cell_type": "code",
   "execution_count": null,
   "id": "42f7cc8f-36da-4e6f-a935-4c17800d8f4a",
   "metadata": {},
   "outputs": [],
   "source": []
  },
  {
   "cell_type": "code",
   "execution_count": null,
   "id": "ac662daf-c69c-466e-bb3c-ac47369f78be",
   "metadata": {},
   "outputs": [],
   "source": []
  },
  {
   "cell_type": "code",
   "execution_count": null,
   "id": "8cdb41b7-a733-4436-855e-8f2b8592cb9f",
   "metadata": {},
   "outputs": [],
   "source": []
  },
  {
   "cell_type": "code",
   "execution_count": null,
   "id": "306e99d8-fa39-4917-93be-b1b4325242d8",
   "metadata": {},
   "outputs": [],
   "source": []
  },
  {
   "cell_type": "code",
   "execution_count": null,
   "id": "684ae357-fab9-4cbb-9404-1382ca6f1bb5",
   "metadata": {},
   "outputs": [],
   "source": []
  },
  {
   "cell_type": "code",
   "execution_count": null,
   "id": "593c5960-df15-4cbe-810c-336e04d86517",
   "metadata": {},
   "outputs": [],
   "source": []
  },
  {
   "cell_type": "code",
   "execution_count": null,
   "id": "2f2ebdfb-459d-4c00-9829-87cbdc4f5d40",
   "metadata": {},
   "outputs": [],
   "source": []
  },
  {
   "cell_type": "code",
   "execution_count": null,
   "id": "404fbd24-b16b-4d62-9c3f-82af1d42c548",
   "metadata": {},
   "outputs": [],
   "source": []
  },
  {
   "cell_type": "code",
   "execution_count": null,
   "id": "fb6debeb-fdf5-472b-9efb-460ba4a13c37",
   "metadata": {},
   "outputs": [],
   "source": []
  },
  {
   "cell_type": "code",
   "execution_count": null,
   "id": "33315379-b224-4ba9-b28e-cc5f728afc01",
   "metadata": {},
   "outputs": [],
   "source": []
  },
  {
   "cell_type": "code",
   "execution_count": null,
   "id": "e296f9cf-31a2-4118-833b-777dc8a9954f",
   "metadata": {},
   "outputs": [],
   "source": []
  },
  {
   "cell_type": "code",
   "execution_count": null,
   "id": "07629637-9033-4834-aad3-1ffb05ca8d84",
   "metadata": {},
   "outputs": [],
   "source": []
  },
  {
   "cell_type": "code",
   "execution_count": null,
   "id": "8db70bf9-7b84-4f09-a397-6dbbd5aacfc1",
   "metadata": {},
   "outputs": [],
   "source": []
  },
  {
   "cell_type": "code",
   "execution_count": null,
   "id": "63b72c63-ebda-46c3-8d3c-6419af7c100a",
   "metadata": {},
   "outputs": [],
   "source": []
  },
  {
   "cell_type": "code",
   "execution_count": null,
   "id": "756632f1-77fc-4cbb-89f5-8cba6f138716",
   "metadata": {},
   "outputs": [],
   "source": []
  },
  {
   "cell_type": "code",
   "execution_count": null,
   "id": "eca9c78c-622f-4a90-a422-5f57e7c6b29c",
   "metadata": {},
   "outputs": [],
   "source": []
  },
  {
   "cell_type": "code",
   "execution_count": null,
   "id": "f9ad9e2e-4e5d-4c3f-8f1f-7f932f82a215",
   "metadata": {},
   "outputs": [],
   "source": []
  },
  {
   "cell_type": "code",
   "execution_count": null,
   "id": "d8904869-8750-475a-b510-3192ac12e820",
   "metadata": {},
   "outputs": [],
   "source": []
  },
  {
   "cell_type": "code",
   "execution_count": null,
   "id": "c00eb539-4901-4ded-a2ff-cc93333afd16",
   "metadata": {},
   "outputs": [],
   "source": []
  },
  {
   "cell_type": "code",
   "execution_count": null,
   "id": "220076e7-03e9-4864-8510-d395d80198b8",
   "metadata": {},
   "outputs": [],
   "source": []
  },
  {
   "cell_type": "code",
   "execution_count": null,
   "id": "a5e28259-10fe-4d74-9970-d159f9e70a2e",
   "metadata": {},
   "outputs": [],
   "source": []
  },
  {
   "cell_type": "code",
   "execution_count": null,
   "id": "4e24396e-9781-4440-8903-ebdfdc29918b",
   "metadata": {},
   "outputs": [],
   "source": []
  },
  {
   "cell_type": "code",
   "execution_count": null,
   "id": "33643cf6-c9a4-4a8d-9f3b-c1d2164fdde2",
   "metadata": {},
   "outputs": [],
   "source": []
  },
  {
   "cell_type": "code",
   "execution_count": null,
   "id": "8f3cf781-1bf5-486f-bc47-6636130a6a01",
   "metadata": {},
   "outputs": [],
   "source": []
  },
  {
   "cell_type": "code",
   "execution_count": null,
   "id": "0b0d6011-829f-49f7-966a-fe52a90f8334",
   "metadata": {},
   "outputs": [],
   "source": []
  },
  {
   "cell_type": "code",
   "execution_count": null,
   "id": "b0f2e16a-460f-4af4-b9e0-93b3d71c5c46",
   "metadata": {},
   "outputs": [],
   "source": []
  },
  {
   "cell_type": "code",
   "execution_count": null,
   "id": "6869c80f-9a5d-4140-891b-f1de0c0889a3",
   "metadata": {},
   "outputs": [],
   "source": []
  },
  {
   "cell_type": "code",
   "execution_count": null,
   "id": "def43f7d-dce8-49dc-9c79-4268664ae9ff",
   "metadata": {},
   "outputs": [],
   "source": []
  },
  {
   "cell_type": "code",
   "execution_count": null,
   "id": "4c156dbe-1826-43ac-a730-206317ab4985",
   "metadata": {},
   "outputs": [],
   "source": []
  },
  {
   "cell_type": "code",
   "execution_count": null,
   "id": "059a25eb-5aeb-436d-9767-3ef7817173fa",
   "metadata": {},
   "outputs": [],
   "source": []
  },
  {
   "cell_type": "code",
   "execution_count": null,
   "id": "32951504-4a7e-42cc-a638-7ed7506140ad",
   "metadata": {},
   "outputs": [],
   "source": []
  },
  {
   "cell_type": "code",
   "execution_count": null,
   "id": "290ed925-625c-483a-b354-d9f4d24e4751",
   "metadata": {},
   "outputs": [],
   "source": []
  },
  {
   "cell_type": "code",
   "execution_count": null,
   "id": "b6991045-a6b0-4a60-8722-b1916a355ac3",
   "metadata": {},
   "outputs": [],
   "source": []
  },
  {
   "cell_type": "code",
   "execution_count": null,
   "id": "f94323db-c62f-4c0e-bbf8-2bb307c800e7",
   "metadata": {},
   "outputs": [],
   "source": []
  },
  {
   "cell_type": "code",
   "execution_count": null,
   "id": "da0aa3bf-42d9-402a-a07f-889f515cf950",
   "metadata": {},
   "outputs": [],
   "source": []
  },
  {
   "cell_type": "code",
   "execution_count": null,
   "id": "21619ec2-91b8-4510-b759-48d618a7ffd2",
   "metadata": {},
   "outputs": [],
   "source": []
  },
  {
   "cell_type": "code",
   "execution_count": null,
   "id": "e84fb379-fad9-4cac-a038-e3c5fd726da1",
   "metadata": {},
   "outputs": [],
   "source": []
  },
  {
   "cell_type": "code",
   "execution_count": null,
   "id": "cc3145ea-927e-4bd5-a2e5-57eea6c52ddc",
   "metadata": {},
   "outputs": [],
   "source": []
  },
  {
   "cell_type": "code",
   "execution_count": null,
   "id": "2076f443-0441-4f6d-ada3-8a1e84d6f843",
   "metadata": {},
   "outputs": [],
   "source": []
  },
  {
   "cell_type": "code",
   "execution_count": null,
   "id": "62848ce9-f8f6-4f5c-bb5f-b93ca833dd0a",
   "metadata": {},
   "outputs": [],
   "source": []
  },
  {
   "cell_type": "code",
   "execution_count": null,
   "id": "4974f750-ca08-4722-94f8-a80a9355bd37",
   "metadata": {},
   "outputs": [],
   "source": []
  },
  {
   "cell_type": "code",
   "execution_count": null,
   "id": "8cd424db-34dc-46c3-b3e5-08d6fbac031c",
   "metadata": {},
   "outputs": [],
   "source": []
  },
  {
   "cell_type": "code",
   "execution_count": null,
   "id": "9ac420e9-b853-4702-9819-7efff1de8141",
   "metadata": {},
   "outputs": [],
   "source": []
  }
 ],
 "metadata": {
  "kernelspec": {
   "display_name": "Python 3 (ipykernel)",
   "language": "python",
   "name": "python3"
  },
  "language_info": {
   "codemirror_mode": {
    "name": "ipython",
    "version": 3
   },
   "file_extension": ".py",
   "mimetype": "text/x-python",
   "name": "python",
   "nbconvert_exporter": "python",
   "pygments_lexer": "ipython3",
   "version": "3.10.8"
  }
 },
 "nbformat": 4,
 "nbformat_minor": 5
}
