{
 "cells": [
  {
   "cell_type": "code",
   "execution_count": 52,
   "id": "d17d74ae-9360-4225-9d87-83d4cb28f1cb",
   "metadata": {},
   "outputs": [],
   "source": [
    "import numpy as np\n",
    "import scipy.io\n",
    "\n",
    "import matplotlib as mpl\n",
    "import matplotlib.pyplot as plt\n",
    "\n",
    "import code\n",
    "\n",
    "import ajf_plts"
   ]
  },
  {
   "cell_type": "code",
   "execution_count": 10,
   "id": "85cec5b7-b267-4180-93b3-1785e9c7d38b",
   "metadata": {},
   "outputs": [],
   "source": [
    "mat = scipy.io.loadmat('Data_Sample.mat', verify_compressed_data_integrity=False)"
   ]
  },
  {
   "cell_type": "code",
   "execution_count": 14,
   "id": "ff753e55-a8d8-4166-9774-cd0af23a131d",
   "metadata": {},
   "outputs": [
    {
     "data": {
      "text/plain": [
       "dict_keys(['__header__', '__version__', '__globals__', 'dataStruct_GH', 'dataStruct_TO', 'dataStruct_TN', 'dataStruct_LB', 'Position', 'Position_id'])"
      ]
     },
     "execution_count": 14,
     "metadata": {},
     "output_type": "execute_result"
    }
   ],
   "source": [
    "mat.keys()"
   ]
  },
  {
   "cell_type": "code",
   "execution_count": 51,
   "id": "6c8f6ebb-b173-47e1-8080-b9b439e2cd15",
   "metadata": {},
   "outputs": [],
   "source": [
    "data = mat['dataStruct_GH'][0][0][0][0][1].ravel()"
   ]
  },
  {
   "cell_type": "code",
   "execution_count": null,
   "id": "0e3b926d-b7f4-486f-8954-55a98fa2c55c",
   "metadata": {},
   "outputs": [],
   "source": []
  }
 ],
 "metadata": {
  "kernelspec": {
   "display_name": "Python 3 (ipykernel)",
   "language": "python",
   "name": "python3"
  },
  "language_info": {
   "codemirror_mode": {
    "name": "ipython",
    "version": 3
   },
   "file_extension": ".py",
   "mimetype": "text/x-python",
   "name": "python",
   "nbconvert_exporter": "python",
   "pygments_lexer": "ipython3",
   "version": "3.10.5"
  }
 },
 "nbformat": 4,
 "nbformat_minor": 5
}
