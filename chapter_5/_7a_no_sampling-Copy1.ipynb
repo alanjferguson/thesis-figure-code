{
 "cells": [
  {
   "cell_type": "code",
   "execution_count": 5,
   "id": "3fd59c0c-fff6-4e44-a68a-256e719c68c3",
   "metadata": {},
   "outputs": [
    {
     "name": "stdout",
     "output_type": "stream",
     "text": [
      "INFO: Pandarallel will run on 8 workers.\n",
      "INFO: Pandarallel will use Memory file system to transfer data between the main process and workers.\n"
     ]
    }
   ],
   "source": [
    "import copy\n",
    "import pickle\n",
    "\n",
    "import ajf_plts\n",
    "import ajf_utils\n",
    "import matplotlib as mpl\n",
    "import matplotlib.pyplot as plt\n",
    "import numpy as np\n",
    "import pandas as pd\n",
    "from ajf_bridge_fem import *\n",
    "from pandarallel import pandarallel\n",
    "from scipy import stats\n",
    "\n",
    "pandarallel.initialize(progress_bar=True)\n",
    "\n",
    "plt.style.use([\"./ajf_plts/base.mplstyle\", \"./ajf_plts/legend_frame.mplstyle\"])"
   ]
  },
  {
   "cell_type": "markdown",
   "id": "ac7d5551-fca5-4561-b638-674f278ae87f",
   "metadata": {
    "tags": []
   },
   "source": [
    "# Load result data "
   ]
  },
  {
   "cell_type": "code",
   "execution_count": 6,
   "id": "2c42194b-ee95-4fad-a3da-e7f3dfafafba",
   "metadata": {},
   "outputs": [
    {
     "data": {
      "text/html": [
       "<div>\n",
       "<style scoped>\n",
       "    .dataframe tbody tr th:only-of-type {\n",
       "        vertical-align: middle;\n",
       "    }\n",
       "\n",
       "    .dataframe tbody tr th {\n",
       "        vertical-align: top;\n",
       "    }\n",
       "\n",
       "    .dataframe thead th {\n",
       "        text-align: right;\n",
       "    }\n",
       "</style>\n",
       "<table border=\"1\" class=\"dataframe\">\n",
       "  <thead>\n",
       "    <tr style=\"text-align: right;\">\n",
       "      <th></th>\n",
       "      <th>seq_month</th>\n",
       "      <th>year</th>\n",
       "      <th>month</th>\n",
       "      <th>day</th>\n",
       "      <th>hour</th>\n",
       "      <th>minute</th>\n",
       "      <th>dayofweek</th>\n",
       "      <th>air_temperature</th>\n",
       "      <th>freq</th>\n",
       "      <th>E_val</th>\n",
       "      <th>...</th>\n",
       "      <th>S1</th>\n",
       "      <th>S2</th>\n",
       "      <th>S3</th>\n",
       "      <th>S4</th>\n",
       "      <th>S5</th>\n",
       "      <th>speed</th>\n",
       "      <th>x_dam</th>\n",
       "      <th>delta</th>\n",
       "      <th>L</th>\n",
       "      <th>R</th>\n",
       "    </tr>\n",
       "  </thead>\n",
       "  <tbody>\n",
       "    <tr>\n",
       "      <th>0</th>\n",
       "      <td>0</td>\n",
       "      <td>0</td>\n",
       "      <td>0</td>\n",
       "      <td>1</td>\n",
       "      <td>1</td>\n",
       "      <td>36</td>\n",
       "      <td>6</td>\n",
       "      <td>4.880000</td>\n",
       "      <td>5.786878</td>\n",
       "      <td>2.883737e+10</td>\n",
       "      <td>...</td>\n",
       "      <td>3.75</td>\n",
       "      <td>9.60</td>\n",
       "      <td>10.85</td>\n",
       "      <td>NaN</td>\n",
       "      <td>NaN</td>\n",
       "      <td>23.0</td>\n",
       "      <td>11.333333</td>\n",
       "      <td>0.0</td>\n",
       "      <td>0.000089</td>\n",
       "      <td>0.000089</td>\n",
       "    </tr>\n",
       "    <tr>\n",
       "      <th>1</th>\n",
       "      <td>0</td>\n",
       "      <td>0</td>\n",
       "      <td>0</td>\n",
       "      <td>1</td>\n",
       "      <td>4</td>\n",
       "      <td>43</td>\n",
       "      <td>6</td>\n",
       "      <td>3.555000</td>\n",
       "      <td>5.795990</td>\n",
       "      <td>2.892656e+10</td>\n",
       "      <td>...</td>\n",
       "      <td>4.50</td>\n",
       "      <td>5.85</td>\n",
       "      <td>NaN</td>\n",
       "      <td>NaN</td>\n",
       "      <td>NaN</td>\n",
       "      <td>24.0</td>\n",
       "      <td>11.333333</td>\n",
       "      <td>0.0</td>\n",
       "      <td>0.000128</td>\n",
       "      <td>0.000125</td>\n",
       "    </tr>\n",
       "    <tr>\n",
       "      <th>2</th>\n",
       "      <td>0</td>\n",
       "      <td>0</td>\n",
       "      <td>0</td>\n",
       "      <td>1</td>\n",
       "      <td>5</td>\n",
       "      <td>10</td>\n",
       "      <td>6</td>\n",
       "      <td>3.216667</td>\n",
       "      <td>5.799653</td>\n",
       "      <td>2.896242e+10</td>\n",
       "      <td>...</td>\n",
       "      <td>5.20</td>\n",
       "      <td>6.55</td>\n",
       "      <td>NaN</td>\n",
       "      <td>NaN</td>\n",
       "      <td>NaN</td>\n",
       "      <td>28.0</td>\n",
       "      <td>11.333333</td>\n",
       "      <td>0.0</td>\n",
       "      <td>0.000062</td>\n",
       "      <td>0.000061</td>\n",
       "    </tr>\n",
       "    <tr>\n",
       "      <th>3</th>\n",
       "      <td>0</td>\n",
       "      <td>0</td>\n",
       "      <td>0</td>\n",
       "      <td>1</td>\n",
       "      <td>5</td>\n",
       "      <td>12</td>\n",
       "      <td>6</td>\n",
       "      <td>3.200000</td>\n",
       "      <td>5.799898</td>\n",
       "      <td>2.896483e+10</td>\n",
       "      <td>...</td>\n",
       "      <td>5.95</td>\n",
       "      <td>7.45</td>\n",
       "      <td>NaN</td>\n",
       "      <td>NaN</td>\n",
       "      <td>NaN</td>\n",
       "      <td>27.5</td>\n",
       "      <td>11.333333</td>\n",
       "      <td>0.0</td>\n",
       "      <td>0.000112</td>\n",
       "      <td>0.000113</td>\n",
       "    </tr>\n",
       "    <tr>\n",
       "      <th>4</th>\n",
       "      <td>0</td>\n",
       "      <td>0</td>\n",
       "      <td>0</td>\n",
       "      <td>1</td>\n",
       "      <td>6</td>\n",
       "      <td>57</td>\n",
       "      <td>6</td>\n",
       "      <td>3.655000</td>\n",
       "      <td>5.801216</td>\n",
       "      <td>2.897772e+10</td>\n",
       "      <td>...</td>\n",
       "      <td>6.05</td>\n",
       "      <td>NaN</td>\n",
       "      <td>NaN</td>\n",
       "      <td>NaN</td>\n",
       "      <td>NaN</td>\n",
       "      <td>25.5</td>\n",
       "      <td>11.333333</td>\n",
       "      <td>0.0</td>\n",
       "      <td>0.000062</td>\n",
       "      <td>0.000061</td>\n",
       "    </tr>\n",
       "  </tbody>\n",
       "</table>\n",
       "<p>5 rows × 28 columns</p>\n",
       "</div>"
      ],
      "text/plain": [
       "   seq_month  year  month  day  hour  minute  dayofweek  air_temperature  \\\n",
       "0          0     0      0    1     1      36          6         4.880000   \n",
       "1          0     0      0    1     4      43          6         3.555000   \n",
       "2          0     0      0    1     5      10          6         3.216667   \n",
       "3          0     0      0    1     5      12          6         3.200000   \n",
       "4          0     0      0    1     6      57          6         3.655000   \n",
       "\n",
       "       freq         E_val  ...    S1    S2     S3  S4  S5  speed      x_dam  \\\n",
       "0  5.786878  2.883737e+10  ...  3.75  9.60  10.85 NaN NaN   23.0  11.333333   \n",
       "1  5.795990  2.892656e+10  ...  4.50  5.85    NaN NaN NaN   24.0  11.333333   \n",
       "2  5.799653  2.896242e+10  ...  5.20  6.55    NaN NaN NaN   28.0  11.333333   \n",
       "3  5.799898  2.896483e+10  ...  5.95  7.45    NaN NaN NaN   27.5  11.333333   \n",
       "4  5.801216  2.897772e+10  ...  6.05   NaN    NaN NaN NaN   25.5  11.333333   \n",
       "\n",
       "   delta         L         R  \n",
       "0    0.0  0.000089  0.000089  \n",
       "1    0.0  0.000128  0.000125  \n",
       "2    0.0  0.000062  0.000061  \n",
       "3    0.0  0.000112  0.000113  \n",
       "4    0.0  0.000062  0.000061  \n",
       "\n",
       "[5 rows x 28 columns]"
      ]
     },
     "execution_count": 6,
     "metadata": {},
     "output_type": "execute_result"
    }
   ],
   "source": [
    "DAM_LOCS = [\"L\", \"R\"]\n",
    "RUN_ID = \"2023-01-22T23:19:22.013087_LB\"\n",
    "\n",
    "all_data = (\n",
    "    pd.read_parquet(f\"./{RUN_ID}_w_error\")\n",
    "    .sort_values([\"year\", \"delta\"])\n",
    "    .reset_index(drop=True)\n",
    ")\n",
    "\n",
    "all_data.head()"
   ]
  },
  {
   "cell_type": "markdown",
   "id": "2a7ffa7d-41ef-48ea-aae5-8ac6a126bd06",
   "metadata": {},
   "source": [
    "# Only keep the columns that we need to make code run a bit faster"
   ]
  },
  {
   "cell_type": "code",
   "execution_count": 7,
   "id": "85141939-c4df-49db-8d3e-b76970264341",
   "metadata": {},
   "outputs": [
    {
     "data": {
      "text/html": [
       "<div>\n",
       "<style scoped>\n",
       "    .dataframe tbody tr th:only-of-type {\n",
       "        vertical-align: middle;\n",
       "    }\n",
       "\n",
       "    .dataframe tbody tr th {\n",
       "        vertical-align: top;\n",
       "    }\n",
       "\n",
       "    .dataframe thead th {\n",
       "        text-align: right;\n",
       "    }\n",
       "</style>\n",
       "<table border=\"1\" class=\"dataframe\">\n",
       "  <thead>\n",
       "    <tr style=\"text-align: right;\">\n",
       "      <th></th>\n",
       "      <th>delta</th>\n",
       "      <th>year</th>\n",
       "      <th>AxleCount</th>\n",
       "      <th>L</th>\n",
       "      <th>R</th>\n",
       "    </tr>\n",
       "  </thead>\n",
       "  <tbody>\n",
       "    <tr>\n",
       "      <th>0</th>\n",
       "      <td>0.0</td>\n",
       "      <td>0</td>\n",
       "      <td>4</td>\n",
       "      <td>0.000089</td>\n",
       "      <td>0.000089</td>\n",
       "    </tr>\n",
       "    <tr>\n",
       "      <th>1</th>\n",
       "      <td>0.0</td>\n",
       "      <td>0</td>\n",
       "      <td>3</td>\n",
       "      <td>0.000128</td>\n",
       "      <td>0.000125</td>\n",
       "    </tr>\n",
       "    <tr>\n",
       "      <th>2</th>\n",
       "      <td>0.0</td>\n",
       "      <td>0</td>\n",
       "      <td>3</td>\n",
       "      <td>0.000062</td>\n",
       "      <td>0.000061</td>\n",
       "    </tr>\n",
       "    <tr>\n",
       "      <th>3</th>\n",
       "      <td>0.0</td>\n",
       "      <td>0</td>\n",
       "      <td>3</td>\n",
       "      <td>0.000112</td>\n",
       "      <td>0.000113</td>\n",
       "    </tr>\n",
       "    <tr>\n",
       "      <th>4</th>\n",
       "      <td>0.0</td>\n",
       "      <td>0</td>\n",
       "      <td>2</td>\n",
       "      <td>0.000062</td>\n",
       "      <td>0.000061</td>\n",
       "    </tr>\n",
       "    <tr>\n",
       "      <th>...</th>\n",
       "      <td>...</td>\n",
       "      <td>...</td>\n",
       "      <td>...</td>\n",
       "      <td>...</td>\n",
       "      <td>...</td>\n",
       "    </tr>\n",
       "    <tr>\n",
       "      <th>36701743</th>\n",
       "      <td>0.2</td>\n",
       "      <td>60</td>\n",
       "      <td>5</td>\n",
       "      <td>0.000096</td>\n",
       "      <td>0.000085</td>\n",
       "    </tr>\n",
       "    <tr>\n",
       "      <th>36701744</th>\n",
       "      <td>0.2</td>\n",
       "      <td>60</td>\n",
       "      <td>4</td>\n",
       "      <td>0.000158</td>\n",
       "      <td>0.000151</td>\n",
       "    </tr>\n",
       "    <tr>\n",
       "      <th>36701745</th>\n",
       "      <td>0.2</td>\n",
       "      <td>60</td>\n",
       "      <td>2</td>\n",
       "      <td>0.000047</td>\n",
       "      <td>0.000043</td>\n",
       "    </tr>\n",
       "    <tr>\n",
       "      <th>36701746</th>\n",
       "      <td>0.2</td>\n",
       "      <td>60</td>\n",
       "      <td>6</td>\n",
       "      <td>0.000146</td>\n",
       "      <td>0.000144</td>\n",
       "    </tr>\n",
       "    <tr>\n",
       "      <th>36701747</th>\n",
       "      <td>0.2</td>\n",
       "      <td>60</td>\n",
       "      <td>5</td>\n",
       "      <td>0.000145</td>\n",
       "      <td>0.000143</td>\n",
       "    </tr>\n",
       "  </tbody>\n",
       "</table>\n",
       "<p>36701748 rows × 5 columns</p>\n",
       "</div>"
      ],
      "text/plain": [
       "          delta  year  AxleCount         L         R\n",
       "0           0.0     0          4  0.000089  0.000089\n",
       "1           0.0     0          3  0.000128  0.000125\n",
       "2           0.0     0          3  0.000062  0.000061\n",
       "3           0.0     0          3  0.000112  0.000113\n",
       "4           0.0     0          2  0.000062  0.000061\n",
       "...         ...   ...        ...       ...       ...\n",
       "36701743    0.2    60          5  0.000096  0.000085\n",
       "36701744    0.2    60          4  0.000158  0.000151\n",
       "36701745    0.2    60          2  0.000047  0.000043\n",
       "36701746    0.2    60          6  0.000146  0.000144\n",
       "36701747    0.2    60          5  0.000145  0.000143\n",
       "\n",
       "[36701748 rows x 5 columns]"
      ]
     },
     "execution_count": 7,
     "metadata": {},
     "output_type": "execute_result"
    }
   ],
   "source": [
    "keep_cols = [\"delta\", \"year\", \"AxleCount\"] + DAM_LOCS\n",
    "res_data = all_data.loc[:, keep_cols]\n",
    "\n",
    "res_data"
   ]
  },
  {
   "cell_type": "markdown",
   "id": "079cd8d7-7be3-4d85-adc9-4d572089fe98",
   "metadata": {},
   "source": [
    "# Extract baseline"
   ]
  },
  {
   "cell_type": "code",
   "execution_count": 8,
   "id": "3ac6b548-2c38-4e95-ab11-07f1a5968982",
   "metadata": {},
   "outputs": [],
   "source": [
    "baseline = res_data.loc[(res_data.year == 0) & (res_data.delta == 0.0)]"
   ]
  },
  {
   "cell_type": "code",
   "execution_count": 9,
   "id": "0c7b5557-c9d1-4622-a77b-414a64f47f5f",
   "metadata": {
    "jupyter": {
     "source_hidden": true
    },
    "tags": []
   },
   "outputs": [
    {
     "ename": "KeyError",
     "evalue": "'Requested level (delta) does not match index name (None)'",
     "output_type": "error",
     "traceback": [
      "\u001b[0;31m---------------------------------------------------------------------------\u001b[0m",
      "\u001b[0;31mKeyError\u001b[0m                                  Traceback (most recent call last)",
      "Input \u001b[0;32mIn [9]\u001b[0m, in \u001b[0;36m<cell line: 1>\u001b[0;34m()\u001b[0m\n\u001b[0;32m----> 1\u001b[0m deltas \u001b[38;5;241m=\u001b[39m \u001b[43mres_data\u001b[49m\u001b[38;5;241;43m.\u001b[39;49m\u001b[43mindex\u001b[49m\u001b[38;5;241;43m.\u001b[39;49m\u001b[43mget_level_values\u001b[49m\u001b[43m(\u001b[49m\u001b[38;5;124;43m\"\u001b[39;49m\u001b[38;5;124;43mdelta\u001b[39;49m\u001b[38;5;124;43m\"\u001b[39;49m\u001b[43m)\u001b[49m\u001b[38;5;241m.\u001b[39munique()\n\u001b[1;32m      2\u001b[0m max_year \u001b[38;5;241m=\u001b[39m res_data\u001b[38;5;241m.\u001b[39mindex\u001b[38;5;241m.\u001b[39mget_level_values(\u001b[38;5;124m\"\u001b[39m\u001b[38;5;124myear\u001b[39m\u001b[38;5;124m\"\u001b[39m)\u001b[38;5;241m.\u001b[39mmax()\n",
      "File \u001b[0;32m~/ajf_conda_envs/r_python310/lib/python3.10/site-packages/pandas/core/indexes/base.py:2008\u001b[0m, in \u001b[0;36mIndex._get_level_values\u001b[0;34m(self, level)\u001b[0m\n\u001b[1;32m   1972\u001b[0m \u001b[38;5;28;01mdef\u001b[39;00m \u001b[38;5;21m_get_level_values\u001b[39m(\u001b[38;5;28mself\u001b[39m, level) \u001b[38;5;241m-\u001b[39m\u001b[38;5;241m>\u001b[39m Index:\n\u001b[1;32m   1973\u001b[0m     \u001b[38;5;124;03m\"\"\"\u001b[39;00m\n\u001b[1;32m   1974\u001b[0m \u001b[38;5;124;03m    Return an Index of values for requested level.\u001b[39;00m\n\u001b[1;32m   1975\u001b[0m \n\u001b[0;32m   (...)\u001b[0m\n\u001b[1;32m   2006\u001b[0m \u001b[38;5;124;03m    Index(['a', 'b', 'c'], dtype='object')\u001b[39;00m\n\u001b[1;32m   2007\u001b[0m \u001b[38;5;124;03m    \"\"\"\u001b[39;00m\n\u001b[0;32m-> 2008\u001b[0m     \u001b[38;5;28;43mself\u001b[39;49m\u001b[38;5;241;43m.\u001b[39;49m\u001b[43m_validate_index_level\u001b[49m\u001b[43m(\u001b[49m\u001b[43mlevel\u001b[49m\u001b[43m)\u001b[49m\n\u001b[1;32m   2009\u001b[0m     \u001b[38;5;28;01mreturn\u001b[39;00m \u001b[38;5;28mself\u001b[39m\n",
      "File \u001b[0;32m~/ajf_conda_envs/r_python310/lib/python3.10/site-packages/pandas/core/indexes/base.py:1931\u001b[0m, in \u001b[0;36mIndex._validate_index_level\u001b[0;34m(self, level)\u001b[0m\n\u001b[1;32m   1927\u001b[0m         \u001b[38;5;28;01mraise\u001b[39;00m \u001b[38;5;167;01mIndexError\u001b[39;00m(\n\u001b[1;32m   1928\u001b[0m             \u001b[38;5;124mf\u001b[39m\u001b[38;5;124m\"\u001b[39m\u001b[38;5;124mToo many levels: Index has only 1 level, not \u001b[39m\u001b[38;5;132;01m{\u001b[39;00mlevel \u001b[38;5;241m+\u001b[39m \u001b[38;5;241m1\u001b[39m\u001b[38;5;132;01m}\u001b[39;00m\u001b[38;5;124m\"\u001b[39m\n\u001b[1;32m   1929\u001b[0m         )\n\u001b[1;32m   1930\u001b[0m \u001b[38;5;28;01melif\u001b[39;00m level \u001b[38;5;241m!=\u001b[39m \u001b[38;5;28mself\u001b[39m\u001b[38;5;241m.\u001b[39mname:\n\u001b[0;32m-> 1931\u001b[0m     \u001b[38;5;28;01mraise\u001b[39;00m \u001b[38;5;167;01mKeyError\u001b[39;00m(\n\u001b[1;32m   1932\u001b[0m         \u001b[38;5;124mf\u001b[39m\u001b[38;5;124m\"\u001b[39m\u001b[38;5;124mRequested level (\u001b[39m\u001b[38;5;132;01m{\u001b[39;00mlevel\u001b[38;5;132;01m}\u001b[39;00m\u001b[38;5;124m) does not match index name (\u001b[39m\u001b[38;5;132;01m{\u001b[39;00m\u001b[38;5;28mself\u001b[39m\u001b[38;5;241m.\u001b[39mname\u001b[38;5;132;01m}\u001b[39;00m\u001b[38;5;124m)\u001b[39m\u001b[38;5;124m\"\u001b[39m\n\u001b[1;32m   1933\u001b[0m     )\n",
      "\u001b[0;31mKeyError\u001b[0m: 'Requested level (delta) does not match index name (None)'"
     ]
    }
   ],
   "source": [
    "deltas = res_data.index.get_level_values(\"delta\").unique()\n",
    "max_year = res_data.index.get_level_values(\"year\").max()"
   ]
  },
  {
   "cell_type": "code",
   "execution_count": null,
   "id": "2bf757a5-2956-4e30-9740-16cce3c20d1e",
   "metadata": {},
   "outputs": [],
   "source": [
    "AXLE_NUMS = [np.arange(2, 7), np.arange(5, 6), np.arange(6, 7)]\n",
    "AXLE_NAMES = [\"All\", \"5ax\", \"6ax\"]\n",
    "\n",
    "\n",
    "def calc_emd(df):\n",
    "    return dict(\n",
    "        zip(\n",
    "            [l + \"_\" + n for n in AXLE_NAMES for l in DAM_LOCS],\n",
    "            [\n",
    "                stats.wasserstein_distance(\n",
    "                    baseline.loc[baseline.AxleCount.isin(axles), l].values,\n",
    "                    df.loc[df.AxleCount.isin(axles), l].values,\n",
    "                )\n",
    "                for axles in AXLE_NUMS\n",
    "                for l in DAM_LOCS\n",
    "            ],\n",
    "        )\n",
    "    )"
   ]
  },
  {
   "cell_type": "code",
   "execution_count": 155,
   "id": "80a0b3b4-c70f-4f0e-9e0f-8fd4fc97cf23",
   "metadata": {},
   "outputs": [
    {
     "data": {
      "application/vnd.jupyter.widget-view+json": {
       "model_id": "4a8050594ae14924b7da62823e1e7b86",
       "version_major": 2,
       "version_minor": 0
      },
      "text/plain": [
       "VBox(children=(HBox(children=(IntProgress(value=0, description='0.00%', max=46), Label(value='0 / 46'))), HBox…"
      ]
     },
     "metadata": {},
     "output_type": "display_data"
    }
   ],
   "source": [
    "emd_vals = res_data.groupby([\"delta\", \"year\"]).parallel_apply(calc_emd)\n",
    "emd_df = pd.DataFrame(\n",
    "    emd_vals.to_list(),\n",
    "    index=emd_vals.index,\n",
    ")\n",
    "emd_df = emd_df.dropna()"
   ]
  },
  {
   "cell_type": "code",
   "execution_count": 233,
   "id": "16e709dd-8a8d-4fdd-8615-639676937569",
   "metadata": {},
   "outputs": [],
   "source": [
    "delta_vals = res_data.delta.unique()\n",
    "years = res_data.year.unique()[1:]  # remove baseline\n",
    "year_delta_df = pd.DataFrame(\n",
    "    years,\n",
    "    index=delta_vals[\n",
    "        (np.arange(1, max_year + 1) - 1) // (years.max() // len(delta_vals))\n",
    "    ],\n",
    "    columns=[\"year\"],\n",
    ")"
   ]
  },
  {
   "cell_type": "code",
   "execution_count": 234,
   "id": "8a439cfd-59e7-4969-8dec-e0e8fd5c88d0",
   "metadata": {},
   "outputs": [
    {
     "data": {
      "text/plain": [
       "array([ 1,  2,  3,  4,  5,  6,  7,  8,  9, 10])"
      ]
     },
     "execution_count": 234,
     "metadata": {},
     "output_type": "execute_result"
    }
   ],
   "source": []
  },
  {
   "cell_type": "code",
   "execution_count": 240,
   "id": "a06592fb-eb49-4c9b-88b5-965063ad78af",
   "metadata": {},
   "outputs": [
    {
     "data": {
      "text/plain": [
       "year\n",
       "1     7.957504e-07\n",
       "2     4.623178e-07\n",
       "3     1.668827e-07\n",
       "4     6.211995e-07\n",
       "5     5.296075e-07\n",
       "6     1.656776e-07\n",
       "7     3.060565e-07\n",
       "8     1.241343e-07\n",
       "9     2.186625e-07\n",
       "10    3.322604e-07\n",
       "Name: L_All, dtype: float64"
      ]
     },
     "execution_count": 240,
     "metadata": {},
     "output_type": "execute_result"
    }
   ],
   "source": [
    "group.loc[delta].loc[year_delta_df.loc[delta].values.flatten(), \"L_All\"]"
   ]
  },
  {
   "cell_type": "code",
   "execution_count": null,
   "id": "47dc0a3c-8683-4480-a33b-6c3406430921",
   "metadata": {},
   "outputs": [],
   "source": []
  },
  {
   "cell_type": "code",
   "execution_count": 288,
   "id": "116ccb44-d5b3-4202-b177-465954f48a64",
   "metadata": {},
   "outputs": [
    {
     "data": {
      "image/png": "[encoded data removed]",
      "text/plain": [
       "<Figure size 418.25x501.9 with 6 Axes>"
      ]
     },
     "metadata": {
      "needs_background": "light"
     },
     "output_type": "display_data"
    }
   ],
   "source": [
    "plt.style.use(\n",
    "    [\n",
    "        \"./ajf_plts/base.mplstyle\",\n",
    "        \"./ajf_plts/legend_frame.mplstyle\",\n",
    "        \"./ajf_plts/lines_markers.mplstyle\",\n",
    "    ]\n",
    ")\n",
    "\n",
    "figsize = (ajf_plts.text_width_inches, len(AXLE_NUMS) * ajf_plts.fig_height_inches)\n",
    "fig, axes = plt.subplots(figsize=figsize, ncols=len(DAM_LOCS), nrows=len(AXLE_NUMS))\n",
    "\n",
    "for i, axles in enumerate(AXLE_NAMES):\n",
    "    for j, pos in enumerate(DAM_LOCS):\n",
    "        for delta, group in emd_df.groupby(\"delta\"):\n",
    "            axes[i, j].plot(\n",
    "                group.loc[delta].loc[\n",
    "                    year_delta_df.loc[delta].values.flatten(), f\"{pos}_{axles}\"\n",
    "                ]\n",
    "                * 1e6,\n",
    "                ls=\"\",\n",
    "                label=delta,\n",
    "            )\n",
    "\n",
    "for a in axes.ravel():\n",
    "    _ = a.set_xlabel(\"Year\")\n",
    "    _ = a.legend(\n",
    "        loc=\"upper left\", title=\"$\\delta$\", ncol=2, handletextpad=0.0, columnspacing=0.0\n",
    "    )\n",
    "\n",
    "for a in axes[:, 0]:\n",
    "    _ = a.set_ylabel(r\"$\\mathrm{DI_{LL}}$ / \\unit{\\micro\\radian}\")\n",
    "\n",
    "for a in axes[:, -1]:\n",
    "    _ = a.set_ylabel(r\"$\\mathrm{DI_{RR}}$ / \\unit{\\micro\\radian}\")\n",
    "\n",
    "for row in axes[0:, :]:\n",
    "    for a in row:\n",
    "        _ = a.set_ylim(row[0].get_ylim())\n",
    "\n",
    "ajf_plts.caption_axes(axes.ravel())\n",
    "fig.tight_layout(h_pad=1.0)\n",
    "\n",
    "ajf_plts.save_fig(fig, \"figNoSamplingStepsStairs.pdf\")"
   ]
  },
  {
   "cell_type": "code",
   "execution_count": 289,
   "id": "bffc01e9-4fe6-4004-867d-444572ddfba4",
   "metadata": {},
   "outputs": [
    {
     "data": {
      "image/png": "[encoded data removed]",
      "text/plain": [
       "<Figure size 418.25x501.9 with 6 Axes>"
      ]
     },
     "metadata": {
      "needs_background": "light"
     },
     "output_type": "display_data"
    }
   ],
   "source": [
    "plt.style.use(\n",
    "    [\n",
    "        \"./ajf_plts/base.mplstyle\",\n",
    "        \"./ajf_plts/legend_frame.mplstyle\",\n",
    "        \"./ajf_plts/lines_markers.mplstyle\",\n",
    "    ]\n",
    ")\n",
    "\n",
    "figsize = (ajf_plts.text_width_inches, len(AXLE_NUMS) * ajf_plts.fig_height_inches)\n",
    "fig, axes = plt.subplots(figsize=figsize, ncols=len(DAM_LOCS), nrows=len(AXLE_NUMS))\n",
    "\n",
    "for i, axles in enumerate(AXLE_NAMES):\n",
    "    for j, pos in enumerate(DAM_LOCS):\n",
    "        for delta, group in emd_df.groupby(\"delta\"):\n",
    "            axes[i, j].plot(\n",
    "                group.loc[:, f\"{pos}_{axles}\"].values * 1e6, ls=\"\", label=delta\n",
    "            )\n",
    "\n",
    "for a in axes.ravel():\n",
    "    _ = a.set_xlabel(\"Year\")\n",
    "\n",
    "for a in axes[:, 0]:\n",
    "    _ = a.set_ylabel(r\"$\\mathrm{DI_{LL}}$ / \\unit{\\micro\\radian}\")\n",
    "\n",
    "for a in axes[:, -1]:\n",
    "    _ = a.set_ylabel(r\"$\\mathrm{DI_{RR}}$ / \\unit{\\micro\\radian}\")\n",
    "    _ = a.legend(\n",
    "        loc=\"upper center\",\n",
    "        title=\"$\\delta$\",\n",
    "        ncol=3,\n",
    "        handletextpad=0.0,\n",
    "        columnspacing=0.0,\n",
    "    )\n",
    "\n",
    "for row in axes[0:, :]:\n",
    "    for a in row:\n",
    "        _ = a.set_ylim(row[0].get_ylim())\n",
    "\n",
    "ajf_plts.caption_axes(axes.ravel())\n",
    "fig.tight_layout(h_pad=1.0)\n",
    "\n",
    "ajf_plts.save_fig(fig, \"figNoSamplingScatter60years.pdf\")"
   ]
  },
  {
   "cell_type": "code",
   "execution_count": 290,
   "id": "2f7da257-a4e5-4b9f-bf39-8168b61bcd1c",
   "metadata": {},
   "outputs": [
    {
     "data": {
      "image/png": "[encoded data removed]",
      "text/plain": [
       "<Figure size 418.25x501.9 with 6 Axes>"
      ]
     },
     "metadata": {
      "needs_background": "light"
     },
     "output_type": "display_data"
    }
   ],
   "source": [
    "plt.style.use(\n",
    "    [\n",
    "        \"./ajf_plts/base.mplstyle\",\n",
    "        \"./ajf_plts/legend_frame.mplstyle\",\n",
    "        \"./ajf_plts/lines_markers.mplstyle\",\n",
    "    ]\n",
    ")\n",
    "\n",
    "figsize = (ajf_plts.text_width_inches, len(AXLE_NUMS) * ajf_plts.fig_height_inches)\n",
    "fig, axes = plt.subplots(figsize=figsize, ncols=len(DAM_LOCS), nrows=len(AXLE_NUMS))\n",
    "\n",
    "for i, axles in enumerate(AXLE_NAMES):\n",
    "    for j, pos in enumerate(DAM_LOCS):\n",
    "        data = []\n",
    "        for delta, group in emd_df.groupby(\"delta\"):\n",
    "            data.append(group.loc[:, f\"{pos}_{axles}\"].values * 1e6)\n",
    "        bp = axes[i, j].boxplot(data)\n",
    "        #    _ = ax.boxplot(group.loc[:, f\"{pos}_{axles}\"].values)\n",
    "#            axes[i, j].plot(\n",
    "#                group.loc[:, f\"{pos}_{axles}\"].values * 1e6, ls=\"\", label=delta\n",
    "#            )\n",
    "\n",
    "\n",
    "for a in axes.ravel():\n",
    "    a.set_xlabel(\"Damage Severity, $\\delta$\")\n",
    "    a.set_xticklabels(delta_vals)\n",
    "    a.tick_params(axis=\"x\", which=\"both\", bottom=False, top=False)\n",
    "\n",
    "for a in axes[:, 0]:\n",
    "    _ = a.set_ylabel(r\"$\\mathrm{DI_{LL}}$ / \\unit{\\micro\\radian}\")\n",
    "\n",
    "for a in axes[:, -1]:\n",
    "    _ = a.set_ylabel(r\"$\\mathrm{DI_{RR}}$ / \\unit{\\micro\\radian}\")\n",
    "#    _ = a.legend(\n",
    "#        loc=\"upper center\",\n",
    "#        title=\"$\\delta$\",\n",
    "#        ncol=3,\n",
    "#        handletextpad=0.0,\n",
    "#        columnspacing=0.0,\n",
    "#    )\n",
    "\n",
    "for row in axes[0:, :]:\n",
    "    for a in row:\n",
    "        _ = a.set_ylim(row[0].get_ylim())\n",
    "\n",
    "ajf_plts.caption_axes(axes.ravel())\n",
    "fig.tight_layout(h_pad=1.0)\n",
    "\n",
    "ajf_plts.save_fig(fig, \"figNoSamplingBoxPlots.pdf\")"
   ]
  },
  {
   "cell_type": "markdown",
   "id": "1fcbd40f-0af2-41dd-9a87-fdd1e703f20a",
   "metadata": {},
   "source": [
    "# Table of stats tests"
   ]
  },
  {
   "cell_type": "code",
   "execution_count": 372,
   "id": "42f7cc8f-36da-4e6f-a935-4c17800d8f4a",
   "metadata": {},
   "outputs": [],
   "source": [
    "# Freedman-Diaconis rule\n",
    "def get_rv_hist(vals):\n",
    "    h = 2.0 * stats.iqr(vals) * np.power(len(vals), -1.0 / 3.0)\n",
    "    n_bins = int(np.ptp(vals) // h)\n",
    "    return stats.rv_histogram(np.histogram(vals, bins=n_bins))"
   ]
  },
  {
   "cell_type": "code",
   "execution_count": 376,
   "id": "81afb234-eb4f-499d-9039-065035c02de2",
   "metadata": {},
   "outputs": [
    {
     "data": {
      "text/plain": [
       "False"
      ]
     },
     "execution_count": 376,
     "metadata": {},
     "output_type": "execute_result"
    }
   ],
   "source": []
  },
  {
   "cell_type": "code",
   "execution_count": 399,
   "id": "97eb8da0-eee0-45b9-ba3f-c861522df004",
   "metadata": {},
   "outputs": [],
   "source": [
    "pos = \"L\"\n",
    "axles = \"All\"\n",
    "col = f\"{pos}_{axles}\"\n",
    "ALPHA = 0.05\n",
    "\n",
    "N_healthy = 5\n",
    "N_damaged = 5\n",
    "N_hd = N_healthy + N_damaged"
   ]
  },
  {
   "cell_type": "code",
   "execution_count": 402,
   "id": "22371748-9faf-48c0-bbda-58af6065ba0e",
   "metadata": {},
   "outputs": [
    {
     "data": {
      "text/plain": [
       "[array([ 1,  2,  3,  4,  5,  6,  7,  8,  9, 10]),\n",
       " array([ 2,  3,  4,  5,  6,  7,  8,  9, 10, 11]),\n",
       " array([ 3,  4,  5,  6,  7,  8,  9, 10, 11, 12]),\n",
       " array([ 4,  5,  6,  7,  8,  9, 10, 11, 12, 13]),\n",
       " array([ 5,  6,  7,  8,  9, 10, 11, 12, 13, 14]),\n",
       " array([ 6,  7,  8,  9, 10, 11, 12, 13, 14, 15]),\n",
       " array([ 7,  8,  9, 10, 11, 12, 13, 14, 15, 16]),\n",
       " array([ 8,  9, 10, 11, 12, 13, 14, 15, 16, 17]),\n",
       " array([ 9, 10, 11, 12, 13, 14, 15, 16, 17, 18]),\n",
       " array([10, 11, 12, 13, 14, 15, 16, 17, 18, 19]),\n",
       " array([11, 12, 13, 14, 15, 16, 17, 18, 19, 20]),\n",
       " array([12, 13, 14, 15, 16, 17, 18, 19, 20, 21]),\n",
       " array([13, 14, 15, 16, 17, 18, 19, 20, 21, 22]),\n",
       " array([14, 15, 16, 17, 18, 19, 20, 21, 22, 23]),\n",
       " array([15, 16, 17, 18, 19, 20, 21, 22, 23, 24]),\n",
       " array([16, 17, 18, 19, 20, 21, 22, 23, 24, 25]),\n",
       " array([17, 18, 19, 20, 21, 22, 23, 24, 25, 26]),\n",
       " array([18, 19, 20, 21, 22, 23, 24, 25, 26, 27]),\n",
       " array([19, 20, 21, 22, 23, 24, 25, 26, 27, 28]),\n",
       " array([20, 21, 22, 23, 24, 25, 26, 27, 28, 29]),\n",
       " array([21, 22, 23, 24, 25, 26, 27, 28, 29, 30]),\n",
       " array([22, 23, 24, 25, 26, 27, 28, 29, 30, 31]),\n",
       " array([23, 24, 25, 26, 27, 28, 29, 30, 31, 32]),\n",
       " array([24, 25, 26, 27, 28, 29, 30, 31, 32, 33]),\n",
       " array([25, 26, 27, 28, 29, 30, 31, 32, 33, 34]),\n",
       " array([26, 27, 28, 29, 30, 31, 32, 33, 34, 35]),\n",
       " array([27, 28, 29, 30, 31, 32, 33, 34, 35, 36]),\n",
       " array([28, 29, 30, 31, 32, 33, 34, 35, 36, 37]),\n",
       " array([29, 30, 31, 32, 33, 34, 35, 36, 37, 38]),\n",
       " array([30, 31, 32, 33, 34, 35, 36, 37, 38, 39]),\n",
       " array([31, 32, 33, 34, 35, 36, 37, 38, 39, 40]),\n",
       " array([32, 33, 34, 35, 36, 37, 38, 39, 40, 41]),\n",
       " array([33, 34, 35, 36, 37, 38, 39, 40, 41, 42]),\n",
       " array([34, 35, 36, 37, 38, 39, 40, 41, 42, 43]),\n",
       " array([35, 36, 37, 38, 39, 40, 41, 42, 43, 44]),\n",
       " array([36, 37, 38, 39, 40, 41, 42, 43, 44, 45]),\n",
       " array([37, 38, 39, 40, 41, 42, 43, 44, 45, 46]),\n",
       " array([38, 39, 40, 41, 42, 43, 44, 45, 46, 47]),\n",
       " array([39, 40, 41, 42, 43, 44, 45, 46, 47, 48]),\n",
       " array([40, 41, 42, 43, 44, 45, 46, 47, 48, 49]),\n",
       " array([41, 42, 43, 44, 45, 46, 47, 48, 49, 50]),\n",
       " array([42, 43, 44, 45, 46, 47, 48, 49, 50, 51]),\n",
       " array([43, 44, 45, 46, 47, 48, 49, 50, 51, 52]),\n",
       " array([44, 45, 46, 47, 48, 49, 50, 51, 52, 53]),\n",
       " array([45, 46, 47, 48, 49, 50, 51, 52, 53, 54]),\n",
       " array([46, 47, 48, 49, 50, 51, 52, 53, 54, 55]),\n",
       " array([47, 48, 49, 50, 51, 52, 53, 54, 55, 56]),\n",
       " array([48, 49, 50, 51, 52, 53, 54, 55, 56, 57]),\n",
       " array([49, 50, 51, 52, 53, 54, 55, 56, 57, 58]),\n",
       " array([50, 51, 52, 53, 54, 55, 56, 57, 58, 59])]"
      ]
     },
     "execution_count": 402,
     "metadata": {},
     "output_type": "execute_result"
    }
   ],
   "source": [
    "[np.arange(0, N_hd) + x for x in np.arange(1, years.max() - N_hd + 1)]"
   ]
  },
  {
   "cell_type": "code",
   "execution_count": null,
   "id": "5c3d1fab-3110-4288-a548-3c07a3867efd",
   "metadata": {},
   "outputs": [],
   "source": []
  },
  {
   "cell_type": "code",
   "execution_count": null,
   "id": "94c8f734-2560-49c7-ab3e-aa3e60452501",
   "metadata": {},
   "outputs": [],
   "source": []
  },
  {
   "cell_type": "code",
   "execution_count": 475,
   "id": "a41a13a9-2737-4ff4-9eb8-1e00c45cb5b1",
   "metadata": {},
   "outputs": [
    {
     "data": {
      "text/plain": [
       "['L_All', 'L_5ax', 'L_6ax', 'R_All', 'R_5ax', 'R_6ax']"
      ]
     },
     "execution_count": 475,
     "metadata": {},
     "output_type": "execute_result"
    }
   ],
   "source": []
  },
  {
   "cell_type": "code",
   "execution_count": 481,
   "id": "b5be6858-6ad7-49c2-b128-75b909df0352",
   "metadata": {},
   "outputs": [
    {
     "name": "stdout",
     "output_type": "stream",
     "text": [
      "Delta  L_All    L_5ax    L_6ax    R_All    R_5ax    R_6ax    \n",
      "0.000  False    False    False    False    False    False    \n",
      "0.010  False    False    False    False    False    False    \n",
      "0.025  False    False    False    False    False    False    \n",
      "0.050  True     True     True     False    False    False    \n",
      "0.100  True     True     True     True     True     True     \n",
      "0.200  True     True     True     True     True     True     \n"
     ]
    }
   ],
   "source": [
    "loc_veh_pairs = [f\"{l}_{a}\" for l in DAM_LOCS for a in AXLE_NAMES]\n",
    "ALPHA = 0.05\n",
    "CONF = 1.0 - ALPHA\n",
    "\n",
    "print(\"Delta  \", end=\"\")\n",
    "for lv in loc_veh_pairs:\n",
    "    print(lv + \"    \", end=\"\")\n",
    "print()\n",
    "\n",
    "for d1 in delta_vals:\n",
    "    print(f\"{d1:.3f}  \", end=\"\")\n",
    "    for lv in loc_veh_pairs:\n",
    "        emd0 = get_rv_hist(emd_df.loc[0.0, lv].values)\n",
    "        emd1 = get_rv_hist(emd_df.loc[d1, lv].values)\n",
    "        ci_sep = emd0.interval(CONF)[1] < emd1.interval(CONF)[0]\n",
    "        print(\"True \" if ci_sep else \"False\", end=\"    \")\n",
    "    print()"
   ]
  },
  {
   "cell_type": "code",
   "execution_count": 511,
   "id": "f69e12b6-9894-4c13-9096-394e0913befe",
   "metadata": {},
   "outputs": [
    {
     "name": "stdout",
     "output_type": "stream",
     "text": [
      "Delta\tL_All\t\tL_5ax\t\tL_6ax\t\tR_All\t\tR_5ax\t\tR_6ax\t\t\n",
      "0.000\t(3.36e-08, 9.3e-07)\t(1.87e-07, 1.18e-06)\t(4.63e-07, 1.7e-06)\t(3.68e-08, 9.07e-07)\t(1.82e-07, 1.15e-06)\t(3.66e-07, 1.76e-06)\t\n",
      "0.010\t(1.76e-07, 1.33e-06)\t(2.31e-07, 1.71e-06)\t(5.63e-07, 2.27e-06)\t(1.75e-07, 1.05e-06)\t(2.61e-07, 1.36e-06)\t(3.81e-07, 1.71e-06)\t\n",
      "0.025\t(4.91e-07, 2.06e-06)\t(5.52e-07, 2.6e-06)\t(1.13e-06, 3.63e-06)\t(1.86e-07, 1.36e-06)\t(2.53e-07, 1.84e-06)\t(5.62e-07, 2.2e-06)\t\n",
      "0.050\t(1.67e-06, 3.36e-06)\t(2e-06, 4.12e-06)\t(3.21e-06, 6.06e-06)\t(3.59e-07, 1.87e-06)\t(4.7e-07, 2.48e-06)\t(9.14e-07, 3.36e-06)\t\n",
      "0.100\t(4.41e-06, 6.16e-06)\t(5.32e-06, 7.45e-06)\t(8.45e-06, 1.14e-05)\t(1.43e-06, 3.05e-06)\t(1.84e-06, 3.98e-06)\t(2.67e-06, 5.56e-06)\t\n",
      "0.200\t(1.09e-05, 1.27e-05)\t(1.3e-05, 1.53e-05)\t(2.07e-05, 2.39e-05)\t(4.17e-06, 5.88e-06)\t(5.32e-06, 7.42e-06)\t(8.04e-06, 1.1e-05)\t\n"
     ]
    }
   ],
   "source": [
    "print(\"Delta\\t\", end=\"\")\n",
    "for lv in loc_veh_pairs:\n",
    "    print(lv + \"\\t\", end=\"\\t\")\n",
    "print()\n",
    "\n",
    "for d1 in delta_vals:\n",
    "    print(f\"{d1:.3f}\\t\", end=\"\")\n",
    "    for lv in loc_veh_pairs:\n",
    "        emd0 = get_rv_hist(emd_df.loc[0.0, lv].values)\n",
    "        emd1 = get_rv_hist(emd_df.loc[d1, lv].values)\n",
    "        ci_sep = emd0.interval(CONF)[1] < emd1.interval(CONF)[0]\n",
    "        ci = emd1.interval(CONF)\n",
    "        print(f\"({ci[0]:.3}, {ci[1]:.3})\", end=\"\\t\")\n",
    "    print()"
   ]
  },
  {
   "cell_type": "code",
   "execution_count": 519,
   "id": "85c1c824-975a-4883-b2d8-477c55d6de92",
   "metadata": {},
   "outputs": [
    {
     "name": "stdout",
     "output_type": "stream",
     "text": [
      "0.0 & (0.0336, 0.93) & (0.187, 1.18) & (0.463, 1.7) & (0.0368, 0.907) & (0.182, 1.15) & (0.366, 1.76)\\\\\n",
      "0.01 & (0.176, 1.33) & (0.231, 1.71) & (0.563, 2.27) & (0.175, 1.05) & (0.261, 1.36) & (0.381, 1.71)\\\\\n",
      "0.025 & (0.491, 2.06) & (0.552, 2.6) & (1.13, 3.63) & (0.186, 1.36) & (0.253, 1.84) & (0.562, 2.2)\\\\\n",
      "0.05 & \\bfseries(1.67, 3.36) & \\bfseries(2.0, 4.12) & \\bfseries(3.21, 6.06) & (0.359, 1.87) & (0.47, 2.48) & (0.914, 3.36)\\\\\n",
      "0.1 & \\bfseries(4.41, 6.16) & \\bfseries(5.32, 7.45) & \\bfseries(8.45, 11.4) & \\bfseries(1.43, 3.05) & \\bfseries(1.84, 3.98) & \\bfseries(2.67, 5.56)\\\\\n",
      "0.2 & \\bfseries(10.9, 12.7) & \\bfseries(13.0, 15.3) & \\bfseries(20.7, 23.9) & \\bfseries(4.17, 5.88) & \\bfseries(5.32, 7.42) & \\bfseries(8.04, 11.0)\\\\\n"
     ]
    }
   ],
   "source": [
    "for d1 in delta_vals:\n",
    "    print(f\"{d1}\", end=\"\")\n",
    "    for lv in loc_veh_pairs:\n",
    "        emd0 = get_rv_hist(emd_df.loc[0.0, lv].values * 1e6)  # convert to urad\n",
    "        emd1 = get_rv_hist(emd_df.loc[d1, lv].values * 1e6)  # convert to urad\n",
    "        ci_sep = emd0.interval(CONF)[1] < emd1.interval(CONF)[0]\n",
    "        ci = emd1.interval(CONF)\n",
    "        print(\n",
    "            \" & \" + (r\"\\bfseries\" if ci_sep else \"\") + f\"({ci[0]:.3}, {ci[1]:.3})\",\n",
    "            end=\"\",\n",
    "        )\n",
    "    print(r\"\\\\\")"
   ]
  },
  {
   "cell_type": "code",
   "execution_count": null,
   "id": "ac662daf-c69c-466e-bb3c-ac47369f78be",
   "metadata": {},
   "outputs": [],
   "source": []
  },
  {
   "cell_type": "code",
   "execution_count": null,
   "id": "8cdb41b7-a733-4436-855e-8f2b8592cb9f",
   "metadata": {},
   "outputs": [],
   "source": []
  },
  {
   "cell_type": "code",
   "execution_count": null,
   "id": "306e99d8-fa39-4917-93be-b1b4325242d8",
   "metadata": {},
   "outputs": [],
   "source": []
  },
  {
   "cell_type": "code",
   "execution_count": null,
   "id": "684ae357-fab9-4cbb-9404-1382ca6f1bb5",
   "metadata": {},
   "outputs": [],
   "source": []
  },
  {
   "cell_type": "code",
   "execution_count": 457,
   "id": "25705d07-9433-4672-956a-9d48688789e3",
   "metadata": {},
   "outputs": [
    {
     "name": "stdout",
     "output_type": "stream",
     "text": [
      "       0.000    0.010    0.025    0.050    0.100    0.200    \n",
      "0.000  False    False    False    True    True    True    \n",
      "0.010           False    False    True    True    True    \n",
      "0.025                    False    False    True    True    \n",
      "0.050                             False    True    True    \n",
      "0.100                                      False    True    \n",
      "0.200                                               False    \n"
     ]
    }
   ],
   "source": [
    "pos = \"L\"\n",
    "axles = \"6ax\"\n",
    "col = f\"{pos}_{axles}\"\n",
    "ALPHA = 0.05\n",
    "\n",
    "print(\"       \", end=\"\")\n",
    "for d in delta_vals:\n",
    "    print(f\"{d:.3f}    \", end=\"\")\n",
    "print()\n",
    "\n",
    "for d1 in delta_vals:\n",
    "    print(f\"{d1:.3f}  \", end=\"\")\n",
    "    for d2 in delta_vals:\n",
    "        if d2 < d1:\n",
    "            print(\"     \", end=\"    \")\n",
    "        else:\n",
    "            emd1 = get_rv_hist(emd_df.loc[d1, col].values)\n",
    "            emd2 = get_rv_hist(emd_df.loc[d2, col].values)\n",
    "            ci_sep = emd1.interval(1.0 - ALPHA)[1] < emd2.interval(1.0 - ALPHA)[0]\n",
    "            print(f\"{ci_sep}\", end=\"    \")\n",
    "            # res = stats.median_test(\n",
    "            #    emd_df.loc[d1, col].values,\n",
    "            #    emd_df.loc[d2, col].values,\n",
    "            # )\n",
    "            # print(f\"{res.pvalue:.3f}\", end=\"    \")\n",
    "    print()"
   ]
  },
  {
   "cell_type": "code",
   "execution_count": 456,
   "id": "e8755d4e-df47-4d72-919e-a433976af0bd",
   "metadata": {},
   "outputs": [
    {
     "data": {
      "text/plain": [
       "True"
      ]
     },
     "execution_count": 456,
     "metadata": {},
     "output_type": "execute_result"
    }
   ],
   "source": [
    "emd1 = emd_df.loc[0.0, col].values\n",
    "emd2 = emd_df.loc[0.05, col].values\n",
    "emd3 = emd_df.loc[0.1, col].values\n",
    "emd4 = emd_df.loc[0.2, col].values\n",
    "\n",
    "np.allclose((emd2 - emd1) + (emd3 - emd2), (emd3 - emd1))"
   ]
  },
  {
   "cell_type": "code",
   "execution_count": 421,
   "id": "35eafcf4-02ae-41a4-b481-341ee6cb29d4",
   "metadata": {},
   "outputs": [
    {
     "data": {
      "text/plain": [
       "array([0.   , 0.01 , 0.015, 0.025, 0.04 , 0.05 , 0.075, 0.09 , 0.1  ,\n",
       "       0.15 , 0.175, 0.19 , 0.2  ])"
      ]
     },
     "execution_count": 421,
     "metadata": {},
     "output_type": "execute_result"
    }
   ],
   "source": [
    "np.unique(np.abs(np.array([d - delta_vals for d in delta_vals])))"
   ]
  },
  {
   "cell_type": "code",
   "execution_count": null,
   "id": "593c5960-df15-4cbe-810c-336e04d86517",
   "metadata": {},
   "outputs": [],
   "source": []
  },
  {
   "cell_type": "code",
   "execution_count": null,
   "id": "2f2ebdfb-459d-4c00-9829-87cbdc4f5d40",
   "metadata": {},
   "outputs": [],
   "source": []
  },
  {
   "cell_type": "code",
   "execution_count": null,
   "id": "404fbd24-b16b-4d62-9c3f-82af1d42c548",
   "metadata": {},
   "outputs": [],
   "source": []
  },
  {
   "cell_type": "code",
   "execution_count": null,
   "id": "fb6debeb-fdf5-472b-9efb-460ba4a13c37",
   "metadata": {},
   "outputs": [],
   "source": []
  },
  {
   "cell_type": "code",
   "execution_count": 367,
   "id": "43748b45-f05d-4d97-81f0-c0c1cf7a6a81",
   "metadata": {},
   "outputs": [
    {
     "name": "stdout",
     "output_type": "stream",
     "text": [
      "       0.000    0.010    0.025    0.050    0.100    0.200    \n",
      "0.000  0.515    0.828    0.939    0.038    0.000    0.000    \n",
      "0.010           0.515    0.688    0.005    0.000    0.000    \n",
      "0.025                    0.515    0.001    0.000    0.000    \n",
      "0.050                             0.515    0.000    0.000    \n",
      "0.100                                      0.515    0.000    \n",
      "0.200                                               0.515    \n"
     ]
    }
   ],
   "source": [
    "pos = \"R\"\n",
    "axles = \"6ax\"\n",
    "col = f\"{pos}_{axles}\"\n",
    "\n",
    "print(\"       \", end=\"\")\n",
    "for d in delta_vals:\n",
    "    print(f\"{d:.3f}    \", end=\"\")\n",
    "print()\n",
    "\n",
    "for d1 in delta_vals:\n",
    "    print(f\"{d1:.3f}  \", end=\"\")\n",
    "    for d2 in delta_vals:\n",
    "        if d2 < d1:\n",
    "            print(\"     \", end=\"    \")\n",
    "        else:\n",
    "#            ks_res = stats.mannwhitneyu(\n",
    "#                emd_df.loc[d1, col].values[:10], emd_df.loc[d2, col].values[:10], alternative=\"less\"\n",
    "#            )\n",
    "            stats.\n",
    "            print(f\"{ks_res.pvalue:.3f}\", end=\"    \")\n",
    "    print()"
   ]
  },
  {
   "cell_type": "code",
   "execution_count": null,
   "id": "33315379-b224-4ba9-b28e-cc5f728afc01",
   "metadata": {},
   "outputs": [],
   "source": []
  },
  {
   "cell_type": "code",
   "execution_count": null,
   "id": "e296f9cf-31a2-4118-833b-777dc8a9954f",
   "metadata": {},
   "outputs": [],
   "source": []
  },
  {
   "cell_type": "code",
   "execution_count": null,
   "id": "07629637-9033-4834-aad3-1ffb05ca8d84",
   "metadata": {},
   "outputs": [],
   "source": []
  },
  {
   "cell_type": "code",
   "execution_count": null,
   "id": "8db70bf9-7b84-4f09-a397-6dbbd5aacfc1",
   "metadata": {},
   "outputs": [],
   "source": []
  },
  {
   "cell_type": "code",
   "execution_count": null,
   "id": "63b72c63-ebda-46c3-8d3c-6419af7c100a",
   "metadata": {},
   "outputs": [],
   "source": []
  },
  {
   "cell_type": "code",
   "execution_count": null,
   "id": "756632f1-77fc-4cbb-89f5-8cba6f138716",
   "metadata": {},
   "outputs": [],
   "source": []
  },
  {
   "cell_type": "code",
   "execution_count": null,
   "id": "eca9c78c-622f-4a90-a422-5f57e7c6b29c",
   "metadata": {},
   "outputs": [],
   "source": []
  },
  {
   "cell_type": "code",
   "execution_count": null,
   "id": "f9ad9e2e-4e5d-4c3f-8f1f-7f932f82a215",
   "metadata": {},
   "outputs": [],
   "source": []
  },
  {
   "cell_type": "code",
   "execution_count": null,
   "id": "d8904869-8750-475a-b510-3192ac12e820",
   "metadata": {},
   "outputs": [],
   "source": []
  },
  {
   "cell_type": "code",
   "execution_count": null,
   "id": "c00eb539-4901-4ded-a2ff-cc93333afd16",
   "metadata": {},
   "outputs": [],
   "source": []
  },
  {
   "cell_type": "code",
   "execution_count": null,
   "id": "220076e7-03e9-4864-8510-d395d80198b8",
   "metadata": {},
   "outputs": [],
   "source": []
  },
  {
   "cell_type": "code",
   "execution_count": null,
   "id": "a5e28259-10fe-4d74-9970-d159f9e70a2e",
   "metadata": {},
   "outputs": [],
   "source": []
  },
  {
   "cell_type": "code",
   "execution_count": null,
   "id": "4e24396e-9781-4440-8903-ebdfdc29918b",
   "metadata": {},
   "outputs": [],
   "source": []
  },
  {
   "cell_type": "code",
   "execution_count": null,
   "id": "33643cf6-c9a4-4a8d-9f3b-c1d2164fdde2",
   "metadata": {},
   "outputs": [],
   "source": []
  },
  {
   "cell_type": "code",
   "execution_count": null,
   "id": "8f3cf781-1bf5-486f-bc47-6636130a6a01",
   "metadata": {},
   "outputs": [],
   "source": []
  },
  {
   "cell_type": "code",
   "execution_count": null,
   "id": "0b0d6011-829f-49f7-966a-fe52a90f8334",
   "metadata": {},
   "outputs": [],
   "source": []
  },
  {
   "cell_type": "code",
   "execution_count": null,
   "id": "b0f2e16a-460f-4af4-b9e0-93b3d71c5c46",
   "metadata": {},
   "outputs": [],
   "source": []
  },
  {
   "cell_type": "code",
   "execution_count": null,
   "id": "6869c80f-9a5d-4140-891b-f1de0c0889a3",
   "metadata": {},
   "outputs": [],
   "source": []
  },
  {
   "cell_type": "code",
   "execution_count": null,
   "id": "def43f7d-dce8-49dc-9c79-4268664ae9ff",
   "metadata": {},
   "outputs": [],
   "source": []
  },
  {
   "cell_type": "code",
   "execution_count": null,
   "id": "4c156dbe-1826-43ac-a730-206317ab4985",
   "metadata": {},
   "outputs": [],
   "source": []
  },
  {
   "cell_type": "code",
   "execution_count": null,
   "id": "059a25eb-5aeb-436d-9767-3ef7817173fa",
   "metadata": {},
   "outputs": [],
   "source": []
  },
  {
   "cell_type": "code",
   "execution_count": null,
   "id": "32951504-4a7e-42cc-a638-7ed7506140ad",
   "metadata": {},
   "outputs": [],
   "source": []
  },
  {
   "cell_type": "code",
   "execution_count": null,
   "id": "290ed925-625c-483a-b354-d9f4d24e4751",
   "metadata": {},
   "outputs": [],
   "source": []
  },
  {
   "cell_type": "code",
   "execution_count": null,
   "id": "b6991045-a6b0-4a60-8722-b1916a355ac3",
   "metadata": {},
   "outputs": [],
   "source": []
  },
  {
   "cell_type": "code",
   "execution_count": null,
   "id": "f94323db-c62f-4c0e-bbf8-2bb307c800e7",
   "metadata": {},
   "outputs": [],
   "source": []
  },
  {
   "cell_type": "code",
   "execution_count": null,
   "id": "da0aa3bf-42d9-402a-a07f-889f515cf950",
   "metadata": {},
   "outputs": [],
   "source": []
  },
  {
   "cell_type": "code",
   "execution_count": null,
   "id": "21619ec2-91b8-4510-b759-48d618a7ffd2",
   "metadata": {},
   "outputs": [],
   "source": []
  },
  {
   "cell_type": "code",
   "execution_count": null,
   "id": "40ebf225-10a5-4021-86ec-bcb3f9ae5388",
   "metadata": {},
   "outputs": [],
   "source": [
    "fig, axes = plt.subplots(\n",
    "    figsize=(ajf_plts.text_width_inches, ajf_plts.text_height_inches),\n",
    "    nrows=len(locs),\n",
    "    sharex=True,\n",
    "    sharey=True,\n",
    ")\n",
    "\n",
    "emds = [\n",
    "    res_df.groupby(\"year\")[locs[i]].apply(\n",
    "        lambda s: stats.wasserstein_distance(baseline[locs[i]], s)\n",
    "    )\n",
    "    for i in range(len(locs))\n",
    "]\n",
    "\n",
    "for i, group in res_df.groupby(\"delta\"):\n",
    "    for j, loc in enumerate(locs):\n",
    "        axes[j].plot(\n",
    "            group.year.unique(),\n",
    "            emds[j][group.year.unique()],\n",
    "            ls=\"\",\n",
    "            marker=\".\",\n",
    "            label=group.delta.max(),\n",
    "        )\n",
    "        axes[j].set_title(loc)\n",
    "\n",
    "for ax in axes.ravel():\n",
    "    ax.set_xlabel(\"Year\")\n",
    "    ax.set_ylabel(r\"EMD / \\unit{\\micro\\radian}\")\n",
    "    ax.legend(\n",
    "        loc=\"upper left\",\n",
    "        borderpad=0.1,\n",
    "        labelspacing=0.1,\n",
    "        handletextpad=0.2,\n",
    "    )\n",
    "\n",
    "\n",
    "fig.tight_layout()"
   ]
  },
  {
   "cell_type": "code",
   "execution_count": null,
   "id": "751bac37-2b17-4a2a-8df4-0e62703f9dde",
   "metadata": {},
   "outputs": [],
   "source": [
    "mean_temp = baseline.air_temperature.mean()\n",
    "std_temp = baseline.air_temperature.std()"
   ]
  },
  {
   "cell_type": "code",
   "execution_count": null,
   "id": "520acdfe-0391-4745-94b9-7b1031304a37",
   "metadata": {},
   "outputs": [],
   "source": [
    "baseline_temp_mask = np.abs(baseline.air_temperature - mean_temp) / std_temp < 0.5\n",
    "temp_mask = np.abs(res_df.air_temperature - mean_temp) / std_temp < 0.5\n",
    "\n",
    "baseline_veh_mask = baseline.AxleCount == 6\n",
    "veh_mask = res_df.AxleCount == 6"
   ]
  },
  {
   "cell_type": "code",
   "execution_count": null,
   "id": "4bd98fd8-89fc-43b7-9c8d-04a1cff2d159",
   "metadata": {},
   "outputs": [],
   "source": [
    "baseline_ran_mask = (baseline_temp_mask & baseline_veh_mask).sample(frac=1)"
   ]
  },
  {
   "cell_type": "code",
   "execution_count": null,
   "id": "8653aa96-1fc1-4492-9742-573ba7db2dda",
   "metadata": {},
   "outputs": [],
   "source": [
    "emd_ll = res_df.groupby(\"year\")[locs[1]].apply(\n",
    "    lambda s: stats.wasserstein_distance(baseline[locs[1]], s)\n",
    ")\n",
    "emd_rr = res_df.groupby(\"year\")[locs[2]].apply(\n",
    "    lambda s: stats.wasserstein_distance(baseline[locs[2]], s)\n",
    ")\n",
    "\n",
    "emd_ll_vs = (\n",
    "    res_df[veh_mask]\n",
    "    .groupby(\"year\")[locs[1]]\n",
    "    .apply(\n",
    "        lambda s: stats.wasserstein_distance(baseline[baseline_veh_mask][locs[1]], s)\n",
    "    )\n",
    ")\n",
    "emd_rr_vs = (\n",
    "    res_df[veh_mask]\n",
    "    .groupby(\"year\")[locs[2]]\n",
    "    .apply(\n",
    "        lambda s: stats.wasserstein_distance(baseline[baseline_veh_mask][locs[2]], s)\n",
    "    )\n",
    ")\n",
    "\n",
    "emd_ll_ts = (\n",
    "    res_df[temp_mask]\n",
    "    .groupby(\"year\")[locs[1]]\n",
    "    .apply(\n",
    "        lambda s: stats.wasserstein_distance(baseline[baseline_temp_mask][locs[1]], s)\n",
    "    )\n",
    ")\n",
    "emd_rr_ts = (\n",
    "    res_df[temp_mask]\n",
    "    .groupby(\"year\")[locs[2]]\n",
    "    .apply(\n",
    "        lambda s: stats.wasserstein_distance(baseline[baseline_temp_mask][locs[2]], s)\n",
    "    )\n",
    ")\n",
    "\n",
    "emd_ll_tvs = (\n",
    "    res_df[temp_mask & veh_mask]\n",
    "    .groupby(\"year\")[locs[1]]\n",
    "    .apply(\n",
    "        lambda s: stats.wasserstein_distance(\n",
    "            baseline[baseline_temp_mask & baseline_veh_mask][locs[1]], s\n",
    "        )\n",
    "    )\n",
    ")\n",
    "emd_rr_tvs = (\n",
    "    res_df[temp_mask & veh_mask]\n",
    "    .groupby(\"year\")[locs[2]]\n",
    "    .apply(\n",
    "        lambda s: stats.wasserstein_distance(\n",
    "            baseline[baseline_temp_mask & baseline_veh_mask][locs[2]], s\n",
    "        )\n",
    "    )\n",
    ")\n",
    "\n",
    "emd_ll_ran = (\n",
    "    res_df.groupby(\"year\")\n",
    "    .sample(baseline_ran_mask.sum())\n",
    "    .groupby(\"year\")[locs[1]]\n",
    "    .apply(lambda s: stats.wasserstein_distance(baseline[locs[1]], s))\n",
    ")\n",
    "emd_rr_ran = (\n",
    "    res_df.groupby(\"year\")\n",
    "    .sample(baseline_ran_mask.sum())\n",
    "    .groupby(\"year\")[locs[2]]\n",
    "    .apply(lambda s: stats.wasserstein_distance(baseline[locs[2]], s))\n",
    ")"
   ]
  },
  {
   "cell_type": "code",
   "execution_count": null,
   "id": "75fbab6b-68af-4b6b-b2bf-3831c8e6aa94",
   "metadata": {},
   "outputs": [],
   "source": [
    "fig, axes = plt.subplots(\n",
    "    figsize=(ajf_plts.text_width_inches, 0.5 * ajf_plts.text_height_inches),\n",
    "    ncols=2,\n",
    "    nrows=2,\n",
    "    sharex=True,\n",
    "    sharey=True,\n",
    ")\n",
    "\n",
    "axes = axes.ravel()\n",
    "\n",
    "for i, group in res_df.groupby(\"delta\"):\n",
    "    axes[0].plot(\n",
    "        group.year.unique(),\n",
    "        emd_ll[group.year.unique()],\n",
    "        ls=\"\",\n",
    "        marker=\".\",\n",
    "        label=group.delta.max(),\n",
    "    )\n",
    "    axes[1].plot(\n",
    "        group.year.unique(),\n",
    "        emd_rr[group.year.unique()],\n",
    "        ls=\"\",\n",
    "        marker=\".\",\n",
    "        label=group.delta.max(),\n",
    "    )\n",
    "    axes[2].plot(\n",
    "        group.year.unique(),\n",
    "        emd_ll_vs[group.year.unique()],\n",
    "        ls=\"\",\n",
    "        marker=\".\",\n",
    "        label=group.delta.max(),\n",
    "    )\n",
    "    axes[3].plot(\n",
    "        group.year.unique(),\n",
    "        emd_rr_vs[group.year.unique()],\n",
    "        ls=\"\",\n",
    "        marker=\".\",\n",
    "        label=group.delta.max(),\n",
    "    )\n",
    "\n",
    "for ax in axes.ravel():\n",
    "    ax.set_xlabel(\"Year\")\n",
    "#    ax.legend(loc='upper left',\n",
    "#              borderpad=0.1,\n",
    "#              labelspacing=0.1,\n",
    "#              handletextpad=0.2,)\n",
    "\n",
    "for ax in axes[0::2]:\n",
    "    ax.set_ylabel(\"EMD\")\n",
    "\n",
    "titles = (\n",
    "    [r\"All Samples $\\sim 100k$/year\"] * 2\n",
    "    + [r\"Only 6 axle $\\sim 12.5k$/year\"] * 2\n",
    "    + [r\"Temp $<$ 0.25SD $\\sim 12.5k$/year\"] * 2\n",
    "    + [r\"6 axle \\& Temp $<$ 0.25SD $\\sim 1.7k$/year\"] * 2\n",
    "    + [r\"Random with $\\sim 1.7k$/year\"] * 2\n",
    ")\n",
    "\n",
    "for i, ax in enumerate(axes):\n",
    "    ax.set_title(titles[i])\n",
    "\n",
    "fig.tight_layout()"
   ]
  },
  {
   "cell_type": "code",
   "execution_count": null,
   "id": "8cd4aa19-0db4-4f6c-901b-27d608a9387f",
   "metadata": {},
   "outputs": [],
   "source": []
  },
  {
   "cell_type": "code",
   "execution_count": null,
   "id": "24e2c948-dfd8-4307-8b82-b00dec717779",
   "metadata": {},
   "outputs": [],
   "source": []
  },
  {
   "cell_type": "code",
   "execution_count": null,
   "id": "e84fb379-fad9-4cac-a038-e3c5fd726da1",
   "metadata": {},
   "outputs": [],
   "source": []
  },
  {
   "cell_type": "code",
   "execution_count": null,
   "id": "cc3145ea-927e-4bd5-a2e5-57eea6c52ddc",
   "metadata": {},
   "outputs": [],
   "source": []
  },
  {
   "cell_type": "code",
   "execution_count": null,
   "id": "2076f443-0441-4f6d-ada3-8a1e84d6f843",
   "metadata": {},
   "outputs": [],
   "source": []
  },
  {
   "cell_type": "code",
   "execution_count": null,
   "id": "62848ce9-f8f6-4f5c-bb5f-b93ca833dd0a",
   "metadata": {},
   "outputs": [],
   "source": []
  },
  {
   "cell_type": "code",
   "execution_count": null,
   "id": "4974f750-ca08-4722-94f8-a80a9355bd37",
   "metadata": {},
   "outputs": [],
   "source": []
  },
  {
   "cell_type": "code",
   "execution_count": null,
   "id": "16a08f6f-b4e4-40e1-a79f-eb98a84dcd54",
   "metadata": {},
   "outputs": [],
   "source": [
    "fig, axes = plt.subplots(\n",
    "    figsize=(ajf_plts.text_width_inches, ajf_plts.text_height_inches),\n",
    "    ncols=2,\n",
    "    nrows=5,\n",
    "    sharex=True,\n",
    "    sharey=True,\n",
    ")\n",
    "\n",
    "axes = axes.ravel()\n",
    "\n",
    "for i, group in res_df.groupby(\"delta\"):\n",
    "    axes[0].plot(\n",
    "        group.year.unique(),\n",
    "        emd_ll[group.year.unique()],\n",
    "        ls=\"\",\n",
    "        marker=\".\",\n",
    "        label=group.delta.max(),\n",
    "    )\n",
    "    axes[1].plot(\n",
    "        group.year.unique(),\n",
    "        emd_rr[group.year.unique()],\n",
    "        ls=\"\",\n",
    "        marker=\".\",\n",
    "        label=group.delta.max(),\n",
    "    )\n",
    "    axes[2].plot(\n",
    "        group.year.unique(),\n",
    "        emd_ll_vs[group.year.unique()],\n",
    "        ls=\"\",\n",
    "        marker=\".\",\n",
    "        label=group.delta.max(),\n",
    "    )\n",
    "    axes[3].plot(\n",
    "        group.year.unique(),\n",
    "        emd_rr_vs[group.year.unique()],\n",
    "        ls=\"\",\n",
    "        marker=\".\",\n",
    "        label=group.delta.max(),\n",
    "    )\n",
    "    axes[4].plot(\n",
    "        group.year.unique(),\n",
    "        emd_ll_ts[group.year.unique()],\n",
    "        ls=\"\",\n",
    "        marker=\".\",\n",
    "        label=group.delta.max(),\n",
    "    )\n",
    "    axes[5].plot(\n",
    "        group.year.unique(),\n",
    "        emd_rr_ts[group.year.unique()],\n",
    "        ls=\"\",\n",
    "        marker=\".\",\n",
    "        label=group.delta.max(),\n",
    "    )\n",
    "    axes[6].plot(\n",
    "        group.year.unique(),\n",
    "        emd_ll_tvs[group.year.unique()],\n",
    "        ls=\"\",\n",
    "        marker=\".\",\n",
    "        label=group.delta.max(),\n",
    "    )\n",
    "    axes[7].plot(\n",
    "        group.year.unique(),\n",
    "        emd_rr_tvs[group.year.unique()],\n",
    "        ls=\"\",\n",
    "        marker=\".\",\n",
    "        label=group.delta.max(),\n",
    "    )\n",
    "    axes[8].plot(\n",
    "        group.year.unique(),\n",
    "        emd_ll_ran[group.year.unique()],\n",
    "        ls=\"\",\n",
    "        marker=\".\",\n",
    "        label=group.delta.max(),\n",
    "    )\n",
    "    axes[9].plot(\n",
    "        group.year.unique(),\n",
    "        emd_rr_ran[group.year.unique()],\n",
    "        ls=\"\",\n",
    "        marker=\".\",\n",
    "        label=group.delta.max(),\n",
    "    )\n",
    "\n",
    "for ax in axes.ravel():\n",
    "    ax.set_xlabel(\"Year\")\n",
    "#    ax.legend(loc='upper left',\n",
    "#              borderpad=0.1,\n",
    "#              labelspacing=0.1,\n",
    "#              handletextpad=0.2,)\n",
    "\n",
    "for ax in axes[0::2]:\n",
    "    ax.set_ylabel(\"EMD\")\n",
    "\n",
    "titles = (\n",
    "    [r\"All Samples $\\sim 100k$/year\"] * 2\n",
    "    + [r\"Only 6 axle $\\sim 12.5k$/year\"] * 2\n",
    "    + [r\"Temp $<$ 0.25SD $\\sim 12.5k$/year\"] * 2\n",
    "    + [r\"6 axle \\& Temp $<$ 0.25SD $\\sim 1.7k$/year\"] * 2\n",
    "    + [r\"Random with $\\sim 1.7k$/year\"] * 2\n",
    ")\n",
    "\n",
    "for i, ax in enumerate(axes):\n",
    "    ax.set_title(titles[i])\n",
    "\n",
    "fig.tight_layout()"
   ]
  },
  {
   "cell_type": "code",
   "execution_count": null,
   "id": "8cd424db-34dc-46c3-b3e5-08d6fbac031c",
   "metadata": {},
   "outputs": [],
   "source": []
  },
  {
   "cell_type": "code",
   "execution_count": null,
   "id": "9ac420e9-b853-4702-9819-7efff1de8141",
   "metadata": {},
   "outputs": [],
   "source": []
  }
 ],
 "metadata": {
  "kernelspec": {
   "display_name": "Python 3 (ipykernel)",
   "language": "python",
   "name": "python3"
  },
  "language_info": {
   "codemirror_mode": {
    "name": "ipython",
    "version": 3
   },
   "file_extension": ".py",
   "mimetype": "text/x-python",
   "name": "python",
   "nbconvert_exporter": "python",
   "pygments_lexer": "ipython3",
   "version": "3.10.8"
  }
 },
 "nbformat": 4,
 "nbformat_minor": 5
}
