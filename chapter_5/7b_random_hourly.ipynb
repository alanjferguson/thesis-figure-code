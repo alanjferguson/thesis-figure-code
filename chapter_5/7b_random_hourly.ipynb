{
 "cells": [
  {
   "cell_type": "code",
   "execution_count": 2,
   "id": "603bd5d2-3274-4998-a32d-db2bc3b399fa",
   "metadata": {},
   "outputs": [
    {
     "name": "stdout",
     "output_type": "stream",
     "text": [
      "INFO: Pandarallel will run on 8 workers.\n",
      "INFO: Pandarallel will use Memory file system to transfer data between the main process and workers.\n"
     ]
    }
   ],
   "source": [
    "import copy\n",
    "import pickle\n",
    "\n",
    "import ajf_utils\n",
    "import matplotlib as mpl\n",
    "import matplotlib.pyplot as plt\n",
    "import numpy as np\n",
    "import pandas as pd\n",
    "from ajf_bridge_fem import *\n",
    "from pandarallel import pandarallel\n",
    "from scipy import stats\n",
    "\n",
    "import ajf_plts\n",
    "\n",
    "pandarallel.initialize(progress_bar=True)"
   ]
  },
  {
   "cell_type": "markdown",
   "id": "60c87902-5342-4ed0-89c9-eefebcd13860",
   "metadata": {},
   "source": [
    "# Load temperature data"
   ]
  },
  {
   "cell_type": "code",
   "execution_count": 3,
   "id": "113bcbb8-c3bb-4446-a5bc-7ce5aca0aa79",
   "metadata": {},
   "outputs": [],
   "source": [
    "keep_cols = [\"air_temperature\", \"year\", \"seq_month\", \"day\", \"hour\"]\n",
    "temp_data = pd.read_parquet(\"temp-freq-e_val.parquet\").loc[:, keep_cols]"
   ]
  },
  {
   "cell_type": "markdown",
   "id": "ac7d5551-fca5-4561-b638-674f278ae87f",
   "metadata": {},
   "source": [
    "# Load result data "
   ]
  },
  {
   "cell_type": "code",
   "execution_count": 4,
   "id": "4dd4282a-09b1-4c20-a4f8-32f453dcf069",
   "metadata": {},
   "outputs": [
    {
     "data": {
      "text/html": [
       "<div>\n",
       "<style scoped>\n",
       "    .dataframe tbody tr th:only-of-type {\n",
       "        vertical-align: middle;\n",
       "    }\n",
       "\n",
       "    .dataframe tbody tr th {\n",
       "        vertical-align: top;\n",
       "    }\n",
       "\n",
       "    .dataframe thead th {\n",
       "        text-align: right;\n",
       "    }\n",
       "</style>\n",
       "<table border=\"1\" class=\"dataframe\">\n",
       "  <thead>\n",
       "    <tr style=\"text-align: right;\">\n",
       "      <th></th>\n",
       "      <th>seq_month</th>\n",
       "      <th>year</th>\n",
       "      <th>month</th>\n",
       "      <th>day</th>\n",
       "      <th>hour</th>\n",
       "      <th>minute</th>\n",
       "      <th>dayofweek</th>\n",
       "      <th>air_temperature</th>\n",
       "      <th>freq</th>\n",
       "      <th>E_val</th>\n",
       "      <th>...</th>\n",
       "      <th>S3</th>\n",
       "      <th>S4</th>\n",
       "      <th>S5</th>\n",
       "      <th>speed</th>\n",
       "      <th>x_dam</th>\n",
       "      <th>delta</th>\n",
       "      <th>L_abut</th>\n",
       "      <th>L_pier</th>\n",
       "      <th>R_pier</th>\n",
       "      <th>R_abut</th>\n",
       "    </tr>\n",
       "  </thead>\n",
       "  <tbody>\n",
       "    <tr>\n",
       "      <th>0</th>\n",
       "      <td>0</td>\n",
       "      <td>0</td>\n",
       "      <td>0</td>\n",
       "      <td>1</td>\n",
       "      <td>1</td>\n",
       "      <td>36</td>\n",
       "      <td>6</td>\n",
       "      <td>4.880000</td>\n",
       "      <td>5.786878</td>\n",
       "      <td>2.883737e+10</td>\n",
       "      <td>...</td>\n",
       "      <td>10.85</td>\n",
       "      <td>NaN</td>\n",
       "      <td>NaN</td>\n",
       "      <td>23.0</td>\n",
       "      <td>17.733333</td>\n",
       "      <td>0.0</td>\n",
       "      <td>0.000138</td>\n",
       "      <td>0.000066</td>\n",
       "      <td>0.000062</td>\n",
       "      <td>0.000135</td>\n",
       "    </tr>\n",
       "    <tr>\n",
       "      <th>1</th>\n",
       "      <td>0</td>\n",
       "      <td>0</td>\n",
       "      <td>0</td>\n",
       "      <td>1</td>\n",
       "      <td>4</td>\n",
       "      <td>43</td>\n",
       "      <td>6</td>\n",
       "      <td>3.555000</td>\n",
       "      <td>5.795990</td>\n",
       "      <td>2.892656e+10</td>\n",
       "      <td>...</td>\n",
       "      <td>NaN</td>\n",
       "      <td>NaN</td>\n",
       "      <td>NaN</td>\n",
       "      <td>24.0</td>\n",
       "      <td>17.733333</td>\n",
       "      <td>0.0</td>\n",
       "      <td>0.000257</td>\n",
       "      <td>0.000126</td>\n",
       "      <td>0.000117</td>\n",
       "      <td>0.000246</td>\n",
       "    </tr>\n",
       "    <tr>\n",
       "      <th>2</th>\n",
       "      <td>0</td>\n",
       "      <td>0</td>\n",
       "      <td>0</td>\n",
       "      <td>1</td>\n",
       "      <td>5</td>\n",
       "      <td>10</td>\n",
       "      <td>6</td>\n",
       "      <td>3.216667</td>\n",
       "      <td>5.799653</td>\n",
       "      <td>2.896242e+10</td>\n",
       "      <td>...</td>\n",
       "      <td>NaN</td>\n",
       "      <td>NaN</td>\n",
       "      <td>NaN</td>\n",
       "      <td>28.0</td>\n",
       "      <td>17.733333</td>\n",
       "      <td>0.0</td>\n",
       "      <td>0.000117</td>\n",
       "      <td>0.000057</td>\n",
       "      <td>0.000055</td>\n",
       "      <td>0.000113</td>\n",
       "    </tr>\n",
       "    <tr>\n",
       "      <th>3</th>\n",
       "      <td>0</td>\n",
       "      <td>0</td>\n",
       "      <td>0</td>\n",
       "      <td>1</td>\n",
       "      <td>5</td>\n",
       "      <td>12</td>\n",
       "      <td>6</td>\n",
       "      <td>3.200000</td>\n",
       "      <td>5.799898</td>\n",
       "      <td>2.896483e+10</td>\n",
       "      <td>...</td>\n",
       "      <td>NaN</td>\n",
       "      <td>NaN</td>\n",
       "      <td>NaN</td>\n",
       "      <td>27.5</td>\n",
       "      <td>17.733333</td>\n",
       "      <td>0.0</td>\n",
       "      <td>0.000230</td>\n",
       "      <td>0.000096</td>\n",
       "      <td>0.000097</td>\n",
       "      <td>0.000221</td>\n",
       "    </tr>\n",
       "    <tr>\n",
       "      <th>4</th>\n",
       "      <td>0</td>\n",
       "      <td>0</td>\n",
       "      <td>0</td>\n",
       "      <td>1</td>\n",
       "      <td>6</td>\n",
       "      <td>57</td>\n",
       "      <td>6</td>\n",
       "      <td>3.655000</td>\n",
       "      <td>5.801216</td>\n",
       "      <td>2.897772e+10</td>\n",
       "      <td>...</td>\n",
       "      <td>NaN</td>\n",
       "      <td>NaN</td>\n",
       "      <td>NaN</td>\n",
       "      <td>25.5</td>\n",
       "      <td>17.733333</td>\n",
       "      <td>0.0</td>\n",
       "      <td>0.000120</td>\n",
       "      <td>0.000054</td>\n",
       "      <td>0.000053</td>\n",
       "      <td>0.000108</td>\n",
       "    </tr>\n",
       "  </tbody>\n",
       "</table>\n",
       "<p>5 rows × 30 columns</p>\n",
       "</div>"
      ],
      "text/plain": [
       "   seq_month  year  month  day  hour  minute  dayofweek  air_temperature  \\\n",
       "0          0     0      0    1     1      36          6         4.880000   \n",
       "1          0     0      0    1     4      43          6         3.555000   \n",
       "2          0     0      0    1     5      10          6         3.216667   \n",
       "3          0     0      0    1     5      12          6         3.200000   \n",
       "4          0     0      0    1     6      57          6         3.655000   \n",
       "\n",
       "       freq         E_val  ...     S3  S4  S5  speed      x_dam  delta  \\\n",
       "0  5.786878  2.883737e+10  ...  10.85 NaN NaN   23.0  17.733333    0.0   \n",
       "1  5.795990  2.892656e+10  ...    NaN NaN NaN   24.0  17.733333    0.0   \n",
       "2  5.799653  2.896242e+10  ...    NaN NaN NaN   28.0  17.733333    0.0   \n",
       "3  5.799898  2.896483e+10  ...    NaN NaN NaN   27.5  17.733333    0.0   \n",
       "4  5.801216  2.897772e+10  ...    NaN NaN NaN   25.5  17.733333    0.0   \n",
       "\n",
       "     L_abut    L_pier    R_pier    R_abut  \n",
       "0  0.000138  0.000066  0.000062  0.000135  \n",
       "1  0.000257  0.000126  0.000117  0.000246  \n",
       "2  0.000117  0.000057  0.000055  0.000113  \n",
       "3  0.000230  0.000096  0.000097  0.000221  \n",
       "4  0.000120  0.000054  0.000053  0.000108  \n",
       "\n",
       "[5 rows x 30 columns]"
      ]
     },
     "execution_count": 4,
     "metadata": {},
     "output_type": "execute_result"
    }
   ],
   "source": [
    "DAM_LOCS = [\"L\", \"R\"]\n",
    "RUN_ID = \"2023-01-29T12:51:27.214729_LB_0.02-step-delta\"\n",
    "\n",
    "MODEL = \"GH\"\n",
    "RUN_ID = \"2023-02-05T19:45:04.032244_GH_0.05-step-delta\"\n",
    "DAM_LOCS = [\"L_pier\", \"R_pier\"]\n",
    "\n",
    "all_data = (\n",
    "    pd.read_parquet(f\"./{RUN_ID}_w_error\")\n",
    "    .sort_values([\"year\", \"delta\"])\n",
    "    .reset_index(drop=True)\n",
    ")\n",
    "\n",
    "all_data.head()"
   ]
  },
  {
   "cell_type": "markdown",
   "id": "0b45fe89-af2f-4925-8aa5-b5c7b98b4c96",
   "metadata": {},
   "source": [
    "# Only keep columns we need to speed up computation"
   ]
  },
  {
   "cell_type": "code",
   "execution_count": 5,
   "id": "3d2f0781-1c7d-4489-ae0b-a1afa7a0bb3a",
   "metadata": {},
   "outputs": [
    {
     "data": {
      "text/html": [
       "<div>\n",
       "<style scoped>\n",
       "    .dataframe tbody tr th:only-of-type {\n",
       "        vertical-align: middle;\n",
       "    }\n",
       "\n",
       "    .dataframe tbody tr th {\n",
       "        vertical-align: top;\n",
       "    }\n",
       "\n",
       "    .dataframe thead th {\n",
       "        text-align: right;\n",
       "    }\n",
       "</style>\n",
       "<table border=\"1\" class=\"dataframe\">\n",
       "  <thead>\n",
       "    <tr style=\"text-align: right;\">\n",
       "      <th></th>\n",
       "      <th>delta</th>\n",
       "      <th>seq_month</th>\n",
       "      <th>year</th>\n",
       "      <th>month</th>\n",
       "      <th>day</th>\n",
       "      <th>hour</th>\n",
       "      <th>AxleCount</th>\n",
       "      <th>L_pier</th>\n",
       "      <th>R_pier</th>\n",
       "    </tr>\n",
       "  </thead>\n",
       "  <tbody>\n",
       "    <tr>\n",
       "      <th>0</th>\n",
       "      <td>0.00</td>\n",
       "      <td>0</td>\n",
       "      <td>0</td>\n",
       "      <td>0</td>\n",
       "      <td>1</td>\n",
       "      <td>1</td>\n",
       "      <td>4</td>\n",
       "      <td>0.000066</td>\n",
       "      <td>0.000062</td>\n",
       "    </tr>\n",
       "    <tr>\n",
       "      <th>1</th>\n",
       "      <td>0.00</td>\n",
       "      <td>0</td>\n",
       "      <td>0</td>\n",
       "      <td>0</td>\n",
       "      <td>1</td>\n",
       "      <td>4</td>\n",
       "      <td>3</td>\n",
       "      <td>0.000126</td>\n",
       "      <td>0.000117</td>\n",
       "    </tr>\n",
       "    <tr>\n",
       "      <th>2</th>\n",
       "      <td>0.00</td>\n",
       "      <td>0</td>\n",
       "      <td>0</td>\n",
       "      <td>0</td>\n",
       "      <td>1</td>\n",
       "      <td>5</td>\n",
       "      <td>3</td>\n",
       "      <td>0.000057</td>\n",
       "      <td>0.000055</td>\n",
       "    </tr>\n",
       "    <tr>\n",
       "      <th>3</th>\n",
       "      <td>0.00</td>\n",
       "      <td>0</td>\n",
       "      <td>0</td>\n",
       "      <td>0</td>\n",
       "      <td>1</td>\n",
       "      <td>5</td>\n",
       "      <td>3</td>\n",
       "      <td>0.000096</td>\n",
       "      <td>0.000097</td>\n",
       "    </tr>\n",
       "    <tr>\n",
       "      <th>4</th>\n",
       "      <td>0.00</td>\n",
       "      <td>0</td>\n",
       "      <td>0</td>\n",
       "      <td>0</td>\n",
       "      <td>1</td>\n",
       "      <td>6</td>\n",
       "      <td>2</td>\n",
       "      <td>0.000054</td>\n",
       "      <td>0.000053</td>\n",
       "    </tr>\n",
       "    <tr>\n",
       "      <th>...</th>\n",
       "      <td>...</td>\n",
       "      <td>...</td>\n",
       "      <td>...</td>\n",
       "      <td>...</td>\n",
       "      <td>...</td>\n",
       "      <td>...</td>\n",
       "      <td>...</td>\n",
       "      <td>...</td>\n",
       "      <td>...</td>\n",
       "    </tr>\n",
       "    <tr>\n",
       "      <th>36701743</th>\n",
       "      <td>0.25</td>\n",
       "      <td>731</td>\n",
       "      <td>60</td>\n",
       "      <td>11</td>\n",
       "      <td>31</td>\n",
       "      <td>22</td>\n",
       "      <td>5</td>\n",
       "      <td>0.000057</td>\n",
       "      <td>0.000054</td>\n",
       "    </tr>\n",
       "    <tr>\n",
       "      <th>36701744</th>\n",
       "      <td>0.25</td>\n",
       "      <td>731</td>\n",
       "      <td>60</td>\n",
       "      <td>11</td>\n",
       "      <td>31</td>\n",
       "      <td>22</td>\n",
       "      <td>4</td>\n",
       "      <td>0.000085</td>\n",
       "      <td>0.000081</td>\n",
       "    </tr>\n",
       "    <tr>\n",
       "      <th>36701745</th>\n",
       "      <td>0.25</td>\n",
       "      <td>731</td>\n",
       "      <td>60</td>\n",
       "      <td>11</td>\n",
       "      <td>31</td>\n",
       "      <td>22</td>\n",
       "      <td>2</td>\n",
       "      <td>0.000036</td>\n",
       "      <td>0.000034</td>\n",
       "    </tr>\n",
       "    <tr>\n",
       "      <th>36701746</th>\n",
       "      <td>0.25</td>\n",
       "      <td>731</td>\n",
       "      <td>60</td>\n",
       "      <td>11</td>\n",
       "      <td>31</td>\n",
       "      <td>23</td>\n",
       "      <td>6</td>\n",
       "      <td>0.000094</td>\n",
       "      <td>0.000089</td>\n",
       "    </tr>\n",
       "    <tr>\n",
       "      <th>36701747</th>\n",
       "      <td>0.25</td>\n",
       "      <td>731</td>\n",
       "      <td>60</td>\n",
       "      <td>11</td>\n",
       "      <td>31</td>\n",
       "      <td>23</td>\n",
       "      <td>5</td>\n",
       "      <td>0.000093</td>\n",
       "      <td>0.000096</td>\n",
       "    </tr>\n",
       "  </tbody>\n",
       "</table>\n",
       "<p>36701748 rows × 9 columns</p>\n",
       "</div>"
      ],
      "text/plain": [
       "          delta  seq_month  year  month  day  hour  AxleCount    L_pier  \\\n",
       "0          0.00          0     0      0    1     1          4  0.000066   \n",
       "1          0.00          0     0      0    1     4          3  0.000126   \n",
       "2          0.00          0     0      0    1     5          3  0.000057   \n",
       "3          0.00          0     0      0    1     5          3  0.000096   \n",
       "4          0.00          0     0      0    1     6          2  0.000054   \n",
       "...         ...        ...   ...    ...  ...   ...        ...       ...   \n",
       "36701743   0.25        731    60     11   31    22          5  0.000057   \n",
       "36701744   0.25        731    60     11   31    22          4  0.000085   \n",
       "36701745   0.25        731    60     11   31    22          2  0.000036   \n",
       "36701746   0.25        731    60     11   31    23          6  0.000094   \n",
       "36701747   0.25        731    60     11   31    23          5  0.000093   \n",
       "\n",
       "            R_pier  \n",
       "0         0.000062  \n",
       "1         0.000117  \n",
       "2         0.000055  \n",
       "3         0.000097  \n",
       "4         0.000053  \n",
       "...            ...  \n",
       "36701743  0.000054  \n",
       "36701744  0.000081  \n",
       "36701745  0.000034  \n",
       "36701746  0.000089  \n",
       "36701747  0.000096  \n",
       "\n",
       "[36701748 rows x 9 columns]"
      ]
     },
     "execution_count": 5,
     "metadata": {},
     "output_type": "execute_result"
    }
   ],
   "source": [
    "keep_cols = [\n",
    "    \"delta\",\n",
    "    \"seq_month\",\n",
    "    \"year\",\n",
    "    \"month\",\n",
    "    \"day\",\n",
    "    \"hour\",\n",
    "    \"AxleCount\",\n",
    "] + DAM_LOCS\n",
    "res_data = all_data.loc[:, keep_cols]\n",
    "\n",
    "res_data"
   ]
  },
  {
   "cell_type": "markdown",
   "id": "745f2210-2ff7-415c-9905-e4efad59f4ce",
   "metadata": {},
   "source": [
    "# Apply random hourly sampling"
   ]
  },
  {
   "cell_type": "code",
   "execution_count": 8,
   "id": "ad6e0e32-b604-4644-8406-50658ef91bbd",
   "metadata": {},
   "outputs": [],
   "source": [
    "PROPORTION = 0.125\n",
    "\n",
    "df = res_data.set_index([\"seq_month\", \"day\", \"hour\"])\n",
    "temp_data = temp_data.reset_index().set_index([\"seq_month\", \"day\", \"hour\"])\n",
    "\n",
    "# Reset seed used to generate random values\n",
    "SEED = ajf_plts.get_seed(\"7b_random_hourly.ipynb\")\n",
    "\n",
    "months = df.index.levels[0]\n",
    "vals = []\n",
    "for m in months:\n",
    "    monthly_hours = temp_data.loc[m].index\n",
    "    sample_hours = (\n",
    "        monthly_hours.to_frame().sample(frac=PROPORTION, replace=False).sort_index()\n",
    "    )\n",
    "    sample_hours[\"seq_month\"] = m\n",
    "    vals.append(sample_hours)\n",
    "\n",
    "sample_hours = (\n",
    "    pd.concat(vals).reset_index(drop=True).sort_values([\"seq_month\", \"day\", \"hour\"])\n",
    ")\n",
    "\n",
    "\n",
    "sample_idx = pd.MultiIndex.from_frame(sample_hours).reorder_levels([2, 0, 1])\n",
    "\n",
    "mask = df.index.isin(sample_idx)\n",
    "\n",
    "samp_data = df.loc[mask]"
   ]
  },
  {
   "cell_type": "markdown",
   "id": "a3ed0bfd-541a-4c57-b484-9dc3d576f839",
   "metadata": {
    "tags": []
   },
   "source": [
    "# Sample size"
   ]
  },
  {
   "cell_type": "code",
   "execution_count": 9,
   "id": "f90c853a-8040-4018-95ed-58a6caeab870",
   "metadata": {},
   "outputs": [
    {
     "name": "stdout",
     "output_type": "stream",
     "text": [
      "All \\num{12494}\\,(\\num{268.8})\n",
      "5ax \\num{4229}\\,(\\num{105.4})\n",
      "6ax \\num{1555}\\,(\\num{65.2})\n"
     ]
    }
   ],
   "source": [
    "AXLE_NUMS = [np.arange(2, 7), np.arange(5, 6), np.arange(6, 7)]\n",
    "AXLE_NAMES = [\"All\", \"5ax\", \"6ax\"]\n",
    "\n",
    "for axles, n in zip(AXLE_NUMS, AXLE_NAMES):\n",
    "    count_stats = (\n",
    "        samp_data.loc[(samp_data.delta == 0) & samp_data.AxleCount.isin(axles)]\n",
    "        .groupby(\"year\")\n",
    "        .agg(\"count\")\n",
    "        .agg([\"mean\", \"median\", \"std\"])\n",
    "        .iloc[:, 0]\n",
    "    )\n",
    "    print(\n",
    "        n,\n",
    "        f\"\\\\num{{{count_stats.loc['mean']:.0f}}}\\,(\\\\num{{{count_stats.loc['std']:.1f}}})\",\n",
    "    )"
   ]
  },
  {
   "cell_type": "code",
   "execution_count": 10,
   "id": "83cb35e7-9191-445d-b0af-61b1c8cd16a7",
   "metadata": {},
   "outputs": [],
   "source": [
    "# On Time"
   ]
  },
  {
   "cell_type": "code",
   "execution_count": 11,
   "id": "6c7c3593-f47a-4ae6-ae6e-5c100aa650b9",
   "metadata": {},
   "outputs": [],
   "source": [
    "N_on = sample_hours.groupby(\"seq_month\").apply(lambda g: len(g))\n",
    "N_all = temp_data.groupby(\"seq_month\").apply(lambda g: len(g.index.unique()))"
   ]
  },
  {
   "cell_type": "code",
   "execution_count": 12,
   "id": "d1d11366-85d3-4104-ac69-ef152fe9c52d",
   "metadata": {},
   "outputs": [
    {
     "data": {
      "text/plain": [
       "(0.125, 0.0)"
      ]
     },
     "execution_count": 12,
     "metadata": {},
     "output_type": "execute_result"
    }
   ],
   "source": [
    "prop_on = N_on / N_all\n",
    "np.mean(prop_on), np.std(prop_on)"
   ]
  },
  {
   "cell_type": "code",
   "execution_count": 13,
   "id": "c097d497-c6a9-4f58-bbb2-12b5aaba3a13",
   "metadata": {},
   "outputs": [
    {
     "data": {
      "text/plain": [
       "(array([  0.,   0.,   0.,   0.,   0., 732.,   0.,   0.,   0.,   0.]),\n",
       " array([-0.375, -0.275, -0.175, -0.075,  0.025,  0.125,  0.225,  0.325,\n",
       "         0.425,  0.525,  0.625]),\n",
       " <BarContainer object of 10 artists>)"
      ]
     },
     "execution_count": 13,
     "metadata": {},
     "output_type": "execute_result"
    },
    {
     "data": {
      "image/png": "[encoded data removed]",
      "text/plain": [
       "<Figure size 432x288 with 1 Axes>"
      ]
     },
     "metadata": {
      "needs_background": "light"
     },
     "output_type": "display_data"
    }
   ],
   "source": [
    "fig, ax = plt.subplots()\n",
    "ax.hist(prop_on)"
   ]
  },
  {
   "cell_type": "markdown",
   "id": "aaef8b36-1236-4281-aad1-62db16aa4647",
   "metadata": {
    "tags": []
   },
   "source": [
    "# Extract baselines"
   ]
  },
  {
   "cell_type": "code",
   "execution_count": 14,
   "id": "c7d36e69-016d-4ff4-b7d7-cd9eaf80090e",
   "metadata": {
    "tags": []
   },
   "outputs": [],
   "source": [
    "baseline_full = res_data.loc[(res_data.year == 0) & (res_data.delta == 0.0)]\n",
    "\n",
    "baseline_samp = samp_data.loc[(samp_data.year == 0) & (samp_data.delta == 0.0)]"
   ]
  },
  {
   "cell_type": "markdown",
   "id": "aa888221-1bc4-433f-9164-31f185bef5e5",
   "metadata": {},
   "source": [
    "# Calculate EMDs"
   ]
  },
  {
   "cell_type": "code",
   "execution_count": 15,
   "id": "ea768b08-2424-4ac9-bc4f-523d0791a167",
   "metadata": {},
   "outputs": [
    {
     "data": {
      "application/vnd.jupyter.widget-view+json": {
       "model_id": "6863b8ea24b94a588e5415d1dec27d49",
       "version_major": 2,
       "version_minor": 0
      },
      "text/plain": [
       "VBox(children=(HBox(children=(IntProgress(value=0, description='0.00%', max=46), Label(value='0 / 46'))), HBox…"
      ]
     },
     "metadata": {},
     "output_type": "display_data"
    }
   ],
   "source": [
    "AXLE_NUMS = [np.arange(2, 7), np.arange(5, 6), np.arange(6, 7)]\n",
    "AXLE_NAMES = [\"All\", \"5ax\", \"6ax\"]\n",
    "\n",
    "\n",
    "def calc_emd(df):\n",
    "    return dict(\n",
    "        zip(\n",
    "            [l + \"_\" + n for n in AXLE_NAMES for l in DAM_LOCS],\n",
    "            [\n",
    "                stats.wasserstein_distance(\n",
    "                    baseline.loc[baseline.AxleCount.isin(axles), l].values,\n",
    "                    df.loc[df.AxleCount.isin(axles), l].values,\n",
    "                )\n",
    "                for axles in AXLE_NUMS\n",
    "                for l in DAM_LOCS\n",
    "            ],\n",
    "        )\n",
    "    )\n",
    "\n",
    "\n",
    "## full\n",
    "# baseline = baseline_full  # ugly hack to get around pandarallel\n",
    "# emd_vals = samp_data.groupby([\"delta\", \"year\"]).parallel_apply(calc_emd)\n",
    "# emd_full_df = pd.DataFrame(\n",
    "#    emd_vals.to_list(),\n",
    "#    index=emd_vals.index,\n",
    "# ).dropna()\n",
    "\n",
    "# sampled\n",
    "# del baseline\n",
    "baseline = baseline_samp  # ugly hack to get around pandarallel\n",
    "emd_vals = samp_data.groupby([\"delta\", \"year\"]).parallel_apply(calc_emd)\n",
    "emd_samp_df = pd.DataFrame(\n",
    "    emd_vals.to_list(),\n",
    "    index=emd_vals.index,\n",
    ").dropna()"
   ]
  },
  {
   "cell_type": "code",
   "execution_count": 16,
   "id": "80cca732-2149-4db5-98e5-446c4fd91263",
   "metadata": {},
   "outputs": [],
   "source": [
    "emd_samp_df *= 1e6"
   ]
  },
  {
   "cell_type": "markdown",
   "id": "12aa934e-b061-4f89-a9ab-793797f6f684",
   "metadata": {
    "tags": []
   },
   "source": [
    "# Plot Graphs"
   ]
  },
  {
   "cell_type": "markdown",
   "id": "6fbbecf1-a8a4-4264-9861-adb1c7fbfc22",
   "metadata": {},
   "source": [
    "## Prediction interval plots"
   ]
  },
  {
   "cell_type": "code",
   "execution_count": 17,
   "id": "1e2ab631-8be5-4b1c-9ec5-c66f21a937f6",
   "metadata": {},
   "outputs": [],
   "source": [
    "from importlib import reload\n",
    "\n",
    "ajf_utils = reload(ajf_utils)"
   ]
  },
  {
   "cell_type": "markdown",
   "id": "1eae3ad3-b0a6-4f00-9998-45a11eee1704",
   "metadata": {},
   "source": [
    "### Sampled baseline"
   ]
  },
  {
   "cell_type": "code",
   "execution_count": 18,
   "id": "28d8caed-c530-403c-9a73-02a3b3fa61a6",
   "metadata": {
    "tags": []
   },
   "outputs": [
    {
     "data": {
      "image/png": "[encoded data removed]",
      "text/plain": [
       "<Figure size 418.25x501.9 with 6 Axes>"
      ]
     },
     "metadata": {
      "needs_background": "light"
     },
     "output_type": "display_data"
    }
   ],
   "source": [
    "fig = ajf_utils.plot_pi(emd_samp_df.reset_index(), DAM_LOCS)\n",
    "ajf_plts.save_fig(fig, \"figRandomHourlyPIPlotsSamp.pdf\")"
   ]
  },
  {
   "cell_type": "markdown",
   "id": "1fcbd40f-0af2-41dd-9a87-fdd1e703f20a",
   "metadata": {
    "tags": []
   },
   "source": [
    "# Table of prediction intervals"
   ]
  },
  {
   "cell_type": "markdown",
   "id": "92ba2ca0-2f6c-41e2-817c-a27a84935652",
   "metadata": {},
   "source": [
    "## Sampled baseline"
   ]
  },
  {
   "cell_type": "code",
   "execution_count": 94,
   "id": "beace4e1-a8bc-4453-92d6-303ee67d7ccf",
   "metadata": {},
   "outputs": [
    {
     "name": "stdout",
     "output_type": "stream",
     "text": [
      "\\begin{tabular}{lcccccc}\n",
      "\n",
      "    \\toprule\n",
      "    {    } & \\multicolumn{3}{c}{$\\DI{LL}$ (\\unit{\\micro\\radian})} & \\multicolumn{3}{c}{$\\DI{RR}$ (\\unit{\\micro\\radian})}\\\\\n",
      "    \\cmidrule(lr){2-4} \\cmidrule(lr){5-7}\n",
      "    $\\delta$ & All &  5-axle & 6-axle &  All & 5-axle &  6-axle\\\\\n",
      "    \\midrule\n",
      "    0.00 & (0.391, 1.63) & (0.524, 2.23) & (1.1, 4.64) & (0.404, 1.65) & (0.628, 2.34) & (1.11, 4.46)\\\\\n",
      "0.02 & (0.499, 2.37) & (0.689, 3.47) & (0.946, 3.45) & (0.386, 1.82) & (0.731, 2.84) & (1.08, 3.86)\\\\\n",
      "0.04 & (0.798, 3.4) & (1.54, 4.72) & (1.78, 4.3) & (0.473, 2.26) & (0.688, 3.32) & (1.11, 3.66)\\\\\n",
      "0.06 & (1.4, 4.47) & \\bfseries(2.8, 5.97) & (2.53, 6.0) & (0.624, 2.71) & (0.952, 3.95) & (1.13, 3.73)\\\\\n",
      "0.08 & \\bfseries(2.47, 5.54) & \\bfseries(4.08, 7.24) & (3.81, 8.19) & (0.72, 3.19) & (1.32, 4.53) & (1.71, 4.59)\\\\\n",
      "0.10 & \\bfseries(3.55, 6.71) & \\bfseries(5.33, 8.66) & \\bfseries(5.64, 10.4) & (0.984, 3.65) & (2.09, 5.1) & (2.01, 4.81)\\\\\n",
      "0.12 & \\bfseries(4.73, 7.91) & \\bfseries(6.7, 10.1) & \\bfseries(7.73, 12.5) & (1.19, 4.17) & \\bfseries(2.65, 5.73) & (2.39, 5.72)\\\\\n",
      "0.14 & \\bfseries(5.97, 9.19) & \\bfseries(8.22, 11.6) & \\bfseries(9.93, 15.0) & \\bfseries(1.73, 4.77) & \\bfseries(3.25, 6.43) & (2.9, 6.65)\\\\\n",
      "0.16 & \\bfseries(7.21, 10.5) & \\bfseries(9.75, 13.1) & \\bfseries(12.1, 17.4) & \\bfseries(2.22, 5.3) & \\bfseries(3.93, 7.06) & (3.53, 7.72)\\\\\n",
      "0.18 & \\bfseries(8.58, 11.9) & \\bfseries(11.3, 14.8) & \\bfseries(14.9, 19.8) & \\bfseries(2.84, 5.88) & \\bfseries(4.69, 7.82) & \\bfseries(4.52, 8.78)\\\\\n",
      "0.20 & \\bfseries(9.99, 13.3) & \\bfseries(13.0, 16.6) & \\bfseries(17.5, 22.8) & \\bfseries(3.38, 6.53) & \\bfseries(5.35, 8.64) & \\bfseries(5.24, 9.88)\\\\\n",
      "\\bottomrule\\end{tabular}\n"
     ]
    }
   ],
   "source": [
    "tab = ajf_utils.format_pred_int_table(emd_samp_df, DAM_LOCS)\n",
    "with open(\"./output/tabRandomHourlyPIsSamp.tex\", \"w\") as f:\n",
    "    f.write(tab)\n",
    "print(tab)"
   ]
  },
  {
   "cell_type": "code",
   "execution_count": null,
   "id": "0aa0434f-5aed-40f5-8fff-6dee9d37b03c",
   "metadata": {},
   "outputs": [],
   "source": []
  },
  {
   "cell_type": "code",
   "execution_count": null,
   "id": "9648f397-72e7-4093-8686-7f90e490c469",
   "metadata": {},
   "outputs": [],
   "source": []
  },
  {
   "cell_type": "code",
   "execution_count": null,
   "id": "42f7cc8f-36da-4e6f-a935-4c17800d8f4a",
   "metadata": {},
   "outputs": [],
   "source": []
  },
  {
   "cell_type": "code",
   "execution_count": null,
   "id": "8db70bf9-7b84-4f09-a397-6dbbd5aacfc1",
   "metadata": {},
   "outputs": [],
   "source": []
  },
  {
   "cell_type": "code",
   "execution_count": null,
   "id": "63b72c63-ebda-46c3-8d3c-6419af7c100a",
   "metadata": {},
   "outputs": [],
   "source": []
  },
  {
   "cell_type": "code",
   "execution_count": null,
   "id": "756632f1-77fc-4cbb-89f5-8cba6f138716",
   "metadata": {},
   "outputs": [],
   "source": []
  },
  {
   "cell_type": "code",
   "execution_count": null,
   "id": "eca9c78c-622f-4a90-a422-5f57e7c6b29c",
   "metadata": {},
   "outputs": [],
   "source": []
  },
  {
   "cell_type": "code",
   "execution_count": null,
   "id": "f9ad9e2e-4e5d-4c3f-8f1f-7f932f82a215",
   "metadata": {},
   "outputs": [],
   "source": []
  },
  {
   "cell_type": "code",
   "execution_count": null,
   "id": "d8904869-8750-475a-b510-3192ac12e820",
   "metadata": {},
   "outputs": [],
   "source": []
  },
  {
   "cell_type": "code",
   "execution_count": null,
   "id": "c00eb539-4901-4ded-a2ff-cc93333afd16",
   "metadata": {},
   "outputs": [],
   "source": []
  },
  {
   "cell_type": "code",
   "execution_count": null,
   "id": "220076e7-03e9-4864-8510-d395d80198b8",
   "metadata": {},
   "outputs": [],
   "source": []
  },
  {
   "cell_type": "code",
   "execution_count": null,
   "id": "a5e28259-10fe-4d74-9970-d159f9e70a2e",
   "metadata": {},
   "outputs": [],
   "source": []
  },
  {
   "cell_type": "code",
   "execution_count": null,
   "id": "4e24396e-9781-4440-8903-ebdfdc29918b",
   "metadata": {},
   "outputs": [],
   "source": []
  },
  {
   "cell_type": "code",
   "execution_count": null,
   "id": "33643cf6-c9a4-4a8d-9f3b-c1d2164fdde2",
   "metadata": {},
   "outputs": [],
   "source": []
  },
  {
   "cell_type": "code",
   "execution_count": null,
   "id": "8f3cf781-1bf5-486f-bc47-6636130a6a01",
   "metadata": {},
   "outputs": [],
   "source": []
  },
  {
   "cell_type": "code",
   "execution_count": null,
   "id": "0b0d6011-829f-49f7-966a-fe52a90f8334",
   "metadata": {},
   "outputs": [],
   "source": []
  },
  {
   "cell_type": "code",
   "execution_count": null,
   "id": "b0f2e16a-460f-4af4-b9e0-93b3d71c5c46",
   "metadata": {},
   "outputs": [],
   "source": []
  },
  {
   "cell_type": "code",
   "execution_count": null,
   "id": "6869c80f-9a5d-4140-891b-f1de0c0889a3",
   "metadata": {},
   "outputs": [],
   "source": []
  },
  {
   "cell_type": "code",
   "execution_count": null,
   "id": "def43f7d-dce8-49dc-9c79-4268664ae9ff",
   "metadata": {},
   "outputs": [],
   "source": []
  },
  {
   "cell_type": "code",
   "execution_count": null,
   "id": "4c156dbe-1826-43ac-a730-206317ab4985",
   "metadata": {},
   "outputs": [],
   "source": []
  },
  {
   "cell_type": "code",
   "execution_count": null,
   "id": "059a25eb-5aeb-436d-9767-3ef7817173fa",
   "metadata": {},
   "outputs": [],
   "source": []
  }
 ],
 "metadata": {
  "kernelspec": {
   "display_name": "Python 3 (ipykernel)",
   "language": "python",
   "name": "python3"
  },
  "language_info": {
   "codemirror_mode": {
    "name": "ipython",
    "version": 3
   },
   "file_extension": ".py",
   "mimetype": "text/x-python",
   "name": "python",
   "nbconvert_exporter": "python",
   "pygments_lexer": "ipython3",
   "version": "3.10.8"
  }
 },
 "nbformat": 4,
 "nbformat_minor": 5
}
