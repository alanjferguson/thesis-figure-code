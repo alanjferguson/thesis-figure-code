{
 "cells": [
  {
   "cell_type": "code",
   "execution_count": 1,
   "id": "c9d48170-0473-4a19-9888-123d14e1f22d",
   "metadata": {},
   "outputs": [],
   "source": [
    "%load_ext lab_black\n",
    "import numpy as np\n",
    "from sympy import symbols\n",
    "from sympy.physics.continuum_mechanics import Beam\n",
    "\n",
    "import matplotlib.pyplot as plt\n",
    "import ajf_plts\n",
    "\n",
    "plt.style.use([\"./ajf_plts/base.mplstyle\"])"
   ]
  },
  {
   "cell_type": "code",
   "execution_count": 2,
   "id": "cad0f8a6-3107-4ba5-ae02-df59f332be16",
   "metadata": {},
   "outputs": [],
   "source": [
    "E, I, L = symbols(\"E, I, L\")\n",
    "E = 30e9\n",
    "I = 1\n",
    "L = 20"
   ]
  },
  {
   "cell_type": "code",
   "execution_count": 98,
   "id": "3205c512-3cde-42b7-b06e-ab3cbf702b3a",
   "metadata": {},
   "outputs": [],
   "source": [
    "x_load = np.linspace(0.0, L, 100)\n",
    "RIL_LHS = []\n",
    "RIL_RHS = []\n",
    "for x in x_load:\n",
    "    b = Beam(L, E, I)\n",
    "    R_0, R_L = symbols('R_0, R_L')\n",
    "    b.apply_load(R_0, 0, -1)\n",
    "    b.apply_load(R_L, L, -1)\n",
    "    b.apply_load(-1e3, x, -1)\n",
    "    b.bc_deflection = [(0, 0), (L, 0)]\n",
    "    b.solve_for_reaction_loads(R_0, R_L)\n",
    "    RIL_LHS.append(b.slope().subs({'x':0.0}))\n",
    "    RIL_RHS.append(b.slope().subs({'x':L}))"
   ]
  },
  {
   "cell_type": "code",
   "execution_count": null,
   "id": "bc7cf91b-bee7-4884-9d63-c315d317bdf7",
   "metadata": {},
   "outputs": [],
   "source": []
  },
  {
   "cell_type": "code",
   "execution_count": null,
   "id": "8a322e69-e613-47fd-9aa0-a50d6d534878",
   "metadata": {},
   "outputs": [],
   "source": []
  },
  {
   "cell_type": "code",
   "execution_count": 166,
   "id": "4a6269f3-fa50-4652-a179-e262f121ea7f",
   "metadata": {},
   "outputs": [
    {
     "ename": "SyntaxError",
     "evalue": "'(' was never closed (77250718.py, line 8)",
     "output_type": "error",
     "traceback": [
      "\u001b[0;36m  Input \u001b[0;32mIn [166]\u001b[0;36m\u001b[0m\n\u001b[0;31m    Ix = np.where(np.abs(x_load\u001b[0m\n\u001b[0m                        ^\u001b[0m\n\u001b[0;31mSyntaxError\u001b[0m\u001b[0;31m:\u001b[0m '(' was never closed\n"
     ]
    },
    {
     "name": "stderr",
     "output_type": "stream",
     "text": [
      "ERROR:root:Cannot parse: 9:0: EOF in multi-line statement\n",
      "Traceback (most recent call last):\n",
      "  File \"/home/ajf/ajf_conda_envs/python310/lib/python3.10/site-packages/lab_black.py\", line 218, in format_cell\n",
      "    formatted_code = _format_code(cell)\n",
      "  File \"/home/ajf/ajf_conda_envs/python310/lib/python3.10/site-packages/lab_black.py\", line 29, in _format_code\n",
      "    return format_str(src_contents=code, mode=FileMode())\n",
      "  File \"src/black/__init__.py\", line 1131, in format_str\n",
      "  File \"src/black/__init__.py\", line 1141, in _format_str_once\n",
      "  File \"src/black/parsing.py\", line 128, in lib2to3_parse\n",
      "black.parsing.InvalidInput: Cannot parse: 9:0: EOF in multi-line statement\n"
     ]
    }
   ],
   "source": [
    "depth = 1.0\n",
    "xc = 0.4\n",
    "delta = 0.2\n",
    "crack_height = delta * depth\n",
    "lc = 1.5 * depth\n",
    "I0 = 1\n",
    "Ic = I0 * (depth - crack_height)**3.0 / depth**3.0\n",
    "Ix = np.where(np.abs(x_load"
   ]
  },
  {
   "cell_type": "code",
   "execution_count": null,
   "id": "53ac49f3-419a-430e-b070-2f9c683aa465",
   "metadata": {},
   "outputs": [],
   "source": []
  },
  {
   "cell_type": "code",
   "execution_count": null,
   "id": "4a1da11a-795a-48a6-aecf-36fba6fc6ab3",
   "metadata": {},
   "outputs": [],
   "source": []
  },
  {
   "cell_type": "code",
   "execution_count": null,
   "id": "57ae2197-ff8e-46af-b335-a01f344ddc95",
   "metadata": {},
   "outputs": [],
   "source": []
  },
  {
   "cell_type": "code",
   "execution_count": null,
   "id": "03a4cc6d-80f6-44a1-b056-674cdb85590e",
   "metadata": {},
   "outputs": [],
   "source": []
  },
  {
   "cell_type": "code",
   "execution_count": null,
   "id": "054053aa-1326-44e6-b6ea-d9f2f030719c",
   "metadata": {},
   "outputs": [],
   "source": []
  },
  {
   "cell_type": "code",
   "execution_count": null,
   "id": "9bb01fa3-5268-4db9-b6ed-fd913ec8061f",
   "metadata": {},
   "outputs": [],
   "source": []
  },
  {
   "cell_type": "code",
   "execution_count": 204,
   "id": "fc4df5c6-a799-4560-8dce-3234c10c6504",
   "metadata": {},
   "outputs": [],
   "source": [
    "x_pos = np.linspace(0.0, L, 20)\n",
    "depth = 1.0\n",
    "xc = 0.4\n",
    "delta = 0.5\n",
    "crack_height = delta * depth\n",
    "lc = 1.5 * depth\n",
    "I0 = 1\n",
    "Ic = I0 * (depth - crack_height) ** 3.0 / depth**3.0\n",
    "Ix = np.where(np.abs(x_pos - xc) >= lc, I0, Ic + np.abs(x - xc) * (I0 - Ic) / lc)"
   ]
  },
  {
   "cell_type": "code",
   "execution_count": 207,
   "id": "97c5cfd5-c2c8-4256-b218-affd38948666",
   "metadata": {},
   "outputs": [],
   "source": [
    "RIL_LHS = []\n",
    "RIL_RHS = []\n",
    "LHS = []\n",
    "RHS = []\n",
    "for x in x_pos:\n",
    "    b = Beam(L, E, I)\n",
    "    R_0, R_L = symbols(\"R_0, R_L\")\n",
    "    b.apply_load(R_0, 0, -1)\n",
    "    b.apply_load(R_L, L, -1)\n",
    "    b.apply_load(-1e3, x, -1)\n",
    "    b.bc_deflection = [(0, 0), (L, 0)]\n",
    "    b.solve_for_reaction_loads(R_0, R_L)\n",
    "    M = np.array([b.bending_moment().subs({\"x\": x_i}) for x_i in x_pos])\n",
    "    # Get LHS rotation by integration\n",
    "    # Integrating from 0.0 to x_load\n",
    "    mask = x_pos <= x\n",
    "    LHS.append(np.trapz(M[mask] / (E * Ix[mask]), x_pos[mask]))\n",
    "    # Get RHS rotation by integrating from x_load to L\n",
    "    mask = x <= x_pos\n",
    "    RHS.append(np.trapz(M[mask] / (E * Ix[mask]), x_pos[mask][::-1]))\n",
    "    # Check using sympy\n",
    "    RIL_LHS.append(b.slope().subs({\"x\": 0.0}))\n",
    "    RIL_RHS.append(b.slope().subs({\"x\": L}))"
   ]
  },
  {
   "cell_type": "code",
   "execution_count": null,
   "id": "e33d6318-8ea2-451d-98eb-43a8b6c421f0",
   "metadata": {},
   "outputs": [],
   "source": []
  },
  {
   "cell_type": "code",
   "execution_count": null,
   "id": "57fefca3-f578-495f-928e-43f21e5948b2",
   "metadata": {},
   "outputs": [],
   "source": []
  },
  {
   "cell_type": "code",
   "execution_count": 4,
   "id": "f7e71a9f-70c7-441b-929e-6a17884e6e50",
   "metadata": {},
   "outputs": [],
   "source": [
    "b = Beam(L, E, I)\n",
    "R_0, R_L = symbols(\"R_0, R_L\")\n",
    "b.apply_load(R_0, 0, -1)\n",
    "b.apply_load(R_L, L, -1)\n",
    "b.apply_load(-1e3, L / 2.0, -1)\n",
    "b.bc_deflection = [(0, 0), (L, 0)]\n",
    "b.solve_for_reaction_loads(R_0, R_L)"
   ]
  },
  {
   "cell_type": "code",
   "execution_count": 7,
   "id": "2dd07f19-836a-417f-9ab5-aea074132d0c",
   "metadata": {},
   "outputs": [
    {
     "ename": "NameError",
     "evalue": "name 'LHS' is not defined",
     "output_type": "error",
     "traceback": [
      "\u001b[0;31m---------------------------------------------------------------------------\u001b[0m",
      "\u001b[0;31mNameError\u001b[0m                                 Traceback (most recent call last)",
      "Input \u001b[0;32mIn [7]\u001b[0m, in \u001b[0;36m<cell line: 5>\u001b[0;34m()\u001b[0m\n\u001b[1;32m      1\u001b[0m \u001b[38;5;28;01mfrom\u001b[39;00m \u001b[38;5;21;01msympy\u001b[39;00m \u001b[38;5;28;01mimport\u001b[39;00m integrate\n\u001b[1;32m      3\u001b[0m x \u001b[38;5;241m=\u001b[39m symbols(\u001b[38;5;124m\"\u001b[39m\u001b[38;5;124mx\u001b[39m\u001b[38;5;124m\"\u001b[39m)\n\u001b[0;32m----> 5\u001b[0m \u001b[43mLHS\u001b[49m\u001b[38;5;241m.\u001b[39mappend(integrate(b\u001b[38;5;241m.\u001b[39mbending_moment(), (x, \u001b[38;5;241m0\u001b[39m, L \u001b[38;5;241m/\u001b[39m \u001b[38;5;241m2.0\u001b[39m)) \u001b[38;5;241m/\u001b[39m (E \u001b[38;5;241m*\u001b[39m I))\n\u001b[1;32m      6\u001b[0m RHS\u001b[38;5;241m.\u001b[39mappend(integrate(b\u001b[38;5;241m.\u001b[39mbending_moment(), (x, L \u001b[38;5;241m/\u001b[39m \u001b[38;5;241m2.0\u001b[39m, L)) \u001b[38;5;241m/\u001b[39m (E \u001b[38;5;241m*\u001b[39m I))\n",
      "\u001b[0;31mNameError\u001b[0m: name 'LHS' is not defined"
     ]
    }
   ],
   "source": [
    "from sympy import integrate\n",
    "\n",
    "x = symbols(\"x\")\n",
    "\n",
    "LHS.append(integrate(b.bending_moment(), (x, 0, L / 2.0)) / (E * I))\n",
    "RHS.append(integrate(b.bending_moment(), (x, L / 2.0, L)) / (E * I))"
   ]
  },
  {
   "cell_type": "code",
   "execution_count": 34,
   "id": "a42fafd1-b2cb-4a6b-bee3-7d3bf1dd1f7a",
   "metadata": {},
   "outputs": [
    {
     "name": "stdout",
     "output_type": "stream",
     "text": [
      "1\n"
     ]
    }
   ],
   "source": [
    "from sympy import exp, Abs\n",
    "\n",
    "depth = 1.0\n",
    "I0 = I\n",
    "xc = 0.5 * L\n",
    "delta = 0.0\n",
    "Ic = I0 * (depth * (1.0 - delta)) ** 3.0 / depth**3.0\n",
    "C = (I0 - Ic) / Ic\n",
    "Ix = I0 / (1 + C * exp(-2.0 * 0.667 * Abs(x - xc) / depth))\n",
    "print(Ix)"
   ]
  },
  {
   "cell_type": "code",
   "execution_count": 42,
   "id": "06b4925b-ab5b-4c96-b4a2-add77179f875",
   "metadata": {},
   "outputs": [],
   "source": [
    "x_pos = np.linspace(0.0, L, 10)\n",
    "\n",
    "RIL_LHS = []\n",
    "RIL_RHS = []\n",
    "LHS = []\n",
    "RHS = []\n",
    "\n",
    "for load_pos in x_pos:\n",
    "    b = Beam(L, E, I)\n",
    "    R_0, R_L = symbols(\"R_0, R_L\")\n",
    "    b.apply_load(R_0, 0, -1)\n",
    "    b.apply_load(R_L, L, -1)\n",
    "    b.apply_load(-1e3, load_pos, -1)\n",
    "    b.bc_deflection = [(0, 0), (L, 0)]\n",
    "    b.solve_for_reaction_loads(R_0, R_L)\n",
    "    # Get LHS rotation by integration\n",
    "    # Integrating from 0.0 to x_load\n",
    "    LHS.append(integrate(b.bending_moment() / (E * Ix), (x, 0, load_pos)))\n",
    "    # Get RHS rotation by integrating from x_load to L\n",
    "    RHS.append(integrate(b.bending_moment() / (E * Ix), (x, L, load_pos)))\n",
    "    # Check using sympy\n",
    "    RIL_LHS.append(b.slope().subs({\"x\": 0.0}))\n",
    "    RIL_RHS.append(b.slope().subs({\"x\": L}))"
   ]
  },
  {
   "cell_type": "code",
   "execution_count": 44,
   "id": "8e342fea-8a92-4bb7-907f-e024d6189128",
   "metadata": {
    "tags": []
   },
   "outputs": [
    {
     "data": {
      "text/plain": [
       "<matplotlib.legend.Legend at 0x7f32e59bef50>"
      ]
     },
     "execution_count": 44,
     "metadata": {},
     "output_type": "execute_result"
    },
    {
     "data": {
      "application/vnd.jupyter.widget-view+json": {
       "model_id": "0af1799647904edba958c092ffe3d53a",
       "version_major": 2,
       "version_minor": 0
      },
      "image/png": "[encoded data removed]",
      "text/html": [
       "\n",
       "            <div style=\"display: inline-block;\">\n",
       "                <div class=\"jupyter-widgets widget-label\" style=\"text-align: center;\">\n",
       "                    Figure\n",
       "                </div>\n",
       "                <img src='data:image/png;base64,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' width=640.0/>\n",
       "            </div>\n",
       "        "
      ],
      "text/plain": [
       "Canvas(toolbar=Toolbar(toolitems=[('Home', 'Reset original view', 'home', 'home'), ('Back', 'Back to previous …"
      ]
     },
     "metadata": {},
     "output_type": "display_data"
    }
   ],
   "source": [
    "%matplotlib widget\n",
    "plt.plot(x_pos, RIL_LHS, label=\"RIL LHS\")\n",
    "plt.plot(x_pos, RIL_RHS, label=\"RIL RHS\")\n",
    "plt.plot(x_pos, LHS, label=\"LHS\")\n",
    "plt.plot(x_pos, RHS, label=\"RHS\")\n",
    "plt.legend()"
   ]
  },
  {
   "cell_type": "code",
   "execution_count": null,
   "id": "82d07cf3-1074-4325-9ac2-b5d587fc58b9",
   "metadata": {},
   "outputs": [],
   "source": []
  },
  {
   "cell_type": "code",
   "execution_count": null,
   "id": "609f5519-7eba-4fb4-92dc-06b06eb2fe4b",
   "metadata": {},
   "outputs": [],
   "source": []
  },
  {
   "cell_type": "code",
   "execution_count": null,
   "id": "038fe0da-00c0-4655-ab40-1ba7d6e2694e",
   "metadata": {},
   "outputs": [],
   "source": []
  },
  {
   "cell_type": "code",
   "execution_count": null,
   "id": "77f9de2d-d13e-4ecf-b349-8c2cc5a3d4b4",
   "metadata": {},
   "outputs": [],
   "source": []
  },
  {
   "cell_type": "code",
   "execution_count": 175,
   "id": "9b318054-b9f8-4f39-bb2a-9b1e07704877",
   "metadata": {},
   "outputs": [],
   "source": [
    "from sympy import *\n",
    "\n",
    "# E_beam, I_beam, L_beam = symbols(\"E, I, L\")\n",
    "R_0, R_L = symbols(\"R_0, R_L\")\n",
    "\n",
    "E_beam = 30e9\n",
    "I_beam = 1.0\n",
    "L_beam = 20.0\n",
    "P = -1e3  # 1kN\n",
    "\n",
    "b = Beam(L_beam, E_beam, I_beam)\n",
    "b.apply_load(R_0, 0, -1)\n",
    "b.apply_load(R_L, L_beam, -1)\n",
    "b.apply_load(P, 0.5 * L_beam, -1)\n",
    "b.bc_deflection = [(0, 0), (L_beam, 0)]\n",
    "b.solve_for_reaction_loads(R_0, R_L)"
   ]
  },
  {
   "cell_type": "code",
   "execution_count": 199,
   "id": "36d5d549-aef5-4177-ac0a-29229e8a6580",
   "metadata": {},
   "outputs": [
    {
     "data": {
      "text/latex": [
       "$\\displaystyle - 8.33333333333333 \\cdot 10^{-9} {\\left\\langle x \\right\\rangle}^{2} + 1.66666666666667 \\cdot 10^{-8} {\\left\\langle x - 10.0 \\right\\rangle}^{2} - 8.33333333333333 \\cdot 10^{-9} {\\left\\langle x - 20.0 \\right\\rangle}^{2}$"
      ],
      "text/plain": [
       "-8.33333333333333e-9*SingularityFunction(x, 0, 2) + 1.66666666666667e-8*SingularityFunction(x, 10.0, 2) - 8.33333333333333e-9*SingularityFunction(x, 20.0, 2)"
      ]
     },
     "execution_count": 199,
     "metadata": {},
     "output_type": "execute_result"
    }
   ],
   "source": [
    "v_beam = symbols(\"v\", cls=Function)\n",
    "\n",
    "M_EI = b.bending_moment() / (E_beam * I_beam)\n",
    "\n",
    "# for 0 to load_pos\n",
    "integrate(M_EI)"
   ]
  },
  {
   "cell_type": "code",
   "execution_count": null,
   "id": "11c11d84-f13e-49cd-8b7e-e2875e4c67c8",
   "metadata": {},
   "outputs": [],
   "source": []
  },
  {
   "cell_type": "code",
   "execution_count": 184,
   "id": "17d6dcd4-1e76-4902-b1f2-1eaa9ca53ee2",
   "metadata": {},
   "outputs": [],
   "source": [
    "theta = symbols(\"theta\", cls=Function)"
   ]
  },
  {
   "cell_type": "code",
   "execution_count": 185,
   "id": "13b091cd-de7e-4317-a926-564ffe54ac42",
   "metadata": {},
   "outputs": [],
   "source": [
    "slope_eq = Rel(theta(x).diff(x), b.bending_moment() / (E_beam * I_beam), \"==\")"
   ]
  },
  {
   "cell_type": "code",
   "execution_count": 186,
   "id": "1176b788-e716-4c2b-b1e6-cc20c3784ee2",
   "metadata": {},
   "outputs": [
    {
     "data": {
      "text/latex": [
       "$\\displaystyle \\theta{\\left(x \\right)} = C_{1} - 8.33333333333335 \\cdot 10^{-9} {\\left\\langle x \\right\\rangle}^{2.0} + 1.66666666666667 \\cdot 10^{-8} {\\left\\langle x - 10.0 \\right\\rangle}^{2.0} - 8.33333333333335 \\cdot 10^{-9} {\\left\\langle x - 20.0 \\right\\rangle}^{2.0}$"
      ],
      "text/plain": [
       "Eq(theta(x), C1 - 8.33333333333335e-9*SingularityFunction(x, 0.0, 2.0) + 1.66666666666667e-8*SingularityFunction(x, 10.0, 2.0) - 8.33333333333335e-9*SingularityFunction(x, 20.0, 2.0))"
      ]
     },
     "execution_count": 186,
     "metadata": {},
     "output_type": "execute_result"
    }
   ],
   "source": [
    "dsolve(slope_eq)"
   ]
  },
  {
   "cell_type": "code",
   "execution_count": 193,
   "id": "5840cf99-4ce1-4c7e-bc33-f07aa25dfacc",
   "metadata": {},
   "outputs": [],
   "source": [
    "disp_eq = Rel(\n",
    "    integrate(theta(x)), integrate(b.bending_moment() / (E_beam * I_beam)), \"==\"\n",
    ")"
   ]
  },
  {
   "cell_type": "code",
   "execution_count": 194,
   "id": "58e6516f-196b-49ac-8b1d-d58f34d52725",
   "metadata": {},
   "outputs": [
    {
     "data": {
      "text/latex": [
       "$\\displaystyle \\int \\theta{\\left(x \\right)}\\, dx = - 8.33333333333333 \\cdot 10^{-9} {\\left\\langle x \\right\\rangle}^{2} + 1.66666666666667 \\cdot 10^{-8} {\\left\\langle x - 10.0 \\right\\rangle}^{2} - 8.33333333333333 \\cdot 10^{-9} {\\left\\langle x - 20.0 \\right\\rangle}^{2}$"
      ],
      "text/plain": [
       "Eq(Integral(theta(x), x), -8.33333333333333e-9*SingularityFunction(x, 0, 2) + 1.66666666666667e-8*SingularityFunction(x, 10.0, 2) - 8.33333333333333e-9*SingularityFunction(x, 20.0, 2))"
      ]
     },
     "execution_count": 194,
     "metadata": {},
     "output_type": "execute_result"
    }
   ],
   "source": [
    "disp_eq"
   ]
  },
  {
   "cell_type": "code",
   "execution_count": null,
   "id": "bb88c5fa-b175-4472-a7d1-59cb5745b9a3",
   "metadata": {},
   "outputs": [],
   "source": []
  },
  {
   "cell_type": "code",
   "execution_count": 134,
   "id": "5eca3763-65a3-409b-b9ca-e7c376be21f4",
   "metadata": {
    "jupyter": {
     "source_hidden": true
    },
    "tags": []
   },
   "outputs": [
    {
     "data": {
      "text/latex": [
       "$\\displaystyle \\theta{\\left(x \\right)} = C_{1} - 8.33333333333335 \\cdot 10^{-9} {\\left\\langle x \\right\\rangle}^{2.0} + 1.66666666666667 \\cdot 10^{-8} {\\left\\langle x - 10.0 \\right\\rangle}^{2.0} - 8.33333333333335 \\cdot 10^{-9} {\\left\\langle x - 20.0 \\right\\rangle}^{2.0}$"
      ],
      "text/plain": [
       "Eq(theta(x), C1 - 8.33333333333335e-9*SingularityFunction(x, 0.0, 2.0) + 1.66666666666667e-8*SingularityFunction(x, 10.0, 2.0) - 8.33333333333335e-9*SingularityFunction(x, 20.0, 2.0))"
      ]
     },
     "execution_count": 134,
     "metadata": {},
     "output_type": "execute_result"
    }
   ],
   "source": [
    "dsolve(slope_eq)"
   ]
  },
  {
   "cell_type": "code",
   "execution_count": 125,
   "id": "23c70af1-7754-4e44-86f6-4bcb76a01eac",
   "metadata": {},
   "outputs": [
    {
     "ename": "ValueError",
     "evalue": "1.66666666666667e-8*SingularityFunction(x, 0, 1) - 3.33333333333333e-8*SingularityFunction(x, 10.0, 1) + 1.66666666666667e-8*SingularityFunction(x, 20.0, 1) + Derivative(v(x), x) is not a solvable differential equation in theta(x)",
     "output_type": "error",
     "traceback": [
      "\u001b[0;31m---------------------------------------------------------------------------\u001b[0m",
      "\u001b[0;31mValueError\u001b[0m                                Traceback (most recent call last)",
      "Input \u001b[0;32mIn [125]\u001b[0m, in \u001b[0;36m<cell line: 1>\u001b[0;34m()\u001b[0m\n\u001b[0;32m----> 1\u001b[0m \u001b[43mdsolve\u001b[49m\u001b[43m(\u001b[49m\u001b[43mdiffeq\u001b[49m\u001b[43m,\u001b[49m\u001b[43m \u001b[49m\u001b[43mtheta\u001b[49m\u001b[43m(\u001b[49m\u001b[43mx\u001b[49m\u001b[43m)\u001b[49m\u001b[43m)\u001b[49m\n",
      "File \u001b[0;32m~/ajf_conda_envs/python310/lib/python3.10/site-packages/sympy/solvers/ode/ode.py:605\u001b[0m, in \u001b[0;36mdsolve\u001b[0;34m(eq, func, hint, simplify, ics, xi, eta, x0, n, **kwargs)\u001b[0m\n\u001b[1;32m    602\u001b[0m given_hint \u001b[38;5;241m=\u001b[39m hint  \u001b[38;5;66;03m# hint given by the user\u001b[39;00m\n\u001b[1;32m    604\u001b[0m \u001b[38;5;66;03m# See the docstring of _desolve for more details.\u001b[39;00m\n\u001b[0;32m--> 605\u001b[0m hints \u001b[38;5;241m=\u001b[39m \u001b[43m_desolve\u001b[49m\u001b[43m(\u001b[49m\u001b[43meq\u001b[49m\u001b[43m,\u001b[49m\u001b[43m \u001b[49m\u001b[43mfunc\u001b[49m\u001b[38;5;241;43m=\u001b[39;49m\u001b[43mfunc\u001b[49m\u001b[43m,\u001b[49m\n\u001b[1;32m    606\u001b[0m \u001b[43m    \u001b[49m\u001b[43mhint\u001b[49m\u001b[38;5;241;43m=\u001b[39;49m\u001b[43mhint\u001b[49m\u001b[43m,\u001b[49m\u001b[43m \u001b[49m\u001b[43msimplify\u001b[49m\u001b[38;5;241;43m=\u001b[39;49m\u001b[38;5;28;43;01mTrue\u001b[39;49;00m\u001b[43m,\u001b[49m\u001b[43m \u001b[49m\u001b[43mxi\u001b[49m\u001b[38;5;241;43m=\u001b[39;49m\u001b[43mxi\u001b[49m\u001b[43m,\u001b[49m\u001b[43m \u001b[49m\u001b[43meta\u001b[49m\u001b[38;5;241;43m=\u001b[39;49m\u001b[43meta\u001b[49m\u001b[43m,\u001b[49m\u001b[43m \u001b[49m\u001b[38;5;28;43mtype\u001b[39;49m\u001b[38;5;241;43m=\u001b[39;49m\u001b[38;5;124;43m'\u001b[39;49m\u001b[38;5;124;43mode\u001b[39;49m\u001b[38;5;124;43m'\u001b[39;49m\u001b[43m,\u001b[49m\u001b[43m \u001b[49m\u001b[43mics\u001b[49m\u001b[38;5;241;43m=\u001b[39;49m\u001b[43mics\u001b[49m\u001b[43m,\u001b[49m\n\u001b[1;32m    607\u001b[0m \u001b[43m    \u001b[49m\u001b[43mx0\u001b[49m\u001b[38;5;241;43m=\u001b[39;49m\u001b[43mx0\u001b[49m\u001b[43m,\u001b[49m\u001b[43m \u001b[49m\u001b[43mn\u001b[49m\u001b[38;5;241;43m=\u001b[39;49m\u001b[43mn\u001b[49m\u001b[43m,\u001b[49m\u001b[43m \u001b[49m\u001b[38;5;241;43m*\u001b[39;49m\u001b[38;5;241;43m*\u001b[39;49m\u001b[43mkwargs\u001b[49m\u001b[43m)\u001b[49m\n\u001b[1;32m    608\u001b[0m eq \u001b[38;5;241m=\u001b[39m hints\u001b[38;5;241m.\u001b[39mpop(\u001b[38;5;124m'\u001b[39m\u001b[38;5;124meq\u001b[39m\u001b[38;5;124m'\u001b[39m, eq)\n\u001b[1;32m    609\u001b[0m all_ \u001b[38;5;241m=\u001b[39m hints\u001b[38;5;241m.\u001b[39mpop(\u001b[38;5;124m'\u001b[39m\u001b[38;5;124mall\u001b[39m\u001b[38;5;124m'\u001b[39m, \u001b[38;5;28;01mFalse\u001b[39;00m)\n",
      "File \u001b[0;32m~/ajf_conda_envs/python310/lib/python3.10/site-packages/sympy/solvers/deutils.py:238\u001b[0m, in \u001b[0;36m_desolve\u001b[0;34m(eq, func, hint, ics, simplify, prep, **kwargs)\u001b[0m\n\u001b[1;32m    235\u001b[0m \u001b[38;5;66;03m# If dsolve can't solve the purely algebraic equation then dsolve will raise\u001b[39;00m\n\u001b[1;32m    236\u001b[0m \u001b[38;5;66;03m# ValueError\u001b[39;00m\n\u001b[1;32m    237\u001b[0m \u001b[38;5;28;01melif\u001b[39;00m hints[\u001b[38;5;124m'\u001b[39m\u001b[38;5;124morder\u001b[39m\u001b[38;5;124m'\u001b[39m] \u001b[38;5;241m==\u001b[39m \u001b[38;5;241m0\u001b[39m:\n\u001b[0;32m--> 238\u001b[0m     \u001b[38;5;28;01mraise\u001b[39;00m \u001b[38;5;167;01mValueError\u001b[39;00m(\n\u001b[1;32m    239\u001b[0m         \u001b[38;5;28mstr\u001b[39m(eq) \u001b[38;5;241m+\u001b[39m \u001b[38;5;124m\"\u001b[39m\u001b[38;5;124m is not a solvable differential equation in \u001b[39m\u001b[38;5;124m\"\u001b[39m \u001b[38;5;241m+\u001b[39m \u001b[38;5;28mstr\u001b[39m(func))\n\u001b[1;32m    240\u001b[0m \u001b[38;5;28;01melse\u001b[39;00m:\n\u001b[1;32m    241\u001b[0m     \u001b[38;5;28;01mraise\u001b[39;00m \u001b[38;5;167;01mNotImplementedError\u001b[39;00m(dummy \u001b[38;5;241m+\u001b[39m \u001b[38;5;124m\"\u001b[39m\u001b[38;5;124msolve\u001b[39m\u001b[38;5;124m\"\u001b[39m \u001b[38;5;241m+\u001b[39m \u001b[38;5;124m\"\u001b[39m\u001b[38;5;124m: Cannot solve \u001b[39m\u001b[38;5;124m\"\u001b[39m \u001b[38;5;241m+\u001b[39m \u001b[38;5;28mstr\u001b[39m(eq))\n",
      "\u001b[0;31mValueError\u001b[0m: 1.66666666666667e-8*SingularityFunction(x, 0, 1) - 3.33333333333333e-8*SingularityFunction(x, 10.0, 1) + 1.66666666666667e-8*SingularityFunction(x, 20.0, 1) + Derivative(v(x), x) is not a solvable differential equation in theta(x)"
     ]
    }
   ],
   "source": [
    "dsolve(diffeq, theta(x))"
   ]
  },
  {
   "cell_type": "code",
   "execution_count": 109,
   "id": "dcebae64-ea04-4574-a091-99594254d56f",
   "metadata": {},
   "outputs": [
    {
     "data": {
      "text/plain": [
       "<function sympy.solvers.solvers.solve(f, *symbols, **flags)>"
      ]
     },
     "execution_count": 109,
     "metadata": {},
     "output_type": "execute_result"
    }
   ],
   "source": []
  },
  {
   "cell_type": "code",
   "execution_count": null,
   "id": "103099e8-d8b2-47af-b0d7-ebc1824ca3ed",
   "metadata": {},
   "outputs": [],
   "source": []
  },
  {
   "cell_type": "code",
   "execution_count": null,
   "id": "6ee011b6-41cf-4970-9b24-bca8e9818548",
   "metadata": {},
   "outputs": [],
   "source": []
  },
  {
   "cell_type": "code",
   "execution_count": null,
   "id": "da31f93d-8b3d-4dcc-8690-24f206c54112",
   "metadata": {},
   "outputs": [],
   "source": []
  },
  {
   "cell_type": "code",
   "execution_count": 237,
   "id": "7b1f36a9-f0ff-4769-94ae-46ec8522aa76",
   "metadata": {},
   "outputs": [
    {
     "data": {
      "text/latex": [
       "$\\displaystyle 1.0$"
      ],
      "text/plain": [
       "1.00000000000000"
      ]
     },
     "execution_count": 237,
     "metadata": {},
     "output_type": "execute_result"
    }
   ],
   "source": [
    "b.length"
   ]
  },
  {
   "cell_type": "code",
   "execution_count": 276,
   "id": "8fbe706b-6b7f-4472-a85a-2753817f70b4",
   "metadata": {},
   "outputs": [
    {
     "data": {
      "text/latex": [
       "$\\displaystyle 0$"
      ],
      "text/plain": [
       "0"
      ]
     },
     "execution_count": 276,
     "metadata": {},
     "output_type": "execute_result"
    }
   ],
   "source": []
  },
  {
   "cell_type": "code",
   "execution_count": null,
   "id": "a43fc04e-4f00-44f7-bb52-32d2a3c6cac9",
   "metadata": {},
   "outputs": [],
   "source": []
  },
  {
   "cell_type": "code",
   "execution_count": null,
   "id": "666b8d20-3e02-4d54-b9e4-5aab76e2f4f1",
   "metadata": {},
   "outputs": [],
   "source": []
  },
  {
   "cell_type": "code",
   "execution_count": null,
   "id": "ed2af195-483b-4cd6-81e1-e64578927bb4",
   "metadata": {},
   "outputs": [],
   "source": []
  },
  {
   "cell_type": "code",
   "execution_count": null,
   "id": "fdfb28a8-a465-456f-a7b6-13d47c1cafce",
   "metadata": {},
   "outputs": [],
   "source": []
  },
  {
   "cell_type": "code",
   "execution_count": null,
   "id": "50810e08-62ef-446c-ab6e-9c418e9eb7a7",
   "metadata": {},
   "outputs": [],
   "source": []
  },
  {
   "cell_type": "code",
   "execution_count": null,
   "id": "0bd29512-538b-4b9b-87e5-c3ebef78d403",
   "metadata": {},
   "outputs": [],
   "source": []
  },
  {
   "cell_type": "code",
   "execution_count": null,
   "id": "74485bad-df62-4160-ad37-9ba2f874b6c3",
   "metadata": {},
   "outputs": [],
   "source": []
  },
  {
   "cell_type": "code",
   "execution_count": null,
   "id": "8799aabd-0332-49ce-800c-b1020a5a13ed",
   "metadata": {},
   "outputs": [],
   "source": []
  },
  {
   "cell_type": "code",
   "execution_count": 640,
   "id": "499bd66d-2b46-4cc7-a214-3e0bde186298",
   "metadata": {},
   "outputs": [],
   "source": [
    "E_beam = 30e9\n",
    "I_beam = 1.0\n",
    "L_beam = 20.0\n",
    "L_red = 0.1 * L_beam\n",
    "I_red = (1.0 - 0.25) * I_beam\n",
    "x_red = 0.5 * L_beam\n",
    "P = -1e3  # kN\n",
    "\n",
    "\n",
    "b_left = Beam(0.45 * L_beam, E_beam, I_beam)\n",
    "b_mid = Beam(0.1 * L_beam, E_beam, 0.9 * I_beam)\n",
    "b_right = Beam(0.45 * L_beam, E_beam, I_beam)\n",
    "b = b_left.join(b_mid).join(b_right)\n",
    "b.apply_support(0.0, \"roller\")\n",
    "b.apply_support(b.length, \"roller\")\n",
    "b.apply_load(R0, 0.0, -1)\n",
    "b.apply_load(RL, b.length, -1)\n",
    "b.solve_for_ild_reactions(1, R0, RL)\n",
    "b.solve_for_ild_moment(0.5 * L, 1, R0, RL)"
   ]
  },
  {
   "cell_type": "code",
   "execution_count": 644,
   "id": "dd8d7e4a-a7d3-4519-889f-9fbfad1f79f4",
   "metadata": {},
   "outputs": [],
   "source": [
    "ild_moment = b.ild_moment.args[-1][0]"
   ]
  },
  {
   "cell_type": "code",
   "execution_count": 645,
   "id": "3d65f3d5-59cf-46a2-8edc-09d362334b97",
   "metadata": {},
   "outputs": [
    {
     "name": "stdout",
     "output_type": "stream",
     "text": [
      "0.5*x - 10.0\n"
     ]
    }
   ],
   "source": [
    "print(ild_moment)"
   ]
  },
  {
   "cell_type": "code",
   "execution_count": 646,
   "id": "d6d88653-9c0d-40e5-9b3a-e8cebfa6d794",
   "metadata": {},
   "outputs": [
    {
     "ename": "SyntaxError",
     "evalue": "invalid syntax (1384585507.py, line 8)",
     "output_type": "error",
     "traceback": [
      "\u001b[0;36m  Input \u001b[0;32mIn [646]\u001b[0;36m\u001b[0m\n\u001b[0;31m    slope_value = -S.One / E * integrate( / args[i][0], (x, prev_end, x))\u001b[0m\n\u001b[0m                                          ^\u001b[0m\n\u001b[0;31mSyntaxError\u001b[0m\u001b[0;31m:\u001b[0m invalid syntax\n"
     ]
    },
    {
     "name": "stderr",
     "output_type": "stream",
     "text": [
      "ERROR:root:Cannot parse: 8:42:     slope_value = -S.One / E * integrate( / args[i][0], (x, prev_end, x))\n",
      "Traceback (most recent call last):\n",
      "  File \"/home/ajf/ajf_conda_envs/python310/lib/python3.10/site-packages/lab_black.py\", line 218, in format_cell\n",
      "    formatted_code = _format_code(cell)\n",
      "  File \"/home/ajf/ajf_conda_envs/python310/lib/python3.10/site-packages/lab_black.py\", line 29, in _format_code\n",
      "    return format_str(src_contents=code, mode=FileMode())\n",
      "  File \"src/black/__init__.py\", line 1131, in format_str\n",
      "  File \"src/black/__init__.py\", line 1141, in _format_str_once\n",
      "  File \"src/black/parsing.py\", line 128, in lib2to3_parse\n",
      "black.parsing.InvalidInput: Cannot parse: 8:42:     slope_value = -S.One / E * integrate( / args[i][0], (x, prev_end, x))\n"
     ]
    }
   ],
   "source": [
    "args = b.second_moment.args\n",
    "slope = 0\n",
    "prev_slope = 0\n",
    "prev_end = 0\n",
    "for i in range(len(args)):\n",
    "    if i != 0:\n",
    "        prev_end = args[i - 1][1].args[1]\n",
    "    slope_value = -S.One / E * integrate( / args[i][0], (x, prev_end, x))\n",
    "    if i != len(args) - 1:\n",
    "        slope += (prev_slope + slope_value) * SingularityFunction(x, prev_end, 0) - (\n",
    "            prev_slope + slope_value\n",
    "        ) * SingularityFunction(x, args[i][1].args[1], 0)\n",
    "    else:\n",
    "        slope += (prev_slope + slope_value) * SingularityFunction(x, prev_end, 0)\n",
    "    prev_slope = slope_value.subs(x, args[i][1].args[1])"
   ]
  },
  {
   "cell_type": "code",
   "execution_count": 633,
   "id": "c5c69132-717c-427c-9c3c-7cd2f159ba4d",
   "metadata": {},
   "outputs": [
    {
     "data": {
      "text/latex": [
       "$\\displaystyle \\left(8.31808695996491 \\cdot 10^{-22} x^{2} - 3.3226873104771 \\cdot 10^{-20} x - 3.68682204107588 \\cdot 10^{-21}\\right) {\\left\\langle x - 11.0 \\right\\rangle}^{0} - 3.33333333333333 \\cdot 10^{-11} \\left(\\begin{cases} - 2.49542608798947 \\cdot 10^{-11} x^{2} + 9.96806193143129 \\cdot 10^{-10} x & \\text{for}\\: x < 0 \\\\2.77269565332164 \\cdot 10^{-12} \\min\\left(9.0, x\\right)^{2} - 1.1075624368257 \\cdot 10^{-10} \\min\\left(9.0, x\\right) - 2.77269565332164 \\cdot 10^{-11} \\min\\left(11.0, x\\right)^{2} + 1.1075624368257 \\cdot 10^{-9} \\min\\left(11.0, x\\right) & \\text{for}\\: x \\leq \\min\\left(11.0, x\\right) \\\\\\text{NaN} & \\text{otherwise} \\end{cases}\\right) {\\left\\langle x \\right\\rangle}^{0} + 3.33333333333333 \\cdot 10^{-11} \\left(\\begin{cases} - 2.49542608798947 \\cdot 10^{-11} x^{2} + 9.96806193143129 \\cdot 10^{-10} x & \\text{for}\\: x < 0 \\\\2.77269565332164 \\cdot 10^{-12} \\min\\left(9.0, x\\right)^{2} - 1.1075624368257 \\cdot 10^{-10} \\min\\left(9.0, x\\right) - 2.77269565332164 \\cdot 10^{-11} \\min\\left(11.0, x\\right)^{2} + 1.1075624368257 \\cdot 10^{-9} \\min\\left(11.0, x\\right) & \\text{for}\\: x \\leq \\min\\left(11.0, x\\right) \\\\\\text{NaN} & \\text{otherwise} \\end{cases}\\right) {\\left\\langle x - 11.0 \\right\\rangle}^{0}$"
      ],
      "text/plain": [
       "(8.31808695996491e-22*x**2 - 3.3226873104771e-20*x - 3.68682204107588e-21)*SingularityFunction(x, 11.0, 0) - 3.33333333333333e-11*Piecewise((-2.49542608798947e-11*x**2 + 9.96806193143129e-10*x, x < 0), (2.77269565332164e-12*Min(9.0, x)**2 - 1.1075624368257e-10*Min(9.0, x) - 2.77269565332164e-11*Min(11.0, x)**2 + 1.1075624368257e-9*Min(11.0, x), x <= Min(11.0, x)), (nan, True))*SingularityFunction(x, 0, 0) + 3.33333333333333e-11*Piecewise((-2.49542608798947e-11*x**2 + 9.96806193143129e-10*x, x < 0), (2.77269565332164e-12*Min(9.0, x)**2 - 1.1075624368257e-10*Min(9.0, x) - 2.77269565332164e-11*Min(11.0, x)**2 + 1.1075624368257e-9*Min(11.0, x), x <= Min(11.0, x)), (nan, True))*SingularityFunction(x, 11.0, 0)"
      ]
     },
     "execution_count": 633,
     "metadata": {},
     "output_type": "execute_result"
    }
   ],
   "source": [
    "slope"
   ]
  },
  {
   "cell_type": "code",
   "execution_count": 525,
   "id": "174fcfe9-25c6-4a31-b770-1bfe0bcb4ec8",
   "metadata": {},
   "outputs": [
    {
     "data": {
      "text/plain": [
       "((0, x < 0), (555.555555555556*x**2 - 22222.2222222222*x, True))"
      ]
     },
     "execution_count": 525,
     "metadata": {},
     "output_type": "execute_result"
    }
   ],
   "source": [
    "(S.NegativeOne * integrate(moment_eq / args[0][0], (x, 0.0, x))).args[-1].args"
   ]
  },
  {
   "cell_type": "code",
   "execution_count": 545,
   "id": "9652a537-5f27-4d9c-848c-31e58239d6c4",
   "metadata": {},
   "outputs": [],
   "source": [
    "slope = (\n",
    "    S.NegativeOne\n",
    "    / b.elastic_modulus\n",
    "    * integrate(moment_eq / b.second_moment, (x, 0.0, x))\n",
    ")"
   ]
  },
  {
   "cell_type": "code",
   "execution_count": null,
   "id": "f0f6bb9c-10ed-4729-95b8-76dac009dd98",
   "metadata": {},
   "outputs": [],
   "source": []
  },
  {
   "cell_type": "code",
   "execution_count": null,
   "id": "da9cca9e-f824-4308-9353-32c483ab29cd",
   "metadata": {},
   "outputs": [],
   "source": []
  },
  {
   "cell_type": "code",
   "execution_count": null,
   "id": "4cc39e4e-fc62-432b-83cc-d2f0361276db",
   "metadata": {},
   "outputs": [],
   "source": []
  },
  {
   "cell_type": "code",
   "execution_count": 541,
   "id": "a67fd14c-1a3b-4109-ae5f-8441b4ae44e5",
   "metadata": {},
   "outputs": [
    {
     "name": "stdout",
     "output_type": "stream",
     "text": [
      "Piecewise((0, x < 0), (1000.0*x - 20000.0, x > 0))\n",
      "Piecewise((1.11111111111111, x <= 10.0), (1.0, x <= 20.0))\n"
     ]
    }
   ],
   "source": [
    "for arg in (moment_eq / b.second_moment).args:\n",
    "    print(arg)"
   ]
  },
  {
   "cell_type": "code",
   "execution_count": 501,
   "id": "26ce799d-6647-4b4f-acff-c6d37c291078",
   "metadata": {},
   "outputs": [
    {
     "data": {
      "text/latex": [
       "$\\displaystyle \\left(5.55555555555556 \\cdot 10^{-6} - 3.33333333333333 \\cdot 10^{-11} \\left(\\begin{cases} - 20000.0 x \\theta\\left(x\\right) \\theta\\left(- x \\theta\\left(x\\right) + 10.0\\right) + 50000.0 \\left(0.1 x \\theta\\left(x\\right) \\theta\\left(- x \\theta\\left(x\\right) + 10.0\\right) + \\theta\\left(x \\theta\\left(x\\right) - 10.0\\right)\\right)^{2} - 200000.0 \\theta\\left(x \\theta\\left(x\\right) - 10.0\\right) + 150000.0 & \\text{for}\\: x < 10.0 \\\\\\text{NaN} & \\text{otherwise} \\end{cases}\\right)\\right) \\theta\\left(x - 10.0\\right) - 3.33333333333333 \\cdot 10^{-11} \\left(\\begin{cases} 0 & \\text{for}\\: x < 0 \\\\555.555555555556 x^{2} - 22222.2222222222 x & \\text{otherwise} \\end{cases}\\right) \\theta\\left(x\\right) + 3.33333333333333 \\cdot 10^{-11} \\left(\\begin{cases} 0 & \\text{for}\\: x < 0 \\\\555.555555555556 x^{2} - 22222.2222222222 x & \\text{otherwise} \\end{cases}\\right) \\theta\\left(x - 10.0\\right)$"
      ],
      "text/plain": [
       "(5.55555555555556e-6 - 3.33333333333333e-11*Piecewise((-20000.0*x*Heaviside(x)*Heaviside(-x*Heaviside(x) + 10.0) + 50000.0*(0.1*x*Heaviside(x)*Heaviside(-x*Heaviside(x) + 10.0) + Heaviside(x*Heaviside(x) - 10.0))**2 - 200000.0*Heaviside(x*Heaviside(x) - 10.0) + 150000.0, x < 10.0), (nan, True)))*Heaviside(x - 10.0) - 3.33333333333333e-11*Piecewise((0, x < 0), (555.555555555556*x**2 - 22222.2222222222*x, True))*Heaviside(x) + 3.33333333333333e-11*Piecewise((0, x < 0), (555.555555555556*x**2 - 22222.2222222222*x, True))*Heaviside(x - 10.0)"
      ]
     },
     "execution_count": 501,
     "metadata": {},
     "output_type": "execute_result"
    }
   ],
   "source": [
    "slope.rewrite(Heaviside)"
   ]
  },
  {
   "cell_type": "code",
   "execution_count": 631,
   "id": "54153e81-6c5a-49ba-92ee-4e22ec2f494a",
   "metadata": {},
   "outputs": [],
   "source": [
    "x_vals = np.linspace(0.0, 20.0, 10)\n",
    "LHS = [slope.subs(x, pos) for pos in x_vals]"
   ]
  },
  {
   "cell_type": "code",
   "execution_count": 632,
   "id": "a5d7d0c8-6465-4f65-9010-593ae42043e9",
   "metadata": {},
   "outputs": [
    {
     "data": {
      "text/plain": [
       "[<matplotlib.lines.Line2D at 0x7f32b2f3dde0>]"
      ]
     },
     "execution_count": 632,
     "metadata": {},
     "output_type": "execute_result"
    },
    {
     "data": {
      "application/vnd.jupyter.widget-view+json": {
       "model_id": "09b355a956ff45c4bda5d212252f0a51",
       "version_major": 2,
       "version_minor": 0
      },
      "image/png": "[encoded data removed]",
      "text/html": [
       "\n",
       "            <div style=\"display: inline-block;\">\n",
       "                <div class=\"jupyter-widgets widget-label\" style=\"text-align: center;\">\n",
       "                    Figure\n",
       "                </div>\n",
       "                <img src='data:image/png;base64,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' width=640.0/>\n",
       "            </div>\n",
       "        "
      ],
      "text/plain": [
       "Canvas(toolbar=Toolbar(toolitems=[('Home', 'Reset original view', 'home', 'home'), ('Back', 'Back to previous …"
      ]
     },
     "metadata": {},
     "output_type": "display_data"
    }
   ],
   "source": [
    "%matplotlib widget\n",
    "plt.plot(x_vals, LHS)"
   ]
  },
  {
   "cell_type": "code",
   "execution_count": null,
   "id": "4f358c4c-6a38-4e86-b419-8e5d3df41a8f",
   "metadata": {},
   "outputs": [],
   "source": []
  },
  {
   "cell_type": "code",
   "execution_count": null,
   "id": "bd24240a-8a20-419d-89ad-50519653d5c8",
   "metadata": {},
   "outputs": [],
   "source": []
  },
  {
   "cell_type": "code",
   "execution_count": null,
   "id": "d4766d80-09df-4d31-a475-024366b92d4a",
   "metadata": {},
   "outputs": [],
   "source": []
  },
  {
   "cell_type": "code",
   "execution_count": null,
   "id": "b0cb4574-d185-4728-8e3f-afbbaec1606f",
   "metadata": {},
   "outputs": [],
   "source": []
  },
  {
   "cell_type": "code",
   "execution_count": null,
   "id": "60d9c678-67a3-4163-8d50-533e573e1f6c",
   "metadata": {},
   "outputs": [],
   "source": []
  },
  {
   "cell_type": "code",
   "execution_count": 483,
   "id": "ff969bc4-5dd6-4d7f-90ba-5412a7fb0828",
   "metadata": {},
   "outputs": [
    {
     "data": {
      "text/plain": [
       "[nan, nan, nan, nan, nan, nan, nan, nan, nan, nan]"
      ]
     },
     "execution_count": 483,
     "metadata": {},
     "output_type": "execute_result"
    }
   ],
   "source": [
    "[prev_slope.subs(x, pos) for pos in x_vals]"
   ]
  },
  {
   "cell_type": "code",
   "execution_count": null,
   "id": "34efc310-5877-482c-819d-e0482d2d417d",
   "metadata": {},
   "outputs": [],
   "source": []
  },
  {
   "cell_type": "code",
   "execution_count": 487,
   "id": "77d64a7c-0e83-44fc-a52f-69e055e93652",
   "metadata": {},
   "outputs": [],
   "source": [
    "slope_curve = S.NegativeOne * integrate(\n",
    "    moment_eq / (b.elastic_modulus * b.second_moment)\n",
    ")"
   ]
  },
  {
   "cell_type": "code",
   "execution_count": 488,
   "id": "c5522e73-18a6-48d3-ad25-61139f9527de",
   "metadata": {},
   "outputs": [
    {
     "data": {
      "text/latex": [
       "$\\displaystyle - \\begin{cases} 0 & \\text{for}\\: x < 0 \\\\1.85185185185185 \\cdot 10^{-8} x^{2} - 7.40740740740741 \\cdot 10^{-7} x & \\text{for}\\: x \\leq 10.0 \\\\1.66666666666667 \\cdot 10^{-8} x^{2} - 6.66666666666667 \\cdot 10^{-7} x - 5.55555555555556 \\cdot 10^{-7} & \\text{for}\\: x \\leq 20.0 \\\\\\text{NaN} & \\text{otherwise} \\end{cases}$"
      ],
      "text/plain": [
       "-Piecewise((0, x < 0), (1.85185185185185e-8*x**2 - 7.40740740740741e-7*x, x <= 10.0), (1.66666666666667e-8*x**2 - 6.66666666666667e-7*x - 5.55555555555556e-7, x <= 20.0), (nan, True))"
      ]
     },
     "execution_count": 488,
     "metadata": {},
     "output_type": "execute_result"
    }
   ],
   "source": [
    "slope_curve"
   ]
  },
  {
   "cell_type": "code",
   "execution_count": null,
   "id": "b9ad68ab-4b25-4b92-b3bb-69f2ec314117",
   "metadata": {},
   "outputs": [],
   "source": []
  },
  {
   "cell_type": "code",
   "execution_count": null,
   "id": "b478b5ab-a0b8-4cc6-afd1-063b394d36f4",
   "metadata": {},
   "outputs": [],
   "source": []
  },
  {
   "cell_type": "code",
   "execution_count": 547,
   "id": "54758a51-d33c-4bbf-9c3b-0900b02a21c9",
   "metadata": {},
   "outputs": [],
   "source": [
    "from sympy.utilities.lambdify import lambdify\n",
    "\n",
    "func = lambdify(x, slope, \"numpy\")"
   ]
  },
  {
   "cell_type": "code",
   "execution_count": 548,
   "id": "3935f72f-e922-4c4a-9cec-8fb2a5cf9186",
   "metadata": {},
   "outputs": [
    {
     "name": "stderr",
     "output_type": "stream",
     "text": [
      "/home/ajf/ajf_conda_envs/python310/lib/python3.10/site-packages/numpy/core/fromnumeric.py:86: VisibleDeprecationWarning: Creating an ndarray from ragged nested sequences (which is a list-or-tuple of lists-or-tuples-or ndarrays with different lengths or shapes) is deprecated. If you meant to do this, you must specify 'dtype=object' when creating the ndarray.\n",
      "  return ufunc.reduce(obj, axis, dtype, out, **passkwargs)\n"
     ]
    },
    {
     "ename": "ValueError",
     "evalue": "The truth value of an array with more than one element is ambiguous. Use a.any() or a.all()",
     "output_type": "error",
     "traceback": [
      "\u001b[0;31m---------------------------------------------------------------------------\u001b[0m",
      "\u001b[0;31mValueError\u001b[0m                                Traceback (most recent call last)",
      "Input \u001b[0;32mIn [548]\u001b[0m, in \u001b[0;36m<cell line: 2>\u001b[0;34m()\u001b[0m\n\u001b[1;32m      1\u001b[0m get_ipython()\u001b[38;5;241m.\u001b[39mrun_line_magic(\u001b[38;5;124m'\u001b[39m\u001b[38;5;124mmatplotlib\u001b[39m\u001b[38;5;124m'\u001b[39m, \u001b[38;5;124m'\u001b[39m\u001b[38;5;124mwidget\u001b[39m\u001b[38;5;124m'\u001b[39m)\n\u001b[0;32m----> 2\u001b[0m plt\u001b[38;5;241m.\u001b[39mplot(x_vals, \u001b[43mfunc\u001b[49m\u001b[43m(\u001b[49m\u001b[43mx_vals\u001b[49m\u001b[43m)\u001b[49m)\n",
      "File \u001b[0;32m<lambdifygenerated-15>:2\u001b[0m, in \u001b[0;36m_lambdifygenerated\u001b[0;34m(x)\u001b[0m\n\u001b[1;32m      1\u001b[0m \u001b[38;5;28;01mdef\u001b[39;00m \u001b[38;5;21m_lambdifygenerated\u001b[39m(x):\n\u001b[0;32m----> 2\u001b[0m     \u001b[38;5;28;01mreturn\u001b[39;00m \u001b[38;5;241m-\u001b[39m\u001b[38;5;241m3.33333333333333e-11\u001b[39m\u001b[38;5;241m*\u001b[39mselect([less(x, \u001b[38;5;241m0\u001b[39m),less_equal(x, \u001b[43mamin\u001b[49m\u001b[43m(\u001b[49m\u001b[43m(\u001b[49m\u001b[38;5;241;43m20.0\u001b[39;49m\u001b[43m,\u001b[49m\u001b[43mx\u001b[49m\u001b[43m)\u001b[49m\u001b[43m,\u001b[49m\u001b[43m \u001b[49m\u001b[43maxis\u001b[49m\u001b[38;5;241;43m=\u001b[39;49m\u001b[38;5;241;43m0\u001b[39;49m\u001b[43m)\u001b[49m),\u001b[38;5;28;01mTrue\u001b[39;00m], [\u001b[38;5;241m0\u001b[39m,\u001b[38;5;241m55.5555555555555\u001b[39m\u001b[38;5;241m*\u001b[39mamin((\u001b[38;5;241m10.0\u001b[39m,x), axis\u001b[38;5;241m=\u001b[39m\u001b[38;5;241m0\u001b[39m)\u001b[38;5;241m*\u001b[39m\u001b[38;5;241m*\u001b[39m\u001b[38;5;241m2\u001b[39m \u001b[38;5;241m-\u001b[39m \u001b[38;5;241m2222.22222222222\u001b[39m\u001b[38;5;241m*\u001b[39mamin((\u001b[38;5;241m10.0\u001b[39m,x), axis\u001b[38;5;241m=\u001b[39m\u001b[38;5;241m0\u001b[39m) \u001b[38;5;241m+\u001b[39m \u001b[38;5;241m500.0\u001b[39m\u001b[38;5;241m*\u001b[39mamin((\u001b[38;5;241m20.0\u001b[39m,x), axis\u001b[38;5;241m=\u001b[39m\u001b[38;5;241m0\u001b[39m)\u001b[38;5;241m*\u001b[39m\u001b[38;5;241m*\u001b[39m\u001b[38;5;241m2\u001b[39m \u001b[38;5;241m-\u001b[39m \u001b[38;5;241m20000.0\u001b[39m\u001b[38;5;241m*\u001b[39mamin((\u001b[38;5;241m20.0\u001b[39m,x), axis\u001b[38;5;241m=\u001b[39m\u001b[38;5;241m0\u001b[39m),nan], default\u001b[38;5;241m=\u001b[39mnan)\n",
      "File \u001b[0;32m<__array_function__ internals>:5\u001b[0m, in \u001b[0;36mamin\u001b[0;34m(*args, **kwargs)\u001b[0m\n",
      "File \u001b[0;32m~/ajf_conda_envs/python310/lib/python3.10/site-packages/numpy/core/fromnumeric.py:2879\u001b[0m, in \u001b[0;36mamin\u001b[0;34m(a, axis, out, keepdims, initial, where)\u001b[0m\n\u001b[1;32m   2763\u001b[0m \u001b[38;5;129m@array_function_dispatch\u001b[39m(_amin_dispatcher)\n\u001b[1;32m   2764\u001b[0m \u001b[38;5;28;01mdef\u001b[39;00m \u001b[38;5;21mamin\u001b[39m(a, axis\u001b[38;5;241m=\u001b[39m\u001b[38;5;28;01mNone\u001b[39;00m, out\u001b[38;5;241m=\u001b[39m\u001b[38;5;28;01mNone\u001b[39;00m, keepdims\u001b[38;5;241m=\u001b[39mnp\u001b[38;5;241m.\u001b[39m_NoValue, initial\u001b[38;5;241m=\u001b[39mnp\u001b[38;5;241m.\u001b[39m_NoValue,\n\u001b[1;32m   2765\u001b[0m          where\u001b[38;5;241m=\u001b[39mnp\u001b[38;5;241m.\u001b[39m_NoValue):\n\u001b[1;32m   2766\u001b[0m     \u001b[38;5;124;03m\"\"\"\u001b[39;00m\n\u001b[1;32m   2767\u001b[0m \u001b[38;5;124;03m    Return the minimum of an array or minimum along an axis.\u001b[39;00m\n\u001b[1;32m   2768\u001b[0m \n\u001b[0;32m   (...)\u001b[0m\n\u001b[1;32m   2877\u001b[0m \u001b[38;5;124;03m    6\u001b[39;00m\n\u001b[1;32m   2878\u001b[0m \u001b[38;5;124;03m    \"\"\"\u001b[39;00m\n\u001b[0;32m-> 2879\u001b[0m     \u001b[38;5;28;01mreturn\u001b[39;00m \u001b[43m_wrapreduction\u001b[49m\u001b[43m(\u001b[49m\u001b[43ma\u001b[49m\u001b[43m,\u001b[49m\u001b[43m \u001b[49m\u001b[43mnp\u001b[49m\u001b[38;5;241;43m.\u001b[39;49m\u001b[43mminimum\u001b[49m\u001b[43m,\u001b[49m\u001b[43m \u001b[49m\u001b[38;5;124;43m'\u001b[39;49m\u001b[38;5;124;43mmin\u001b[39;49m\u001b[38;5;124;43m'\u001b[39;49m\u001b[43m,\u001b[49m\u001b[43m \u001b[49m\u001b[43maxis\u001b[49m\u001b[43m,\u001b[49m\u001b[43m \u001b[49m\u001b[38;5;28;43;01mNone\u001b[39;49;00m\u001b[43m,\u001b[49m\u001b[43m \u001b[49m\u001b[43mout\u001b[49m\u001b[43m,\u001b[49m\n\u001b[1;32m   2880\u001b[0m \u001b[43m                          \u001b[49m\u001b[43mkeepdims\u001b[49m\u001b[38;5;241;43m=\u001b[39;49m\u001b[43mkeepdims\u001b[49m\u001b[43m,\u001b[49m\u001b[43m \u001b[49m\u001b[43minitial\u001b[49m\u001b[38;5;241;43m=\u001b[39;49m\u001b[43minitial\u001b[49m\u001b[43m,\u001b[49m\u001b[43m \u001b[49m\u001b[43mwhere\u001b[49m\u001b[38;5;241;43m=\u001b[39;49m\u001b[43mwhere\u001b[49m\u001b[43m)\u001b[49m\n",
      "File \u001b[0;32m~/ajf_conda_envs/python310/lib/python3.10/site-packages/numpy/core/fromnumeric.py:86\u001b[0m, in \u001b[0;36m_wrapreduction\u001b[0;34m(obj, ufunc, method, axis, dtype, out, **kwargs)\u001b[0m\n\u001b[1;32m     83\u001b[0m         \u001b[38;5;28;01melse\u001b[39;00m:\n\u001b[1;32m     84\u001b[0m             \u001b[38;5;28;01mreturn\u001b[39;00m reduction(axis\u001b[38;5;241m=\u001b[39maxis, out\u001b[38;5;241m=\u001b[39mout, \u001b[38;5;241m*\u001b[39m\u001b[38;5;241m*\u001b[39mpasskwargs)\n\u001b[0;32m---> 86\u001b[0m \u001b[38;5;28;01mreturn\u001b[39;00m \u001b[43mufunc\u001b[49m\u001b[38;5;241;43m.\u001b[39;49m\u001b[43mreduce\u001b[49m\u001b[43m(\u001b[49m\u001b[43mobj\u001b[49m\u001b[43m,\u001b[49m\u001b[43m \u001b[49m\u001b[43maxis\u001b[49m\u001b[43m,\u001b[49m\u001b[43m \u001b[49m\u001b[43mdtype\u001b[49m\u001b[43m,\u001b[49m\u001b[43m \u001b[49m\u001b[43mout\u001b[49m\u001b[43m,\u001b[49m\u001b[43m \u001b[49m\u001b[38;5;241;43m*\u001b[39;49m\u001b[38;5;241;43m*\u001b[39;49m\u001b[43mpasskwargs\u001b[49m\u001b[43m)\u001b[49m\n",
      "\u001b[0;31mValueError\u001b[0m: The truth value of an array with more than one element is ambiguous. Use a.any() or a.all()"
     ]
    }
   ],
   "source": [
    "%matplotlib widget\n",
    "plt.plot(x_vals, func(x_vals))"
   ]
  },
  {
   "cell_type": "code",
   "execution_count": null,
   "id": "4317c757-8e6a-472f-80e7-e9255ecd9234",
   "metadata": {},
   "outputs": [],
   "source": []
  },
  {
   "cell_type": "code",
   "execution_count": null,
   "id": "a957fe51-b731-48de-b70e-398787be5872",
   "metadata": {},
   "outputs": [],
   "source": []
  },
  {
   "cell_type": "code",
   "execution_count": null,
   "id": "7dd346ea-436a-461b-9aa0-c4c1a8bf6577",
   "metadata": {},
   "outputs": [],
   "source": []
  },
  {
   "cell_type": "code",
   "execution_count": null,
   "id": "6940b13c-bba2-4f59-8733-2354b5da9dc9",
   "metadata": {},
   "outputs": [],
   "source": []
  },
  {
   "cell_type": "code",
   "execution_count": null,
   "id": "799d03df-3a1a-4149-a957-e05a71233bc2",
   "metadata": {},
   "outputs": [],
   "source": []
  },
  {
   "cell_type": "code",
   "execution_count": null,
   "id": "12158796-5b0d-4934-8330-d8ebb3ec40c2",
   "metadata": {},
   "outputs": [],
   "source": []
  },
  {
   "cell_type": "code",
   "execution_count": 404,
   "id": "0d76b9ba-a09a-447d-bc18-c630b6789598",
   "metadata": {},
   "outputs": [
    {
     "data": {
      "text/plain": [
       "[16666.6666666667 - 1666.66666666667*x,\n",
       " 0,\n",
       " -1.0*R_0.0 - 100.0*x + 1000.0,\n",
       " -1.0*R_10.0000000000000 + 100.0*x]"
      ]
     },
     "execution_count": 404,
     "metadata": {},
     "output_type": "execute_result"
    }
   ],
   "source": [
    "solution"
   ]
  },
  {
   "cell_type": "code",
   "execution_count": 399,
   "id": "c3533054-ec34-4957-83a4-37222e42bf1b",
   "metadata": {},
   "outputs": [
    {
     "data": {
      "text/latex": [
       "$\\displaystyle \\left\\{\\left( 16666.6666666667 - 1666.66666666667 x, \\  0, \\  - 1.0 R_{0.0} - 100.0 x + 1000.0, \\  - 1.0 R_{10.0000000000000} + 100.0 x\\right)\\right\\}$"
      ],
      "text/plain": [
       "{(16666.6666666667 - 1666.66666666667*x, 0, -1.0*R_0.0 - 100.0*x + 1000.0, -1.0*R_10.0000000000000 + 100.0*x)}"
      ]
     },
     "execution_count": 399,
     "metadata": {},
     "output_type": "execute_result"
    }
   ],
   "source": [
    "linsolve([shear_curve, moment_curve] + slope_eqs + deflection_eqs, (C3, C4) + (R0, RL))"
   ]
  },
  {
   "cell_type": "code",
   "execution_count": null,
   "id": "5ac864c9-832a-47c2-8389-c0843ce699c7",
   "metadata": {},
   "outputs": [],
   "source": []
  },
  {
   "cell_type": "code",
   "execution_count": 377,
   "id": "5482f3a6-7cbc-4847-b7af-37d0d2feb460",
   "metadata": {},
   "outputs": [
    {
     "data": {
      "text/latex": [
       "$\\displaystyle C_{3} - \\frac{R_{0.0} {\\left\\langle x \\right\\rangle}^{2}}{2} - \\frac{R_{10.0000000000000} {\\left\\langle x - 10.0 \\right\\rangle}^{2}}{2}$"
      ],
      "text/plain": [
       "C3 - R_0.0*SingularityFunction(x, 0.0, 2)/2 - R_10.0000000000000*SingularityFunction(x, 10.0, 2)/2"
      ]
     },
     "execution_count": 377,
     "metadata": {},
     "output_type": "execute_result"
    }
   ],
   "source": [
    "slope_curve"
   ]
  },
  {
   "cell_type": "code",
   "execution_count": 378,
   "id": "69ee8d66-95cd-4cbd-b564-547db619bb22",
   "metadata": {},
   "outputs": [
    {
     "data": {
      "text/latex": [
       "$\\displaystyle C_{3} x + C_{4} - \\frac{R_{0.0} {\\left\\langle x \\right\\rangle}^{3}}{6} - \\frac{R_{10.0000000000000} {\\left\\langle x - 10.0 \\right\\rangle}^{3}}{6}$"
      ],
      "text/plain": [
       "C3*x + C4 - R_0.0*SingularityFunction(x, 0.0, 3)/6 - R_10.0000000000000*SingularityFunction(x, 10.0, 3)/6"
      ]
     },
     "execution_count": 378,
     "metadata": {},
     "output_type": "execute_result"
    }
   ],
   "source": [
    "deflection_curve"
   ]
  },
  {
   "cell_type": "code",
   "execution_count": null,
   "id": "a805cc84-7aad-4455-ba22-19398e82c69d",
   "metadata": {},
   "outputs": [],
   "source": []
  },
  {
   "cell_type": "code",
   "execution_count": null,
   "id": "86714260-a9a8-4345-bb89-046eb81e1a56",
   "metadata": {},
   "outputs": [],
   "source": []
  },
  {
   "cell_type": "code",
   "execution_count": 361,
   "id": "5d9e79ab-00de-4584-aee1-39529cf6de35",
   "metadata": {},
   "outputs": [
    {
     "ename": "IndexError",
     "evalue": "tuple index out of range",
     "output_type": "error",
     "traceback": [
      "\u001b[0;31m---------------------------------------------------------------------------\u001b[0m",
      "\u001b[0;31mIndexError\u001b[0m                                Traceback (most recent call last)",
      "Input \u001b[0;32mIn [361]\u001b[0m, in \u001b[0;36m<cell line: 24>\u001b[0;34m()\u001b[0m\n\u001b[1;32m     25\u001b[0m b \u001b[38;5;241m=\u001b[39m assemble_beam()\n\u001b[1;32m     26\u001b[0m b\u001b[38;5;241m.\u001b[39mapply_load(P, load_pos, \u001b[38;5;241m-\u001b[39m\u001b[38;5;241m1\u001b[39m)\n\u001b[0;32m---> 27\u001b[0m \u001b[43mb\u001b[49m\u001b[38;5;241;43m.\u001b[39;49m\u001b[43msolve_for_reaction_loads\u001b[49m\u001b[43m(\u001b[49m\u001b[43mR_0\u001b[49m\u001b[43m,\u001b[49m\u001b[43m \u001b[49m\u001b[43mR_L\u001b[49m\u001b[43m)\u001b[49m\n\u001b[1;32m     28\u001b[0m slope \u001b[38;5;241m=\u001b[39m b\u001b[38;5;241m.\u001b[39mslope()\n\u001b[1;32m     29\u001b[0m RIL_LHS\u001b[38;5;241m.\u001b[39mappend(slope\u001b[38;5;241m.\u001b[39msubs({\u001b[38;5;124m\"\u001b[39m\u001b[38;5;124mx\u001b[39m\u001b[38;5;124m\"\u001b[39m: \u001b[38;5;241m0.0\u001b[39m}))\n",
      "File \u001b[0;32m~/ajf_conda_envs/python310/lib/python3.10/site-packages/sympy/physics/continuum_mechanics/beam.py:846\u001b[0m, in \u001b[0;36mBeam.solve_for_reaction_loads\u001b[0;34m(self, *reactions)\u001b[0m\n\u001b[1;32m    843\u001b[0m     eqs \u001b[38;5;241m=\u001b[39m deflection_curve\u001b[38;5;241m.\u001b[39msubs(x, position) \u001b[38;5;241m-\u001b[39m value\n\u001b[1;32m    844\u001b[0m     deflection_eqs\u001b[38;5;241m.\u001b[39mappend(eqs)\n\u001b[0;32m--> 846\u001b[0m solution \u001b[38;5;241m=\u001b[39m \u001b[38;5;28mlist\u001b[39m(\u001b[43m(\u001b[49m\u001b[43mlinsolve\u001b[49m\u001b[43m(\u001b[49m\u001b[43m[\u001b[49m\u001b[43mshear_curve\u001b[49m\u001b[43m,\u001b[49m\u001b[43m \u001b[49m\u001b[43mmoment_curve\u001b[49m\u001b[43m]\u001b[49m\u001b[43m \u001b[49m\u001b[38;5;241;43m+\u001b[39;49m\u001b[43m \u001b[49m\u001b[43mslope_eqs\u001b[49m\n\u001b[1;32m    847\u001b[0m \u001b[43m                    \u001b[49m\u001b[38;5;241;43m+\u001b[39;49m\u001b[43m \u001b[49m\u001b[43mdeflection_eqs\u001b[49m\u001b[43m,\u001b[49m\u001b[43m \u001b[49m\u001b[43m(\u001b[49m\u001b[43mC3\u001b[49m\u001b[43m,\u001b[49m\u001b[43m \u001b[49m\u001b[43mC4\u001b[49m\u001b[43m)\u001b[49m\u001b[43m \u001b[49m\u001b[38;5;241;43m+\u001b[39;49m\u001b[43m \u001b[49m\u001b[43mreactions\u001b[49m\u001b[43m)\u001b[49m\u001b[38;5;241;43m.\u001b[39;49m\u001b[43margs\u001b[49m\u001b[43m)\u001b[49m\u001b[43m[\u001b[49m\u001b[38;5;241;43m0\u001b[39;49m\u001b[43m]\u001b[49m)\n\u001b[1;32m    848\u001b[0m solution \u001b[38;5;241m=\u001b[39m solution[\u001b[38;5;241m2\u001b[39m:]\n\u001b[1;32m    850\u001b[0m \u001b[38;5;28mself\u001b[39m\u001b[38;5;241m.\u001b[39m_reaction_loads \u001b[38;5;241m=\u001b[39m \u001b[38;5;28mdict\u001b[39m(\u001b[38;5;28mzip\u001b[39m(reactions, solution))\n",
      "\u001b[0;31mIndexError\u001b[0m: tuple index out of range"
     ]
    }
   ],
   "source": [
    "x_pos = np.linspace(0.0, L_beam, 5)\n",
    "\n",
    "RIL_LHS = []\n",
    "RIL_RHS = []\n",
    "\n",
    "for load_pos in x_pos:\n",
    "    b = assemble_beam()\n",
    "    b.apply_load(P, load_pos, -1)\n",
    "    b.solve_for_reaction_loads(R_0, R_L)\n",
    "    slope = b.slope()\n",
    "    RIL_LHS.append(slope.subs({\"x\": 0.0}))\n",
    "    RIL_RHS.append(slope.subs({\"x\": L_beam}))\n",
    "    b.remove_load(P, load_pos, -1)"
   ]
  },
  {
   "cell_type": "code",
   "execution_count": null,
   "id": "578baa63-c261-4c8a-b56d-42334ae8f978",
   "metadata": {},
   "outputs": [],
   "source": []
  },
  {
   "cell_type": "code",
   "execution_count": null,
   "id": "308d34ca-0061-456f-8364-fd03cb424913",
   "metadata": {},
   "outputs": [],
   "source": []
  },
  {
   "cell_type": "code",
   "execution_count": null,
   "id": "1850108a-5937-42a0-aa03-66f824217f60",
   "metadata": {},
   "outputs": [],
   "source": []
  },
  {
   "cell_type": "code",
   "execution_count": null,
   "id": "4f9f03c3-6f88-4f84-a1ba-d8e72492da7b",
   "metadata": {},
   "outputs": [],
   "source": []
  },
  {
   "cell_type": "code",
   "execution_count": null,
   "id": "82409840-9ad9-406a-97c9-74a960fb4332",
   "metadata": {},
   "outputs": [],
   "source": []
  },
  {
   "cell_type": "code",
   "execution_count": null,
   "id": "35aa620a-5914-4c4d-9f54-c7b6c18b6fcf",
   "metadata": {},
   "outputs": [],
   "source": []
  },
  {
   "cell_type": "code",
   "execution_count": null,
   "id": "ec0cbeb9-8778-44a2-994c-94d44cc44ce5",
   "metadata": {},
   "outputs": [],
   "source": []
  },
  {
   "cell_type": "code",
   "execution_count": null,
   "id": "b618832b-208c-4eb7-a8a6-fa390bb5e652",
   "metadata": {},
   "outputs": [],
   "source": []
  },
  {
   "cell_type": "code",
   "execution_count": null,
   "id": "efb3db43-0e83-4441-85b5-fcb29e009be8",
   "metadata": {},
   "outputs": [],
   "source": []
  },
  {
   "cell_type": "code",
   "execution_count": null,
   "id": "6e1e029f-7210-4a0c-99bd-4cbfac59d7f8",
   "metadata": {},
   "outputs": [],
   "source": []
  },
  {
   "cell_type": "code",
   "execution_count": 333,
   "id": "c3c41010-2fa5-4924-8cc2-e09b57f80614",
   "metadata": {},
   "outputs": [],
   "source": [
    "b = assemble_beam()\n",
    "\n",
    "b.apply_load(P, load_pos, -1)\n",
    "\n",
    "b.solve_for_reaction_loads(R_0, R_L)\n",
    "\n",
    "slope = b.slope()\n",
    "\n",
    "RIL_LHS.append(slope.subs({\"x\": 0.0}))\n",
    "\n",
    "RIL_RHS.append(slope.subs({\"x\": L_beam}))\n",
    "\n",
    "b.remove_load(P, load_pos, -1)"
   ]
  },
  {
   "cell_type": "code",
   "execution_count": 334,
   "id": "8e89b10d-4d05-4fea-8d1e-4c0c6cc3d577",
   "metadata": {},
   "outputs": [
    {
     "data": {
      "text/latex": [
       "$\\displaystyle 20.0$"
      ],
      "text/plain": [
       "20.0000000000000"
      ]
     },
     "execution_count": 334,
     "metadata": {},
     "output_type": "execute_result"
    }
   ],
   "source": [
    "b.length"
   ]
  },
  {
   "cell_type": "code",
   "execution_count": 246,
   "id": "db39b253-91a0-4df9-a739-10c84433e6ac",
   "metadata": {},
   "outputs": [
    {
     "data": {
      "text/latex": [
       "$\\displaystyle \\begin{cases} \\begin{cases} 1.0 & \\text{for}\\: x \\leq 9.5 \\\\0.25 & \\text{for}\\: x \\leq 10.5 \\end{cases} & \\text{for}\\: x \\leq 10.5 \\\\1.0 & \\text{for}\\: x \\leq 20.0 \\end{cases}$"
      ],
      "text/plain": [
       "Piecewise((Piecewise((1.0, x <= 9.5), (0.25, x <= 10.5)), x <= 10.5), (1.0, x <= 20.0))"
      ]
     },
     "execution_count": 246,
     "metadata": {},
     "output_type": "execute_result"
    }
   ],
   "source": [
    "b.second_moment"
   ]
  },
  {
   "cell_type": "code",
   "execution_count": 353,
   "id": "d5126dba-41b8-45bf-89f9-f88df3507e28",
   "metadata": {},
   "outputs": [],
   "source": [
    "E_beam = 30e9\n",
    "I_beam = 1.0\n",
    "L_beam = 20.0\n",
    "L_red = 0.1 * L_beam\n",
    "I_red = (1.0 - 0.25) * I_beam\n",
    "x_red = 0.5 * L_beam\n",
    "P = -1e3  # kN\n",
    "\n",
    "\n",
    "def assemble_beam():\n",
    "    b_left = Beam(0.5 * L_beam, E_beam, 0.9 * I_beam)\n",
    "    b_right = Beam(0.5 * L_beam, E_beam, I_beam)\n",
    "    b = b_left.join(b_right)\n",
    "    R_0, R_L = symbols(\"R_0, R_L\")\n",
    "    b.apply_load(R_0, 0, -1)\n",
    "    b.apply_load(R_L, L_beam, -1)\n",
    "    b.bc_deflection = [(0, 0), (L_beam, 0)]\n",
    "    return b\n",
    "\n",
    "\n",
    "x_pos = np.linspace(0.0, L_beam, 5)\n",
    "\n",
    "RIL_LHS = []\n",
    "RIL_RHS = []\n",
    "\n",
    "for load_pos in x_pos:\n",
    "    b = assemble_beam()\n",
    "    b.apply_load(P, load_pos, -1)\n",
    "    b.solve_for_reaction_loads(R_0, R_L)\n",
    "    slope = b.slope()\n",
    "    RIL_LHS.append(slope.subs({\"x\": 0.0}))\n",
    "    RIL_RHS.append(slope.subs({\"x\": L_beam}))\n",
    "    b.remove_load(P, load_pos, -1)"
   ]
  },
  {
   "cell_type": "code",
   "execution_count": 358,
   "id": "51b39542-eb51-4534-931b-c9c200c7a428",
   "metadata": {},
   "outputs": [
    {
     "data": {
      "text/plain": [
       "[nan, nan, nan, nan, 0]"
      ]
     },
     "execution_count": 358,
     "metadata": {},
     "output_type": "execute_result"
    }
   ],
   "source": [
    "RIL_LHS"
   ]
  },
  {
   "cell_type": "code",
   "execution_count": 359,
   "id": "949baa9e-5335-42b5-865d-35d2749ce112",
   "metadata": {},
   "outputs": [
    {
     "data": {
      "text/plain": [
       "[<matplotlib.lines.Line2D at 0x7f32b88325f0>]"
      ]
     },
     "execution_count": 359,
     "metadata": {},
     "output_type": "execute_result"
    },
    {
     "data": {
      "application/vnd.jupyter.widget-view+json": {
       "model_id": "dfaaeb4a74a845f9b3fcb83688f6ff3c",
       "version_major": 2,
       "version_minor": 0
      },
      "image/png": "[encoded data removed]",
      "text/html": [
       "\n",
       "            <div style=\"display: inline-block;\">\n",
       "                <div class=\"jupyter-widgets widget-label\" style=\"text-align: center;\">\n",
       "                    Figure\n",
       "                </div>\n",
       "                <img src='data:image/png;base64,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' width=640.0/>\n",
       "            </div>\n",
       "        "
      ],
      "text/plain": [
       "Canvas(toolbar=Toolbar(toolitems=[('Home', 'Reset original view', 'home', 'home'), ('Back', 'Back to previous …"
      ]
     },
     "metadata": {},
     "output_type": "display_data"
    }
   ],
   "source": [
    "%matplotlib widget\n",
    "plt.plot(x_pos, RIL_LHS, label=\"RIL LHS\")\n",
    "plt.plot(x_pos, RIL_RHS, label=\"RIL RHS\")"
   ]
  },
  {
   "cell_type": "code",
   "execution_count": 207,
   "id": "c62ca468-d251-4080-80e9-e0731748bdc2",
   "metadata": {},
   "outputs": [],
   "source": [
    "P = -1e3  # 1kN\n",
    "b.apply_load(R_0, 0, -1)\n",
    "b.apply_load(R_L, L_beam, -1)\n",
    "b.apply_load(P, 0.5 * L_beam, -1)\n",
    "b.bc_deflection = [(0, 0), (L_beam, 0)]\n",
    "b.solve_for_reaction_loads(R_0, R_L)"
   ]
  },
  {
   "cell_type": "code",
   "execution_count": 204,
   "id": "70ab07ba-6efe-41df-afc5-81f2288e7f19",
   "metadata": {},
   "outputs": [
    {
     "data": {
      "text/plain": [
       "<sympy.physics.continuum_mechanics.beam.Beam at 0x7f32cbd12dd0>"
      ]
     },
     "execution_count": 204,
     "metadata": {},
     "output_type": "execute_result"
    }
   ],
   "source": []
  },
  {
   "cell_type": "code",
   "execution_count": null,
   "id": "9ee5ed1d-484f-497b-8578-c827ba1fbe7e",
   "metadata": {},
   "outputs": [],
   "source": []
  },
  {
   "cell_type": "code",
   "execution_count": null,
   "id": "d4889df1-d0a1-44ee-83bb-a9a58bdbb09c",
   "metadata": {},
   "outputs": [],
   "source": []
  },
  {
   "cell_type": "code",
   "execution_count": 347,
   "id": "2afd7631-1ae0-4956-b3fd-32b964479466",
   "metadata": {},
   "outputs": [],
   "source": [
    "E_beam = 30e9\n",
    "I_beam = 1.0\n",
    "L_beam = 20.0\n",
    "L_red = 0.1 * L_beam\n",
    "I_red = (1.0 - 0.25) * I_beam\n",
    "x_red = 0.5 * L_beam\n",
    "P = -1e3  # kN\n",
    "\n",
    "\n",
    "def assemble_beam():\n",
    "    b_left = Beam(x_red - 0.5 * L_red, E_beam, I_beam)\n",
    "    b_red = Beam(L_red, E_beam, 0.9 * I_beam)\n",
    "    b_right = Beam(L_beam - (x_red + 0.5 * L_red), E_beam, I_beam)\n",
    "    b = b_left.join(b_red).join(b_right)\n",
    "    R_0, R_L = symbols(\"R_0, R_L\")\n",
    "    b.apply_load(R_0, 0, -1)\n",
    "    b.apply_load(R_L, L_beam, -1)\n",
    "    b.bc_deflection = [(0, 0), (L_beam, 0)]\n",
    "    return b\n",
    "\n",
    "\n",
    "x_pos = np.linspace(0.0, L_beam, 5)\n",
    "\n",
    "RIL_LHS = []\n",
    "RIL_RHS = []\n",
    "\n",
    "for load_pos in x_pos:\n",
    "    b = assemble_beam()\n",
    "    b.apply_load(P, load_pos, -1)\n",
    "    b.solve_for_reaction_loads(R_0, R_L)\n",
    "    slope = b.slope()\n",
    "    RIL_LHS.append(slope.subs({\"x\": 0.0}))\n",
    "    RIL_RHS.append(slope.subs({\"x\": L_beam}))\n",
    "    b.remove_load(P, load_pos, -1)"
   ]
  },
  {
   "cell_type": "code",
   "execution_count": null,
   "id": "7c157831-f5e8-4603-94a9-955187272588",
   "metadata": {},
   "outputs": [],
   "source": []
  },
  {
   "cell_type": "code",
   "execution_count": null,
   "id": "76067666-5606-4044-8292-5642ce0db8e8",
   "metadata": {},
   "outputs": [],
   "source": []
  },
  {
   "cell_type": "code",
   "execution_count": null,
   "id": "b7c1c2b1-9fa6-4451-b9d5-7dbe39a979d4",
   "metadata": {},
   "outputs": [],
   "source": []
  },
  {
   "cell_type": "code",
   "execution_count": null,
   "id": "f07103d9-f0ab-4a85-bbcb-761200f06aa5",
   "metadata": {},
   "outputs": [],
   "source": []
  },
  {
   "cell_type": "code",
   "execution_count": null,
   "id": "9e43a461-7569-4aa7-b017-89600a6cdc1c",
   "metadata": {},
   "outputs": [],
   "source": []
  },
  {
   "cell_type": "code",
   "execution_count": null,
   "id": "122d3a9f-cc0a-499d-b854-dc03766a81b3",
   "metadata": {},
   "outputs": [],
   "source": []
  },
  {
   "cell_type": "code",
   "execution_count": null,
   "id": "1b546b2b-1800-4f25-9118-f082cce32758",
   "metadata": {},
   "outputs": [],
   "source": []
  },
  {
   "cell_type": "code",
   "execution_count": null,
   "id": "f73836a2-0e3a-4e77-8284-0540b2f251b2",
   "metadata": {},
   "outputs": [],
   "source": []
  },
  {
   "cell_type": "code",
   "execution_count": 29,
   "id": "618e8a99-be1a-4f0a-b345-234c50d69e9c",
   "metadata": {},
   "outputs": [
    {
     "ename": "AttributeError",
     "evalue": "'Add' object has no attribute 'eval'",
     "output_type": "error",
     "traceback": [
      "\u001b[0;31m---------------------------------------------------------------------------\u001b[0m",
      "\u001b[0;31mAttributeError\u001b[0m                            Traceback (most recent call last)",
      "Input \u001b[0;32mIn [29]\u001b[0m, in \u001b[0;36m<cell line: 1>\u001b[0;34m()\u001b[0m\n\u001b[0;32m----> 1\u001b[0m \u001b[43mb\u001b[49m\u001b[38;5;241;43m.\u001b[39;49m\u001b[43mbending_moment\u001b[49m\u001b[43m(\u001b[49m\u001b[43m)\u001b[49m\u001b[38;5;241;43m.\u001b[39;49m\u001b[43meval\u001b[49m(x, \u001b[38;5;241m0\u001b[39m)\n",
      "\u001b[0;31mAttributeError\u001b[0m: 'Add' object has no attribute 'eval'"
     ]
    }
   ],
   "source": [
    "b.bending_moment().eval(x, 0)"
   ]
  },
  {
   "cell_type": "code",
   "execution_count": 46,
   "id": "606d8a5c-9d60-4b03-8335-a3504bcf9baf",
   "metadata": {},
   "outputs": [
    {
     "data": {
      "text/latex": [
       "$\\displaystyle R_{0} {\\left\\langle x \\right\\rangle}^{-1} + R_{L} {\\left\\langle x - 1 \\right\\rangle}^{-1}$"
      ],
      "text/plain": [
       "R_0*SingularityFunction(x, 0, -1) + R_L*SingularityFunction(x, 1, -1)"
      ]
     },
     "execution_count": 46,
     "metadata": {},
     "output_type": "execute_result"
    }
   ],
   "source": [
    "b.load"
   ]
  },
  {
   "cell_type": "code",
   "execution_count": null,
   "id": "0ce0ee08-dd9f-4567-ade0-1d7e9dea34cd",
   "metadata": {},
   "outputs": [],
   "source": []
  }
 ],
 "metadata": {
  "kernelspec": {
   "display_name": "Python 3 (ipykernel)",
   "language": "python",
   "name": "python3"
  },
  "language_info": {
   "codemirror_mode": {
    "name": "ipython",
    "version": 3
   },
   "file_extension": ".py",
   "mimetype": "text/x-python",
   "name": "python",
   "nbconvert_exporter": "python",
   "pygments_lexer": "ipython3",
   "version": "3.10.2"
  }
 },
 "nbformat": 4,
 "nbformat_minor": 5
}
