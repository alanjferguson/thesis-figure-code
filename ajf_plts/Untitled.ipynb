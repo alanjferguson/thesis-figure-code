{
 "cells": [
  {
   "cell_type": "code",
   "execution_count": 200,
   "id": "8367933d-0846-4b9f-889c-8fee2f8bc873",
   "metadata": {},
   "outputs": [],
   "source": [
    "import sympy as sym\n",
    "\n",
    "from sympy.abc import x, E, I, P, L, a, b, v, delta\n",
    "\n",
    "from sympy.physics.continuum_mechanics.beam import Beam"
   ]
  },
  {
   "cell_type": "code",
   "execution_count": 227,
   "id": "037c9817-88c3-444a-9385-2a72cc08216c",
   "metadata": {},
   "outputs": [],
   "source": []
  },
  {
   "cell_type": "code",
   "execution_count": 228,
   "id": "55ff631a-44b2-46f0-8f00-0305b406e9ef",
   "metadata": {},
   "outputs": [
    {
     "data": {
      "text/latex": [
       "$\\displaystyle \\begin{cases} I_{0} & \\text{for}\\: x > 0 \\wedge x < - l_{c} + x_{c} \\\\\\frac{I_{0} \\left(l_{c} - x \\left(\\left(\\delta - 1\\right)^{3} + 1\\right)\\right)}{l_{c}} & \\text{for}\\: x > - l_{c} + x_{c} \\wedge x < x_{c} \\\\\\frac{I_{0} \\left(- l_{c} \\left(\\delta - 1\\right)^{3} + x \\left(\\left(\\delta - 1\\right)^{3} + 1\\right)\\right)}{l_{c}} & \\text{for}\\: x > x_{c} \\wedge x < l_{c} + x_{c} \\\\I_{0} & \\text{for}\\: L > x \\wedge x > l_{c} + x_{c} \\end{cases}$"
      ],
      "text/plain": [
       "Piecewise((I_0, (x > 0) & (x < -l_c + x_c)), (I_0*(l_c - x*((delta - 1)**3 + 1))/l_c, (x < x_c) & (x > -l_c + x_c)), (I_0*(-l_c*(delta - 1)**3 + x*((delta - 1)**3 + 1))/l_c, (x > x_c) & (x < l_c + x_c)), (I_0, (L > x) & (x > l_c + x_c)))"
      ]
     },
     "execution_count": 228,
     "metadata": {},
     "output_type": "execute_result"
    }
   ],
   "source": [
    "I"
   ]
  },
  {
   "cell_type": "code",
   "execution_count": null,
   "id": "64f87b9e-4cfd-40d9-a26a-657729aad6a0",
   "metadata": {},
   "outputs": [],
   "source": []
  },
  {
   "cell_type": "code",
   "execution_count": 236,
   "id": "fd4b6f47-378e-44f3-b972-2fe0fe3f2ff8",
   "metadata": {},
   "outputs": [
    {
     "data": {
      "text/latex": [
       "$\\displaystyle \\frac{\\left(\\frac{R_{2} {\\left\\langle - L + x \\right\\rangle}^{2}}{2} + \\frac{R_{2} {\\left\\langle - L \\right\\rangle}^{3}}{6 L}\\right) \\left(\\begin{cases} \\frac{1}{I_{0}} & \\text{for}\\: x > 0 \\wedge x < - l_{c} + x_{c} \\\\\\frac{l_{c}}{I_{0} \\left(l_{c} - x \\left(\\left(\\delta - 1\\right)^{3} + 1\\right)\\right)} & \\text{for}\\: x > - l_{c} + x_{c} \\wedge x < x_{c} \\\\\\frac{l_{c}}{I_{0} \\left(- l_{c} \\left(\\delta - 1\\right)^{3} + x \\left(\\left(\\delta - 1\\right)^{3} + 1\\right)\\right)} & \\text{for}\\: x > x_{c} \\wedge x < l_{c} + x_{c} \\\\\\frac{1}{I_{0}} & \\text{for}\\: L > x \\wedge x > l_{c} + x_{c} \\end{cases}\\right)}{E} + \\frac{\\left(- \\frac{R_{2} {\\left\\langle - L \\right\\rangle}^{3}}{6} + \\frac{R_{2} {\\left\\langle - L + x \\right\\rangle}^{3}}{6} + \\frac{R_{2} x {\\left\\langle - L \\right\\rangle}^{3}}{6 L}\\right) \\left(\\begin{cases} 0 & \\text{for}\\: x > 0 \\wedge x < - l_{c} + x_{c} \\\\\\frac{l_{c} \\left(\\left(\\delta - 1\\right)^{3} + 1\\right)}{I_{0} \\left(l_{c} - x \\left(\\left(\\delta - 1\\right)^{3} + 1\\right)\\right)^{2}} & \\text{for}\\: x > - l_{c} + x_{c} \\wedge x < x_{c} \\\\\\frac{l_{c} \\left(- \\left(\\delta - 1\\right)^{3} - 1\\right)}{I_{0} \\left(- l_{c} \\left(\\delta - 1\\right)^{3} + x \\left(\\left(\\delta - 1\\right)^{3} + 1\\right)\\right)^{2}} & \\text{for}\\: x > x_{c} \\wedge x < l_{c} + x_{c} \\\\0 & \\text{for}\\: L > x \\wedge x > l_{c} + x_{c} \\end{cases}\\right)}{E}$"
      ],
      "text/plain": [
       "(R2*SingularityFunction(x, L, 2)/2 + R2*SingularityFunction(0, L, 3)/(6*L))*Piecewise((1/I_0, (x > 0) & (x < -l_c + x_c)), (l_c/(I_0*(l_c - x*((delta - 1)**3 + 1))), (x < x_c) & (x > -l_c + x_c)), (l_c/(I_0*(-l_c*(delta - 1)**3 + x*((delta - 1)**3 + 1))), (x > x_c) & (x < l_c + x_c)), (1/I_0, (L > x) & (x > l_c + x_c)))/E + (-R2*SingularityFunction(0, L, 3)/6 + R2*SingularityFunction(x, L, 3)/6 + R2*x*SingularityFunction(0, L, 3)/(6*L))*Piecewise((0, (x > 0) & (x < -l_c + x_c)), (l_c*((delta - 1)**3 + 1)/(I_0*(l_c - x*((delta - 1)**3 + 1))**2), (x < x_c) & (x > -l_c + x_c)), (l_c*(-(delta - 1)**3 - 1)/(I_0*(-l_c*(delta - 1)**3 + x*((delta - 1)**3 + 1))**2), (x > x_c) & (x < l_c + x_c)), (0, (L > x) & (x > l_c + x_c)))/E"
      ]
     },
     "execution_count": 236,
     "metadata": {},
     "output_type": "execute_result"
    }
   ],
   "source": [
    "\n",
    "b.slope()"
   ]
  },
  {
   "cell_type": "code",
   "execution_count": 263,
   "id": "5d7884aa-a83b-4945-8e53-4b024e2ae150",
   "metadata": {},
   "outputs": [
    {
     "data": {
      "text/latex": [
       "$\\displaystyle - \\frac{4 \\left|{x - x_{c}}\\right|}{3}$"
      ],
      "text/plain": [
       "-4*Abs(x - x_c)/3"
      ]
     },
     "execution_count": 263,
     "metadata": {},
     "output_type": "execute_result"
    }
   ],
   "source": [
    "sym.S.NegativeOne * sym.S(4) / 3 * sym.Abs(x - xc)"
   ]
  },
  {
   "cell_type": "code",
   "execution_count": null,
   "id": "13cf43e1-aacf-400d-8554-4552335798e6",
   "metadata": {},
   "outputs": [],
   "source": []
  },
  {
   "cell_type": "code",
   "execution_count": null,
   "id": "60949330-9db9-46f4-bb03-11c02a391f1b",
   "metadata": {},
   "outputs": [],
   "source": []
  },
  {
   "cell_type": "code",
   "execution_count": null,
   "id": "2de35d12-1b9c-4150-aae6-1647b68c08ea",
   "metadata": {},
   "outputs": [],
   "source": []
  },
  {
   "cell_type": "code",
   "execution_count": 254,
   "id": "bb57055e-04a9-4edf-91ab-bbe389af244e",
   "metadata": {},
   "outputs": [],
   "source": [
    "E = 30e9\n",
    "I0 = 1.0\n",
    "L = 20\n",
    "def compute_RIL(xc = 1.0, delta = 0.0, depth = 1.0):\n",
    "    P = -1e3\n",
    "    \n",
    "    lc = sym.S(3)/sym.S(2) * L\n",
    "    \n",
    "    Ic = I0 * (sym.S(1) - delta)**sym.S(3)\n",
    "    r = (I0 - Ic) / lc\n",
    "\n",
    "    I = sym.Piecewise(\n",
    "        (I0, (x < (xc-lc)) & (x > 0)),\n",
    "        (sym.simplify(I0 - r * x), (x > xc-lc) & (x < xc)),\n",
    "        (sym.simplify(Ic + r * x), (x > xc) & (x < xc + lc)),\n",
    "        (I0, (x > (xc+lc)) & (x < L)),\n",
    "    )\n",
    "    \n",
    "    b = Beam(20, E, I)\n",
    "\n",
    "    R1, R2 = sym.symbols ('R1, R2')\n",
    "\n",
    "    b.apply_load(R1, 0, -1)\n",
    "    b.apply_load(R2, L, -1)\n",
    "    b.bc_deflection = [(0, 0), (L, 0)]\n",
    "    \n",
    "    b.apply_load(P, 0.333*L, -1)\n",
    "    b.solve_for_reaction_loads(R1, R2)\n",
    "    \n",
    "    b.remove_load(P, 0.333*L, -1)\n",
    "    \n",
    "    b.apply_load(P, 0.999*L, -1)\n",
    "    b.solve_for_reaction_loads(R1, R2)\n",
    "    \n",
    "    return b\n",
    "    "
   ]
  },
  {
   "cell_type": "code",
   "execution_count": 255,
   "id": "3b991d2f-7408-47d3-a198-01d361cce96a",
   "metadata": {},
   "outputs": [
    {
     "ename": "KeyboardInterrupt",
     "evalue": "",
     "output_type": "error",
     "traceback": [
      "\u001b[0;31m---------------------------------------------------------------------------\u001b[0m",
      "\u001b[0;31mKeyboardInterrupt\u001b[0m                         Traceback (most recent call last)",
      "Input \u001b[0;32mIn [255]\u001b[0m, in \u001b[0;36m<cell line: 1>\u001b[0;34m()\u001b[0m\n\u001b[0;32m----> 1\u001b[0m \u001b[43mcompute_RIL\u001b[49m\u001b[43m(\u001b[49m\u001b[43m)\u001b[49m\u001b[38;5;241m.\u001b[39mplot_loading_results()\n",
      "Input \u001b[0;32mIn [254]\u001b[0m, in \u001b[0;36mcompute_RIL\u001b[0;34m(xc, delta, depth)\u001b[0m\n\u001b[1;32m     30\u001b[0m b\u001b[38;5;241m.\u001b[39mremove_load(P, \u001b[38;5;241m0.333\u001b[39m\u001b[38;5;241m*\u001b[39mL, \u001b[38;5;241m-\u001b[39m\u001b[38;5;241m1\u001b[39m)\n\u001b[1;32m     32\u001b[0m b\u001b[38;5;241m.\u001b[39mapply_load(P, \u001b[38;5;241m0.999\u001b[39m\u001b[38;5;241m*\u001b[39mL, \u001b[38;5;241m-\u001b[39m\u001b[38;5;241m1\u001b[39m)\n\u001b[0;32m---> 33\u001b[0m \u001b[43mb\u001b[49m\u001b[38;5;241;43m.\u001b[39;49m\u001b[43msolve_for_reaction_loads\u001b[49m\u001b[43m(\u001b[49m\u001b[43mR1\u001b[49m\u001b[43m,\u001b[49m\u001b[43m \u001b[49m\u001b[43mR2\u001b[49m\u001b[43m)\u001b[49m\n\u001b[1;32m     35\u001b[0m \u001b[38;5;28;01mreturn\u001b[39;00m b\n",
      "File \u001b[0;32m~/ajf_conda_envs/python310/lib/python3.10/site-packages/sympy/physics/continuum_mechanics/beam.py:830\u001b[0m, in \u001b[0;36mBeam.solve_for_reaction_loads\u001b[0;34m(self, *reactions)\u001b[0m\n\u001b[1;32m    827\u001b[0m C3 \u001b[38;5;241m=\u001b[39m Symbol(\u001b[38;5;124m'\u001b[39m\u001b[38;5;124mC3\u001b[39m\u001b[38;5;124m'\u001b[39m)\n\u001b[1;32m    828\u001b[0m C4 \u001b[38;5;241m=\u001b[39m Symbol(\u001b[38;5;124m'\u001b[39m\u001b[38;5;124mC4\u001b[39m\u001b[38;5;124m'\u001b[39m)\n\u001b[0;32m--> 830\u001b[0m shear_curve \u001b[38;5;241m=\u001b[39m \u001b[43mlimit\u001b[49m\u001b[43m(\u001b[49m\u001b[38;5;28;43mself\u001b[39;49m\u001b[38;5;241;43m.\u001b[39;49m\u001b[43mshear_force\u001b[49m\u001b[43m(\u001b[49m\u001b[43m)\u001b[49m\u001b[43m,\u001b[49m\u001b[43m \u001b[49m\u001b[43mx\u001b[49m\u001b[43m,\u001b[49m\u001b[43m \u001b[49m\u001b[43ml\u001b[49m\u001b[43m)\u001b[49m\n\u001b[1;32m    831\u001b[0m moment_curve \u001b[38;5;241m=\u001b[39m limit(\u001b[38;5;28mself\u001b[39m\u001b[38;5;241m.\u001b[39mbending_moment(), x, l)\n\u001b[1;32m    833\u001b[0m slope_eqs \u001b[38;5;241m=\u001b[39m []\n",
      "File \u001b[0;32m~/ajf_conda_envs/python310/lib/python3.10/site-packages/sympy/series/limits.py:67\u001b[0m, in \u001b[0;36mlimit\u001b[0;34m(e, z, z0, dir)\u001b[0m\n\u001b[1;32m     16\u001b[0m \u001b[38;5;28;01mdef\u001b[39;00m \u001b[38;5;21mlimit\u001b[39m(e, z, z0, \u001b[38;5;28mdir\u001b[39m\u001b[38;5;241m=\u001b[39m\u001b[38;5;124m\"\u001b[39m\u001b[38;5;124m+\u001b[39m\u001b[38;5;124m\"\u001b[39m):\n\u001b[1;32m     17\u001b[0m     \u001b[38;5;124;03m\"\"\"Computes the limit of ``e(z)`` at the point ``z0``.\u001b[39;00m\n\u001b[1;32m     18\u001b[0m \n\u001b[1;32m     19\u001b[0m \u001b[38;5;124;03m    Parameters\u001b[39;00m\n\u001b[0;32m   (...)\u001b[0m\n\u001b[1;32m     64\u001b[0m \u001b[38;5;124;03m     limit_seq : returns the limit of a sequence.\u001b[39;00m\n\u001b[1;32m     65\u001b[0m \u001b[38;5;124;03m    \"\"\"\u001b[39;00m\n\u001b[0;32m---> 67\u001b[0m     \u001b[38;5;28;01mreturn\u001b[39;00m \u001b[43mLimit\u001b[49m\u001b[43m(\u001b[49m\u001b[43me\u001b[49m\u001b[43m,\u001b[49m\u001b[43m \u001b[49m\u001b[43mz\u001b[49m\u001b[43m,\u001b[49m\u001b[43m \u001b[49m\u001b[43mz0\u001b[49m\u001b[43m,\u001b[49m\u001b[43m \u001b[49m\u001b[38;5;28;43mdir\u001b[39;49m\u001b[43m)\u001b[49m\u001b[38;5;241;43m.\u001b[39;49m\u001b[43mdoit\u001b[49m\u001b[43m(\u001b[49m\u001b[43mdeep\u001b[49m\u001b[38;5;241;43m=\u001b[39;49m\u001b[38;5;28;43;01mFalse\u001b[39;49;00m\u001b[43m)\u001b[49m\n",
      "File \u001b[0;32m~/ajf_conda_envs/python310/lib/python3.10/site-packages/sympy/series/limits.py:306\u001b[0m, in \u001b[0;36mLimit.doit\u001b[0;34m(self, **hints)\u001b[0m\n\u001b[1;32m    304\u001b[0m     newe \u001b[38;5;241m=\u001b[39m e\u001b[38;5;241m.\u001b[39msubs(z, z \u001b[38;5;241m+\u001b[39m z0)\n\u001b[1;32m    305\u001b[0m \u001b[38;5;28;01mtry\u001b[39;00m:\n\u001b[0;32m--> 306\u001b[0m     coeff, ex \u001b[38;5;241m=\u001b[39m \u001b[43mnewe\u001b[49m\u001b[38;5;241;43m.\u001b[39;49m\u001b[43mleadterm\u001b[49m\u001b[43m(\u001b[49m\u001b[43mz\u001b[49m\u001b[43m,\u001b[49m\u001b[43m \u001b[49m\u001b[43mcdir\u001b[49m\u001b[38;5;241;43m=\u001b[39;49m\u001b[43mcdir\u001b[49m\u001b[43m)\u001b[49m\n\u001b[1;32m    307\u001b[0m \u001b[38;5;28;01mexcept\u001b[39;00m (\u001b[38;5;167;01mValueError\u001b[39;00m, \u001b[38;5;167;01mNotImplementedError\u001b[39;00m, PoleError):\n\u001b[1;32m    308\u001b[0m     \u001b[38;5;66;03m# The NotImplementedError catching is for custom functions\u001b[39;00m\n\u001b[1;32m    309\u001b[0m     e \u001b[38;5;241m=\u001b[39m powsimp(e)\n",
      "File \u001b[0;32m~/ajf_conda_envs/python310/lib/python3.10/site-packages/sympy/core/expr.py:3480\u001b[0m, in \u001b[0;36mExpr.leadterm\u001b[0;34m(self, x, logx, cdir)\u001b[0m\n\u001b[1;32m   3478\u001b[0m \u001b[38;5;28;01mfrom\u001b[39;00m \u001b[38;5;21;01m.\u001b[39;00m\u001b[38;5;21;01msymbol\u001b[39;00m \u001b[38;5;28;01mimport\u001b[39;00m Dummy\n\u001b[1;32m   3479\u001b[0m \u001b[38;5;28;01mfrom\u001b[39;00m \u001b[38;5;21;01msympy\u001b[39;00m\u001b[38;5;21;01m.\u001b[39;00m\u001b[38;5;21;01mfunctions\u001b[39;00m\u001b[38;5;21;01m.\u001b[39;00m\u001b[38;5;21;01melementary\u001b[39;00m\u001b[38;5;21;01m.\u001b[39;00m\u001b[38;5;21;01mexponential\u001b[39;00m \u001b[38;5;28;01mimport\u001b[39;00m log\n\u001b[0;32m-> 3480\u001b[0m l \u001b[38;5;241m=\u001b[39m \u001b[38;5;28;43mself\u001b[39;49m\u001b[38;5;241;43m.\u001b[39;49m\u001b[43mas_leading_term\u001b[49m\u001b[43m(\u001b[49m\u001b[43mx\u001b[49m\u001b[43m,\u001b[49m\u001b[43m \u001b[49m\u001b[43mlogx\u001b[49m\u001b[38;5;241;43m=\u001b[39;49m\u001b[43mlogx\u001b[49m\u001b[43m,\u001b[49m\u001b[43m \u001b[49m\u001b[43mcdir\u001b[49m\u001b[38;5;241;43m=\u001b[39;49m\u001b[43mcdir\u001b[49m\u001b[43m)\u001b[49m\n\u001b[1;32m   3481\u001b[0m d \u001b[38;5;241m=\u001b[39m Dummy(\u001b[38;5;124m'\u001b[39m\u001b[38;5;124mlogx\u001b[39m\u001b[38;5;124m'\u001b[39m)\n\u001b[1;32m   3482\u001b[0m \u001b[38;5;28;01mif\u001b[39;00m l\u001b[38;5;241m.\u001b[39mhas(log(x)):\n",
      "File \u001b[0;32m~/ajf_conda_envs/python310/lib/python3.10/site-packages/sympy/core/cache.py:70\u001b[0m, in \u001b[0;36m__cacheit.<locals>.func_wrapper.<locals>.wrapper\u001b[0;34m(*args, **kwargs)\u001b[0m\n\u001b[1;32m     67\u001b[0m \u001b[38;5;129m@wraps\u001b[39m(func)\n\u001b[1;32m     68\u001b[0m \u001b[38;5;28;01mdef\u001b[39;00m \u001b[38;5;21mwrapper\u001b[39m(\u001b[38;5;241m*\u001b[39margs, \u001b[38;5;241m*\u001b[39m\u001b[38;5;241m*\u001b[39mkwargs):\n\u001b[1;32m     69\u001b[0m     \u001b[38;5;28;01mtry\u001b[39;00m:\n\u001b[0;32m---> 70\u001b[0m         retval \u001b[38;5;241m=\u001b[39m \u001b[43mcfunc\u001b[49m\u001b[43m(\u001b[49m\u001b[38;5;241;43m*\u001b[39;49m\u001b[43margs\u001b[49m\u001b[43m,\u001b[49m\u001b[43m \u001b[49m\u001b[38;5;241;43m*\u001b[39;49m\u001b[38;5;241;43m*\u001b[39;49m\u001b[43mkwargs\u001b[49m\u001b[43m)\u001b[49m\n\u001b[1;32m     71\u001b[0m     \u001b[38;5;28;01mexcept\u001b[39;00m \u001b[38;5;167;01mTypeError\u001b[39;00m \u001b[38;5;28;01mas\u001b[39;00m e:\n\u001b[1;32m     72\u001b[0m         \u001b[38;5;28;01mif\u001b[39;00m \u001b[38;5;129;01mnot\u001b[39;00m e\u001b[38;5;241m.\u001b[39margs \u001b[38;5;129;01mor\u001b[39;00m \u001b[38;5;129;01mnot\u001b[39;00m e\u001b[38;5;241m.\u001b[39margs[\u001b[38;5;241m0\u001b[39m]\u001b[38;5;241m.\u001b[39mstartswith(\u001b[38;5;124m'\u001b[39m\u001b[38;5;124munhashable type:\u001b[39m\u001b[38;5;124m'\u001b[39m):\n",
      "File \u001b[0;32m~/ajf_conda_envs/python310/lib/python3.10/site-packages/sympy/core/expr.py:3443\u001b[0m, in \u001b[0;36mExpr.as_leading_term\u001b[0;34m(self, logx, cdir, *symbols)\u001b[0m\n\u001b[1;32m   3441\u001b[0m \u001b[38;5;28;01mif\u001b[39;00m x \u001b[38;5;129;01mnot\u001b[39;00m \u001b[38;5;129;01min\u001b[39;00m \u001b[38;5;28mself\u001b[39m\u001b[38;5;241m.\u001b[39mfree_symbols:\n\u001b[1;32m   3442\u001b[0m     \u001b[38;5;28;01mreturn\u001b[39;00m \u001b[38;5;28mself\u001b[39m\n\u001b[0;32m-> 3443\u001b[0m obj \u001b[38;5;241m=\u001b[39m \u001b[38;5;28;43mself\u001b[39;49m\u001b[38;5;241;43m.\u001b[39;49m\u001b[43m_eval_as_leading_term\u001b[49m\u001b[43m(\u001b[49m\u001b[43mx\u001b[49m\u001b[43m,\u001b[49m\u001b[43m \u001b[49m\u001b[43mlogx\u001b[49m\u001b[38;5;241;43m=\u001b[39;49m\u001b[43mlogx\u001b[49m\u001b[43m,\u001b[49m\u001b[43m \u001b[49m\u001b[43mcdir\u001b[49m\u001b[38;5;241;43m=\u001b[39;49m\u001b[43mcdir\u001b[49m\u001b[43m)\u001b[49m\n\u001b[1;32m   3444\u001b[0m \u001b[38;5;28;01mif\u001b[39;00m obj \u001b[38;5;129;01mis\u001b[39;00m \u001b[38;5;129;01mnot\u001b[39;00m \u001b[38;5;28;01mNone\u001b[39;00m:\n\u001b[1;32m   3445\u001b[0m     \u001b[38;5;28;01mfrom\u001b[39;00m \u001b[38;5;21;01msympy\u001b[39;00m\u001b[38;5;21;01m.\u001b[39;00m\u001b[38;5;21;01msimplify\u001b[39;00m\u001b[38;5;21;01m.\u001b[39;00m\u001b[38;5;21;01mpowsimp\u001b[39;00m \u001b[38;5;28;01mimport\u001b[39;00m powsimp\n",
      "File \u001b[0;32m~/ajf_conda_envs/python310/lib/python3.10/site-packages/sympy/core/add.py:1077\u001b[0m, in \u001b[0;36mAdd._eval_as_leading_term\u001b[0;34m(self, x, logx, cdir)\u001b[0m\n\u001b[1;32m   1075\u001b[0m incr \u001b[38;5;241m=\u001b[39m S\u001b[38;5;241m.\u001b[39mOne\n\u001b[1;32m   1076\u001b[0m \u001b[38;5;28;01mwhile\u001b[39;00m res\u001b[38;5;241m.\u001b[39mis_Order:\n\u001b[0;32m-> 1077\u001b[0m     res \u001b[38;5;241m=\u001b[39m \u001b[43mold\u001b[49m\u001b[38;5;241;43m.\u001b[39;49m\u001b[43m_eval_nseries\u001b[49m\u001b[43m(\u001b[49m\u001b[43mx\u001b[49m\u001b[43m,\u001b[49m\u001b[43m \u001b[49m\u001b[43mn\u001b[49m\u001b[38;5;241;43m=\u001b[39;49m\u001b[43mn0\u001b[49m\u001b[38;5;241;43m+\u001b[39;49m\u001b[43mincr\u001b[49m\u001b[43m,\u001b[49m\u001b[43m \u001b[49m\u001b[43mlogx\u001b[49m\u001b[38;5;241;43m=\u001b[39;49m\u001b[38;5;28;43;01mNone\u001b[39;49;00m\u001b[43m,\u001b[49m\u001b[43m \u001b[49m\u001b[43mcdir\u001b[49m\u001b[38;5;241;43m=\u001b[39;49m\u001b[43mcdir\u001b[49m\u001b[43m)\u001b[49m\u001b[38;5;241;43m.\u001b[39;49m\u001b[43mcancel\u001b[49m\u001b[43m(\u001b[49m\u001b[43m)\u001b[49m\u001b[38;5;241m.\u001b[39mpowsimp()\u001b[38;5;241m.\u001b[39mtrigsimp()\n\u001b[1;32m   1078\u001b[0m     incr \u001b[38;5;241m*\u001b[39m\u001b[38;5;241m=\u001b[39m \u001b[38;5;241m2\u001b[39m\n\u001b[1;32m   1079\u001b[0m \u001b[38;5;28;01mreturn\u001b[39;00m res\u001b[38;5;241m.\u001b[39mas_leading_term(x, logx\u001b[38;5;241m=\u001b[39mlogx, cdir\u001b[38;5;241m=\u001b[39mcdir)\n",
      "File \u001b[0;32m~/ajf_conda_envs/python310/lib/python3.10/site-packages/sympy/core/expr.py:3733\u001b[0m, in \u001b[0;36mExpr.cancel\u001b[0;34m(self, *gens, **args)\u001b[0m\n\u001b[1;32m   3731\u001b[0m \u001b[38;5;124;03m\"\"\"See the cancel function in sympy.polys\"\"\"\u001b[39;00m\n\u001b[1;32m   3732\u001b[0m \u001b[38;5;28;01mfrom\u001b[39;00m \u001b[38;5;21;01msympy\u001b[39;00m\u001b[38;5;21;01m.\u001b[39;00m\u001b[38;5;21;01mpolys\u001b[39;00m\u001b[38;5;21;01m.\u001b[39;00m\u001b[38;5;21;01mpolytools\u001b[39;00m \u001b[38;5;28;01mimport\u001b[39;00m cancel\n\u001b[0;32m-> 3733\u001b[0m \u001b[38;5;28;01mreturn\u001b[39;00m \u001b[43mcancel\u001b[49m\u001b[43m(\u001b[49m\u001b[38;5;28;43mself\u001b[39;49m\u001b[43m,\u001b[49m\u001b[43m \u001b[49m\u001b[38;5;241;43m*\u001b[39;49m\u001b[43mgens\u001b[49m\u001b[43m,\u001b[49m\u001b[43m \u001b[49m\u001b[38;5;241;43m*\u001b[39;49m\u001b[38;5;241;43m*\u001b[39;49m\u001b[43margs\u001b[49m\u001b[43m)\u001b[49m\n",
      "File \u001b[0;32m~/ajf_conda_envs/python310/lib/python3.10/site-packages/sympy/polys/polytools.py:6770\u001b[0m, in \u001b[0;36mcancel\u001b[0;34m(f, _signsimp, *gens, **args)\u001b[0m\n\u001b[1;32m   6768\u001b[0m \u001b[38;5;28;01mif\u001b[39;00m f\u001b[38;5;241m.\u001b[39mhas(Piecewise):\n\u001b[1;32m   6769\u001b[0m     \u001b[38;5;28;01mraise\u001b[39;00m PolynomialError()\n\u001b[0;32m-> 6770\u001b[0m R, (F, G) \u001b[38;5;241m=\u001b[39m \u001b[43msring\u001b[49m\u001b[43m(\u001b[49m\u001b[43m(\u001b[49m\u001b[43mp\u001b[49m\u001b[43m,\u001b[49m\u001b[43m \u001b[49m\u001b[43mq\u001b[49m\u001b[43m)\u001b[49m\u001b[43m,\u001b[49m\u001b[43m \u001b[49m\u001b[38;5;241;43m*\u001b[39;49m\u001b[43mgens\u001b[49m\u001b[43m,\u001b[49m\u001b[43m \u001b[49m\u001b[38;5;241;43m*\u001b[39;49m\u001b[38;5;241;43m*\u001b[39;49m\u001b[43margs\u001b[49m\u001b[43m)\u001b[49m\n\u001b[1;32m   6771\u001b[0m \u001b[38;5;28;01mif\u001b[39;00m \u001b[38;5;129;01mnot\u001b[39;00m R\u001b[38;5;241m.\u001b[39mngens:\n\u001b[1;32m   6772\u001b[0m     \u001b[38;5;28;01mif\u001b[39;00m \u001b[38;5;129;01mnot\u001b[39;00m \u001b[38;5;28misinstance\u001b[39m(f, (\u001b[38;5;28mtuple\u001b[39m, Tuple)):\n",
      "File \u001b[0;32m~/ajf_conda_envs/python310/lib/python3.10/site-packages/sympy/polys/rings.py:163\u001b[0m, in \u001b[0;36msring\u001b[0;34m(exprs, *symbols, **options)\u001b[0m\n\u001b[1;32m    160\u001b[0m opt \u001b[38;5;241m=\u001b[39m build_options(symbols, options)\n\u001b[1;32m    162\u001b[0m \u001b[38;5;66;03m# TODO: rewrite this so that it doesn't use expand() (see poly()).\u001b[39;00m\n\u001b[0;32m--> 163\u001b[0m reps, opt \u001b[38;5;241m=\u001b[39m \u001b[43m_parallel_dict_from_expr\u001b[49m\u001b[43m(\u001b[49m\u001b[43mexprs\u001b[49m\u001b[43m,\u001b[49m\u001b[43m \u001b[49m\u001b[43mopt\u001b[49m\u001b[43m)\u001b[49m\n\u001b[1;32m    165\u001b[0m \u001b[38;5;28;01mif\u001b[39;00m opt\u001b[38;5;241m.\u001b[39mdomain \u001b[38;5;129;01mis\u001b[39;00m \u001b[38;5;28;01mNone\u001b[39;00m:\n\u001b[1;32m    166\u001b[0m     coeffs \u001b[38;5;241m=\u001b[39m \u001b[38;5;28msum\u001b[39m([ \u001b[38;5;28mlist\u001b[39m(rep\u001b[38;5;241m.\u001b[39mvalues()) \u001b[38;5;28;01mfor\u001b[39;00m rep \u001b[38;5;129;01min\u001b[39;00m reps ], [])\n",
      "File \u001b[0;32m~/ajf_conda_envs/python310/lib/python3.10/site-packages/sympy/polys/polyutils.py:334\u001b[0m, in \u001b[0;36m_parallel_dict_from_expr\u001b[0;34m(exprs, opt)\u001b[0m\n\u001b[1;32m    332\u001b[0m     reps, gens \u001b[38;5;241m=\u001b[39m _parallel_dict_from_expr_if_gens(exprs, opt)\n\u001b[1;32m    333\u001b[0m \u001b[38;5;28;01melse\u001b[39;00m:\n\u001b[0;32m--> 334\u001b[0m     reps, gens \u001b[38;5;241m=\u001b[39m \u001b[43m_parallel_dict_from_expr_no_gens\u001b[49m\u001b[43m(\u001b[49m\u001b[43mexprs\u001b[49m\u001b[43m,\u001b[49m\u001b[43m \u001b[49m\u001b[43mopt\u001b[49m\u001b[43m)\u001b[49m\n\u001b[1;32m    336\u001b[0m \u001b[38;5;28;01mreturn\u001b[39;00m reps, opt\u001b[38;5;241m.\u001b[39mclone({\u001b[38;5;124m'\u001b[39m\u001b[38;5;124mgens\u001b[39m\u001b[38;5;124m'\u001b[39m: gens})\n",
      "File \u001b[0;32m~/ajf_conda_envs/python310/lib/python3.10/site-packages/sympy/polys/polyutils.py:276\u001b[0m, in \u001b[0;36m_parallel_dict_from_expr_no_gens\u001b[0;34m(exprs, opt)\u001b[0m\n\u001b[1;32m    272\u001b[0m         terms\u001b[38;5;241m.\u001b[39mappend((coeff, elements))\n\u001b[1;32m    274\u001b[0m     reprs\u001b[38;5;241m.\u001b[39mappend(terms)\n\u001b[0;32m--> 276\u001b[0m gens \u001b[38;5;241m=\u001b[39m \u001b[43m_sort_gens\u001b[49m\u001b[43m(\u001b[49m\u001b[43mgens\u001b[49m\u001b[43m,\u001b[49m\u001b[43m \u001b[49m\u001b[43mopt\u001b[49m\u001b[38;5;241;43m=\u001b[39;49m\u001b[43mopt\u001b[49m\u001b[43m)\u001b[49m\n\u001b[1;32m    277\u001b[0m k, indices \u001b[38;5;241m=\u001b[39m \u001b[38;5;28mlen\u001b[39m(gens), {}\n\u001b[1;32m    279\u001b[0m \u001b[38;5;28;01mfor\u001b[39;00m i, g \u001b[38;5;129;01min\u001b[39;00m \u001b[38;5;28menumerate\u001b[39m(gens):\n",
      "File \u001b[0;32m~/ajf_conda_envs/python310/lib/python3.10/site-packages/sympy/polys/polyutils.py:102\u001b[0m, in \u001b[0;36m_sort_gens\u001b[0;34m(gens, **args)\u001b[0m\n\u001b[1;32m     99\u001b[0m     \u001b[38;5;28;01mreturn\u001b[39;00m (_max_order, name, index)\n\u001b[1;32m    101\u001b[0m \u001b[38;5;28;01mtry\u001b[39;00m:\n\u001b[0;32m--> 102\u001b[0m     gens \u001b[38;5;241m=\u001b[39m \u001b[38;5;28;43msorted\u001b[39;49m\u001b[43m(\u001b[49m\u001b[43mgens\u001b[49m\u001b[43m,\u001b[49m\u001b[43m \u001b[49m\u001b[43mkey\u001b[49m\u001b[38;5;241;43m=\u001b[39;49m\u001b[43morder_key\u001b[49m\u001b[43m)\u001b[49m\n\u001b[1;32m    103\u001b[0m \u001b[38;5;28;01mexcept\u001b[39;00m \u001b[38;5;167;01mTypeError\u001b[39;00m:  \u001b[38;5;66;03m# pragma: no cover\u001b[39;00m\n\u001b[1;32m    104\u001b[0m     \u001b[38;5;28;01mpass\u001b[39;00m\n",
      "File \u001b[0;32m~/ajf_conda_envs/python310/lib/python3.10/site-packages/sympy/polys/polyutils.py:82\u001b[0m, in \u001b[0;36m_sort_gens.<locals>.order_key\u001b[0;34m(gen)\u001b[0m\n\u001b[1;32m     79\u001b[0m     \u001b[38;5;28;01mexcept\u001b[39;00m \u001b[38;5;167;01mValueError\u001b[39;00m:\n\u001b[1;32m     80\u001b[0m         \u001b[38;5;28;01mpass\u001b[39;00m\n\u001b[0;32m---> 82\u001b[0m name, index \u001b[38;5;241m=\u001b[39m \u001b[43m_re_gen\u001b[49m\u001b[38;5;241;43m.\u001b[39;49m\u001b[43mmatch\u001b[49m\u001b[43m(\u001b[49m\u001b[43mgen\u001b[49m\u001b[43m)\u001b[49m\u001b[38;5;241m.\u001b[39mgroups()\n\u001b[1;32m     84\u001b[0m \u001b[38;5;28;01mif\u001b[39;00m index:\n\u001b[1;32m     85\u001b[0m     index \u001b[38;5;241m=\u001b[39m \u001b[38;5;28mint\u001b[39m(index)\n",
      "\u001b[0;31mKeyboardInterrupt\u001b[0m: "
     ]
    }
   ],
   "source": [
    "compute_RIL().plot_loading_results()"
   ]
  },
  {
   "cell_type": "code",
   "execution_count": null,
   "id": "9e329783-3e81-4661-ba46-0856537d4063",
   "metadata": {},
   "outputs": [],
   "source": []
  },
  {
   "cell_type": "code",
   "execution_count": null,
   "id": "b8a3974d-5a81-4eb5-89b1-39e2599e87e9",
   "metadata": {},
   "outputs": [],
   "source": []
  },
  {
   "cell_type": "code",
   "execution_count": null,
   "id": "5cde0873-a816-48d0-9e55-b74ed43cc356",
   "metadata": {},
   "outputs": [],
   "source": []
  },
  {
   "cell_type": "code",
   "execution_count": null,
   "id": "2ce052a1-a6b6-4a7c-840d-58aae8fb5bd2",
   "metadata": {},
   "outputs": [],
   "source": []
  },
  {
   "cell_type": "code",
   "execution_count": null,
   "id": "86aec24c-ae4d-4f8f-ba01-0fb947e333a0",
   "metadata": {},
   "outputs": [],
   "source": []
  },
  {
   "cell_type": "code",
   "execution_count": null,
   "id": "c793dcd3-edf9-4144-b4ee-d3a67a75f8e6",
   "metadata": {},
   "outputs": [],
   "source": []
  },
  {
   "cell_type": "code",
   "execution_count": null,
   "id": "e3c78084-800d-4da4-bcb1-bb83b6fdc8d8",
   "metadata": {},
   "outputs": [],
   "source": []
  },
  {
   "cell_type": "code",
   "execution_count": 142,
   "id": "bc965403-e7ad-440c-b12a-2058b6c9f4ed",
   "metadata": {},
   "outputs": [
    {
     "name": "stdout",
     "output_type": "stream",
     "text": [
      "P⋅b⋅x\n",
      "─────\n",
      "  L  \n",
      "              P⋅b⋅x\n",
      "-P⋅(-a + x) + ─────\n",
      "                L  \n"
     ]
    }
   ],
   "source": [
    "# ----------------\n",
    "# Bending Moments\n",
    "# ----------------\n",
    "\n",
    "# For (0 <= x <= a)\n",
    "M_left = P * b * x / L\n",
    "\n",
    "# For (a <= x <= L)\n",
    "M_right = P * b * x / L - P * (x - a)\n",
    "\n",
    "# ----------------\n",
    "# Diff. Equations\n",
    "# ----------------\n",
    "v = sym.symbols('v', cls=sym.Function) # vertical displacement\n",
    "\n",
    "# Curvature\n",
    "kappa_left = M_left # / (E * I)\n",
    "kappa_right = M_right # / (E * I)\n",
    "\n",
    "sym.pprint(kappa_left)\n",
    "sym.pprint(kappa_right)"
   ]
  },
  {
   "cell_type": "code",
   "execution_count": 184,
   "id": "9e7186df-4f11-4063-bdcb-4f30768f507a",
   "metadata": {},
   "outputs": [
    {
     "data": {
      "text/latex": [
       "$\\displaystyle \\begin{cases} \\frac{P b x}{L} & \\text{for}\\: x \\geq 0 \\wedge a > x \\\\- P \\left(- a + x\\right) + \\frac{P b x}{L} & \\text{for}\\: a \\leq x \\wedge L > x \\end{cases}$"
      ],
      "text/plain": [
       "Piecewise((P*b*x/L, (x >= 0) & (a > x)), (-P*(-a + x) + P*b*x/L, (a <= x) & (L > x)))"
      ]
     },
     "execution_count": 184,
     "metadata": {},
     "output_type": "execute_result"
    }
   ],
   "source": [
    "kappa = sym.Piecewise(\n",
    "    (kappa_left, (x >= 0) & (x < a)),\n",
    "    (kappa_right, (x >= a) & (x < L)))\n",
    "kappa"
   ]
  },
  {
   "cell_type": "code",
   "execution_count": 191,
   "id": "d262d1da-9a34-4608-b178-1f4715f6741b",
   "metadata": {},
   "outputs": [],
   "source": [
    "v_beam = sym.dsolve(E*I*sym.diff(v(x), x, 2)-kappa,\n",
    "                    ics={v(0): 0, v(L): 0})"
   ]
  },
  {
   "cell_type": "code",
   "execution_count": 192,
   "id": "934c72cd-30ba-40a0-a346-b2ff48f33940",
   "metadata": {},
   "outputs": [
    {
     "data": {
      "text/latex": [
       "$\\displaystyle v{\\left(x \\right)} = \\begin{cases} \\frac{P b x^{3}}{6 E I L} & \\text{for}\\: x \\geq 0 \\wedge a > x \\\\\\frac{P a x^{2}}{2 E I} - \\frac{P x^{3}}{6 E I} + \\frac{P b x^{3}}{6 E I L} & \\text{for}\\: a \\leq x \\wedge L > x \\end{cases} - \\frac{x \\left(\\begin{cases} \\frac{L^{2} P b}{6 E I} & \\text{for}\\: L \\geq 0 \\wedge L < a \\\\\\frac{- L^{3} P + 3 L^{2} P a + L^{2} P b}{6 E I} & \\text{for}\\: L \\geq a \\wedge L > L \\end{cases}\\right)}{L}$"
      ],
      "text/plain": [
       "Eq(v(x), Piecewise((P*b*x**3/(6*E*I*L), (x >= 0) & (a > x)), (P*a*x**2/(2*E*I) - P*x**3/(6*E*I) + P*b*x**3/(6*E*I*L), (a <= x) & (L > x))) - x*Piecewise((L**2*P*b/(6*E*I), (L >= 0) & (L < a)), ((-L**3*P + 3*L**2*P*a + L**2*P*b)/(6*E*I), (L >= a) & (L > L)))/L)"
      ]
     },
     "execution_count": 192,
     "metadata": {},
     "output_type": "execute_result"
    }
   ],
   "source": [
    "v_beam"
   ]
  },
  {
   "cell_type": "code",
   "execution_count": 188,
   "id": "3d9992ce-df48-4b95-a278-9c6617e2ca31",
   "metadata": {},
   "outputs": [
    {
     "data": {
      "text/latex": [
       "$\\displaystyle v{\\left(a \\right)} = C_{1} + C_{2} a + \\begin{cases} \\frac{P a^{3} b}{6 E I L} & \\text{for}\\: a \\geq 0 \\wedge a > a \\\\\\frac{P a^{3}}{3 E I} + \\frac{P a^{3} b}{6 E I L} & \\text{for}\\: a \\leq a \\wedge L > a \\end{cases}$"
      ],
      "text/plain": [
       "Eq(v(a), C1 + C2*a + Piecewise((P*a**3*b/(6*E*I*L), (a >= 0) & (a > a)), (P*a**3/(3*E*I) + P*a**3*b/(6*E*I*L), (a <= a) & (L > a))))"
      ]
     },
     "execution_count": 188,
     "metadata": {},
     "output_type": "execute_result"
    }
   ],
   "source": [
    "v_beam.subs(x, a)"
   ]
  },
  {
   "cell_type": "code",
   "execution_count": null,
   "id": "db3037b5-2d21-4638-ba54-6dca08c5725b",
   "metadata": {},
   "outputs": [],
   "source": []
  },
  {
   "cell_type": "code",
   "execution_count": null,
   "id": "aa076872-cced-4063-85a0-666ed6efcb96",
   "metadata": {},
   "outputs": [],
   "source": []
  },
  {
   "cell_type": "code",
   "execution_count": null,
   "id": "a207f1fa-d15f-4602-b980-9d7bbc7c7199",
   "metadata": {},
   "outputs": [],
   "source": []
  },
  {
   "cell_type": "code",
   "execution_count": 157,
   "id": "6861980d-c30b-49b3-91fd-614a48bd262c",
   "metadata": {},
   "outputs": [
    {
     "data": {
      "text/latex": [
       "$\\displaystyle v{\\left(x \\right)} = C_{1} + C_{2} x + \\frac{P b x^{3}}{6 E I L}$"
      ],
      "text/plain": [
       "Eq(v(x), C1 + C2*x + P*b*x**3/(6*E*I*L))"
      ]
     },
     "execution_count": 157,
     "metadata": {},
     "output_type": "execute_result"
    }
   ],
   "source": [
    "v_left = sym.dsolve(E*I*sym.diff(v(x),x,2)-M_left)\n",
    "v_left"
   ]
  },
  {
   "cell_type": "code",
   "execution_count": 159,
   "id": "9fd521e4-05b2-49e4-9bd1-2d489540f156",
   "metadata": {},
   "outputs": [
    {
     "data": {
      "text/latex": [
       "$\\displaystyle v{\\left(x \\right)} = C_{1} + C_{2} x + \\frac{P a x^{2}}{2 E I} + \\frac{P x^{3} \\left(-1 + \\frac{b}{L}\\right)}{6 E I}$"
      ],
      "text/plain": [
       "Eq(v(x), C1 + C2*x + P*a*x**2/(2*E*I) + P*x**3*(-1 + b/L)/(6*E*I))"
      ]
     },
     "execution_count": 159,
     "metadata": {},
     "output_type": "execute_result"
    }
   ],
   "source": [
    "v_right = sym.dsolve(E*I*sym.diff(v(x),x,2)-M_right)\n",
    "v_right"
   ]
  },
  {
   "cell_type": "code",
   "execution_count": 160,
   "id": "8dfebde3-d1f8-489a-9203-bd18e67937fc",
   "metadata": {},
   "outputs": [
    {
     "data": {
      "text/latex": [
       "$\\displaystyle C_{2} + \\frac{P a x}{E I} + \\frac{P x^{2} \\left(-1 + \\frac{b}{L}\\right)}{2 E I}$"
      ],
      "text/plain": [
       "C2 + P*a*x/(E*I) + P*x**2*(-1 + b/L)/(2*E*I)"
      ]
     },
     "execution_count": 160,
     "metadata": {},
     "output_type": "execute_result"
    }
   ],
   "source": [
    "theta_right = sym.diff(v_right.args[1], x)\n",
    "theta_right"
   ]
  },
  {
   "cell_type": "code",
   "execution_count": null,
   "id": "9a5b1cbd-982a-48f7-b920-29ac273f1424",
   "metadata": {},
   "outputs": [],
   "source": []
  },
  {
   "cell_type": "code",
   "execution_count": null,
   "id": "482faf9f-3771-4ad1-83a6-4f27d588faa0",
   "metadata": {},
   "outputs": [],
   "source": []
  },
  {
   "cell_type": "code",
   "execution_count": 146,
   "id": "1d39f6ee-ff08-45ec-9bf2-fe9988f3bebe",
   "metadata": {},
   "outputs": [
    {
     "name": "stdout",
     "output_type": "stream",
     "text": [
      "     2\n",
      "P⋅b⋅x \n",
      "──────\n",
      " 2⋅L  \n",
      "         2             \n",
      "        x ⋅(-L⋅P + P⋅b)\n",
      "P⋅a⋅x + ───────────────\n",
      "              2⋅L      \n"
     ]
    }
   ],
   "source": [
    "# Slope/Rotation\n",
    "C1 = sym.symbols('C1')\n",
    "C2 = sym.symbols('C2')\n",
    "theta_left = sym.integrate(kappa_left, x)\n",
    "theta_right = sym.integrate(kappa_right, x)\n",
    "sym.pprint(theta_left)\n",
    "sym.pprint(theta_right)"
   ]
  },
  {
   "cell_type": "code",
   "execution_count": 138,
   "id": "da19e666-4ea1-4799-9551-62b22f2d50aa",
   "metadata": {},
   "outputs": [
    {
     "name": "stdout",
     "output_type": "stream",
     "text": [
      "                 3\n",
      "            P⋅b⋅x \n",
      "C₁⋅x + C₃ + ──────\n",
      "             6⋅L  \n",
      "                 2    3             \n",
      "            P⋅a⋅x    x ⋅(-L⋅P + P⋅b)\n",
      "C₂⋅x + C₄ + ────── + ───────────────\n",
      "              2            6⋅L      \n"
     ]
    }
   ],
   "source": [
    "# Displacement\n",
    "C3 = sym.symbols('C3')\n",
    "C4 = sym.symbols('C4')\n",
    "v_left = sym.integrate(theta_left, x) + C3\n",
    "v_right = sym.integrate(theta_right, x) + C4\n",
    "sym.pprint(v_left)\n",
    "sym.pprint(v_right)"
   ]
  },
  {
   "cell_type": "code",
   "execution_count": 140,
   "id": "6e211e5a-ecea-49cd-a072-94f9ac3bdade",
   "metadata": {},
   "outputs": [],
   "source": [
    "# Solve for constants\n",
    "\n",
    "# At x=a the slopes (theta) are equal\n",
    "C1 = sym.solve(theta_left.subs({'x':a, 'b': L-a})-theta_right.subs({'x':a, 'b': L-a}), C1)\n",
    "C2 = sym.solve(theta_left.subs({'x':a, 'b': L-a})-theta_right.subs({'x':a, 'b': L-a}), C2)"
   ]
  },
  {
   "cell_type": "code",
   "execution_count": 141,
   "id": "13753a19-640d-4379-9f3a-dcb399fc6376",
   "metadata": {},
   "outputs": [
    {
     "data": {
      "text/plain": [
       "[C2 + P*a**2/2]"
      ]
     },
     "execution_count": 141,
     "metadata": {},
     "output_type": "execute_result"
    }
   ],
   "source": [
    "C1"
   ]
  },
  {
   "cell_type": "code",
   "execution_count": 82,
   "id": "60e146e1-d91f-45ef-a2b1-054118a8910a",
   "metadata": {},
   "outputs": [
    {
     "data": {
      "text/latex": [
       "$\\displaystyle - P \\left(- a + x\\right) + \\frac{P x \\left(L - a\\right)}{L}$"
      ],
      "text/plain": [
       "-P*(-a + x) + P*x*(L - a)/L"
      ]
     },
     "execution_count": 82,
     "metadata": {},
     "output_type": "execute_result"
    }
   ],
   "source": [
    "M_right"
   ]
  },
  {
   "cell_type": "code",
   "execution_count": 83,
   "id": "90176670-d737-4659-9fe9-25ee591ec6e9",
   "metadata": {},
   "outputs": [
    {
     "data": {
      "text/latex": [
       "$\\displaystyle \\frac{P x \\left(L - a\\right)}{E I L}$"
      ],
      "text/plain": [
       "P*x*(L - a)/(E*I*L)"
      ]
     },
     "execution_count": 83,
     "metadata": {},
     "output_type": "execute_result"
    }
   ],
   "source": [
    "kappa_left"
   ]
  },
  {
   "cell_type": "code",
   "execution_count": 84,
   "id": "0d9bcc9c-3f3d-4991-a8c4-44a9765f3242",
   "metadata": {},
   "outputs": [
    {
     "data": {
      "text/latex": [
       "$\\displaystyle \\frac{- P \\left(- a + x\\right) + \\frac{P x \\left(L - a\\right)}{L}}{E I}$"
      ],
      "text/plain": [
       "(-P*(-a + x) + P*x*(L - a)/L)/(E*I)"
      ]
     },
     "execution_count": 84,
     "metadata": {},
     "output_type": "execute_result"
    }
   ],
   "source": [
    "kappa_right"
   ]
  },
  {
   "cell_type": "code",
   "execution_count": 85,
   "id": "a7b352e7-6a95-4655-8306-d57e7e223917",
   "metadata": {},
   "outputs": [
    {
     "data": {
      "text/latex": [
       "$\\displaystyle C_{1} + \\frac{x^{2} \\left(L P - P a\\right)}{2 E I L}$"
      ],
      "text/plain": [
       "C1 + x**2*(L*P - P*a)/(2*E*I*L)"
      ]
     },
     "execution_count": 85,
     "metadata": {},
     "output_type": "execute_result"
    }
   ],
   "source": [
    "theta_left"
   ]
  },
  {
   "cell_type": "code",
   "execution_count": 86,
   "id": "ab79f57a-cf4c-4f83-8756-bf03f6106b59",
   "metadata": {},
   "outputs": [
    {
     "data": {
      "text/latex": [
       "$\\displaystyle C_{2} + \\frac{P a x}{E I} - \\frac{P a x^{2}}{2 E I L}$"
      ],
      "text/plain": [
       "C2 + P*a*x/(E*I) - P*a*x**2/(2*E*I*L)"
      ]
     },
     "execution_count": 86,
     "metadata": {},
     "output_type": "execute_result"
    }
   ],
   "source": [
    "theta_right"
   ]
  },
  {
   "cell_type": "code",
   "execution_count": 87,
   "id": "2d7625ee-24ca-4f45-9562-a0476bc46bbd",
   "metadata": {},
   "outputs": [
    {
     "data": {
      "text/latex": [
       "$\\displaystyle C_{1} x + C_{3} + \\frac{x^{3} \\left(L P - P a\\right)}{6 E I L}$"
      ],
      "text/plain": [
       "C1*x + C3 + x**3*(L*P - P*a)/(6*E*I*L)"
      ]
     },
     "execution_count": 87,
     "metadata": {},
     "output_type": "execute_result"
    }
   ],
   "source": [
    "v_left"
   ]
  },
  {
   "cell_type": "code",
   "execution_count": 88,
   "id": "a1db7af5-8686-4ff1-bb77-990c1b31276b",
   "metadata": {},
   "outputs": [
    {
     "data": {
      "text/latex": [
       "$\\displaystyle C_{2} x + C_{4} + \\frac{P a x^{2}}{2 E I} - \\frac{P a x^{3}}{6 E I L}$"
      ],
      "text/plain": [
       "C2*x + C4 + P*a*x**2/(2*E*I) - P*a*x**3/(6*E*I*L)"
      ]
     },
     "execution_count": 88,
     "metadata": {},
     "output_type": "execute_result"
    }
   ],
   "source": [
    "v_right"
   ]
  },
  {
   "cell_type": "code",
   "execution_count": null,
   "id": "048d1634-220d-4ae0-9c99-5e82187c91f1",
   "metadata": {},
   "outputs": [],
   "source": []
  },
  {
   "cell_type": "code",
   "execution_count": null,
   "id": "745460a2-7e25-4b7d-996a-63776a8ac594",
   "metadata": {},
   "outputs": [],
   "source": []
  }
 ],
 "metadata": {
  "kernelspec": {
   "display_name": "Python 3 (ipykernel)",
   "language": "python",
   "name": "python3"
  },
  "language_info": {
   "codemirror_mode": {
    "name": "ipython",
    "version": 3
   },
   "file_extension": ".py",
   "mimetype": "text/x-python",
   "name": "python",
   "nbconvert_exporter": "python",
   "pygments_lexer": "ipython3",
   "version": "3.10.5"
  }
 },
 "nbformat": 4,
 "nbformat_minor": 5
}
